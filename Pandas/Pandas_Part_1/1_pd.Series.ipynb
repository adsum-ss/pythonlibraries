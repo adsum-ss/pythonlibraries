{
 "cells": [
  {
   "cell_type": "code",
   "execution_count": 1,
   "id": "ea185a54",
   "metadata": {},
   "outputs": [],
   "source": [
    "import pandas as pd\n",
    "import numpy as np"
   ]
  },
  {
   "cell_type": "code",
   "execution_count": 4,
   "id": "efcb35ad",
   "metadata": {},
   "outputs": [
    {
     "data": {
      "text/plain": [
       "0      Max\n",
       "1    Payne\n",
       "2       29\n",
       "3      USA\n",
       "4      182\n",
       "dtype: object"
      ]
     },
     "execution_count": 4,
     "metadata": {},
     "output_type": "execute_result"
    }
   ],
   "source": [
    "series = pd.Series((\"Max\", \"Payne\", 29, \"USA\", 182))\n",
    "series"
   ]
  },
  {
   "cell_type": "code",
   "execution_count": 5,
   "id": "667a1aee",
   "metadata": {},
   "outputs": [
    {
     "data": {
      "text/plain": [
       "0    11\n",
       "1    21\n",
       "2    13\n",
       "3    41\n",
       "4    15\n",
       "5    61\n",
       "dtype: int64"
      ]
     },
     "execution_count": 5,
     "metadata": {},
     "output_type": "execute_result"
    }
   ],
   "source": [
    "series = pd.Series([11,21,13,41,15,61])\n",
    "series"
   ]
  },
  {
   "cell_type": "code",
   "execution_count": 9,
   "id": "8f06a536",
   "metadata": {},
   "outputs": [
    {
     "data": {
      "text/plain": [
       "0   -0.480744\n",
       "1    0.956010\n",
       "2   -0.579369\n",
       "3    0.615299\n",
       "4   -0.129950\n",
       "dtype: float64"
      ]
     },
     "execution_count": 9,
     "metadata": {},
     "output_type": "execute_result"
    }
   ],
   "source": [
    "series = pd.Series(np.random.randn(5))\n",
    "series"
   ]
  },
  {
   "cell_type": "code",
   "execution_count": 10,
   "id": "b175c7a0",
   "metadata": {},
   "outputs": [
    {
     "data": {
      "text/plain": [
       "0    c\n",
       "1    l\n",
       "2    a\n",
       "3    r\n",
       "4    u\n",
       "5    s\n",
       "6    w\n",
       "7    a\n",
       "8    y\n",
       "dtype: object"
      ]
     },
     "execution_count": 10,
     "metadata": {},
     "output_type": "execute_result"
    }
   ],
   "source": [
    "series = pd.Series(list(\"clarusway\"))\n",
    "series"
   ]
  },
  {
   "cell_type": "code",
   "execution_count": 11,
   "id": "5ab79b4d",
   "metadata": {},
   "outputs": [
    {
     "data": {
      "text/plain": [
       "D    55\n",
       "E    80\n",
       "C    75\n",
       "A    70\n",
       "B    65\n",
       "dtype: int64"
      ]
     },
     "execution_count": 11,
     "metadata": {},
     "output_type": "execute_result"
    }
   ],
   "source": [
    "dict1 = {\"D\": 55, \"E\": 80, \"C\": 75, \"A\": 70, \"B\": 65}\n",
    "pd.Series(dict1)"
   ]
  },
  {
   "cell_type": "code",
   "execution_count": 14,
   "id": "554ba179",
   "metadata": {},
   "outputs": [
    {
     "data": {
      "text/plain": [
       "{2, 3, 4, 5, 6, 7, 8, 12, 23, 24}"
      ]
     },
     "execution_count": 14,
     "metadata": {},
     "output_type": "execute_result"
    }
   ],
   "source": [
    "set1 = set((3,2,5,5,8,24,12,7,6,4,23,8,2))\n",
    "set1"
   ]
  },
  {
   "cell_type": "code",
   "execution_count": 17,
   "id": "bf71aab6",
   "metadata": {},
   "outputs": [
    {
     "data": {
      "text/plain": [
       "0     2\n",
       "1     3\n",
       "2     4\n",
       "3     5\n",
       "4     6\n",
       "5     7\n",
       "6     8\n",
       "7    12\n",
       "8    23\n",
       "9    24\n",
       "dtype: int64"
      ]
     },
     "execution_count": 17,
     "metadata": {},
     "output_type": "execute_result"
    }
   ],
   "source": [
    "pd.Series(list(set1))"
   ]
  },
  {
   "cell_type": "code",
   "execution_count": 18,
   "id": "6ee4fdf5",
   "metadata": {},
   "outputs": [
    {
     "data": {
      "text/plain": [
       "x     paris\n",
       "y    london\n",
       "z    ankara\n",
       "dtype: object"
      ]
     },
     "execution_count": 18,
     "metadata": {},
     "output_type": "execute_result"
    }
   ],
   "source": [
    "data = [\"paris\", \"london\", \"ankara\"]\n",
    "index = [\"x\", \"y\", \"z\"]  # label\n",
    "\n",
    "pd.Series(data, index)"
   ]
  },
  {
   "cell_type": "code",
   "execution_count": 19,
   "id": "254f41b3",
   "metadata": {},
   "outputs": [
    {
     "data": {
      "text/plain": [
       "D    70.0\n",
       "E    60.0\n",
       "C    90.0\n",
       "A    85.0\n",
       "B    99.5\n",
       "dtype: float64"
      ]
     },
     "execution_count": 19,
     "metadata": {},
     "output_type": "execute_result"
    }
   ],
   "source": [
    "pd.Series([70, 60, 90, 85, 99.5],\n",
    "          [\"D\", \"E\", \"C\", \"A\", \"B\"])"
   ]
  },
  {
   "cell_type": "code",
   "execution_count": 20,
   "id": "42d2a0e7",
   "metadata": {},
   "outputs": [
    {
     "data": {
      "text/plain": [
       "USA        1\n",
       "Germany    2\n",
       "Italy      5\n",
       "Japan      4\n",
       "dtype: int64"
      ]
     },
     "execution_count": 20,
     "metadata": {},
     "output_type": "execute_result"
    }
   ],
   "source": [
    "pd.Series([1,2,5,4], index = ['USA', 'Germany','Italy', 'Japan'])"
   ]
  },
  {
   "cell_type": "code",
   "execution_count": 2,
   "id": "14ac32ab",
   "metadata": {},
   "outputs": [
    {
     "data": {
      "text/plain": [
       "0                             7\n",
       "1                           dog\n",
       "2                         False\n",
       "3    <built-in function arange>\n",
       "dtype: object"
      ]
     },
     "execution_count": 2,
     "metadata": {},
     "output_type": "execute_result"
    }
   ],
   "source": [
    "mix_data = [7, \"dog\", False, np.arange]\n",
    "pd.Series(mix_data)"
   ]
  },
  {
   "cell_type": "markdown",
   "id": "34815321",
   "metadata": {},
   "source": [
    "## Series Basics"
   ]
  },
  {
   "cell_type": "code",
   "execution_count": 95,
   "id": "39a50cdd",
   "metadata": {},
   "outputs": [
    {
     "data": {
      "text/plain": [
       "John      36\n",
       "Ashley    44\n",
       "Matt      25\n",
       "Jason     27\n",
       "Robert    32\n",
       "David     40\n",
       "dtype: int64"
      ]
     },
     "execution_count": 95,
     "metadata": {},
     "output_type": "execute_result"
    }
   ],
   "source": [
    "people = pd.Series(data = [36, 44, 25, 27, 32, 40], index = [\"John\", \"Ashley\", \"Matt\", \"Jason\", \"Robert\", \"David\"])\n",
    "people"
   ]
  },
  {
   "cell_type": "code",
   "execution_count": 144,
   "id": "c4ef29cf",
   "metadata": {},
   "outputs": [
    {
     "data": {
      "text/plain": [
       "dtype('int64')"
      ]
     },
     "execution_count": 144,
     "metadata": {},
     "output_type": "execute_result"
    }
   ],
   "source": [
    "np.dtype(people)"
   ]
  },
  {
   "cell_type": "code",
   "execution_count": 97,
   "id": "661485a6",
   "metadata": {},
   "outputs": [
    {
     "data": {
      "text/plain": [
       "pandas.core.series.Series"
      ]
     },
     "execution_count": 97,
     "metadata": {},
     "output_type": "execute_result"
    }
   ],
   "source": [
    "type(people)"
   ]
  },
  {
   "cell_type": "code",
   "execution_count": 98,
   "id": "58c18329",
   "metadata": {},
   "outputs": [
    {
     "data": {
      "text/plain": [
       "count     6.000000\n",
       "mean     34.000000\n",
       "std       7.402702\n",
       "min      25.000000\n",
       "25%      28.250000\n",
       "50%      34.000000\n",
       "75%      39.000000\n",
       "max      44.000000\n",
       "dtype: float64"
      ]
     },
     "execution_count": 98,
     "metadata": {},
     "output_type": "execute_result"
    }
   ],
   "source": [
    "people.describe()"
   ]
  },
  {
   "cell_type": "code",
   "execution_count": 99,
   "id": "6cfd5821",
   "metadata": {},
   "outputs": [
    {
     "data": {
      "text/plain": [
       "(6,)"
      ]
     },
     "execution_count": 99,
     "metadata": {},
     "output_type": "execute_result"
    }
   ],
   "source": [
    "people.shape"
   ]
  },
  {
   "cell_type": "code",
   "execution_count": 100,
   "id": "8386b8f4",
   "metadata": {},
   "outputs": [
    {
     "data": {
      "text/plain": [
       "6"
      ]
     },
     "execution_count": 100,
     "metadata": {},
     "output_type": "execute_result"
    }
   ],
   "source": [
    "people.size"
   ]
  },
  {
   "cell_type": "code",
   "execution_count": 101,
   "id": "f3b3701e",
   "metadata": {},
   "outputs": [
    {
     "data": {
      "text/plain": [
       "6"
      ]
     },
     "execution_count": 101,
     "metadata": {},
     "output_type": "execute_result"
    }
   ],
   "source": [
    "len(people)"
   ]
  },
  {
   "cell_type": "code",
   "execution_count": 102,
   "id": "3f85d30a",
   "metadata": {},
   "outputs": [
    {
     "data": {
      "text/plain": [
       "1"
      ]
     },
     "execution_count": 102,
     "metadata": {},
     "output_type": "execute_result"
    }
   ],
   "source": [
    "people.ndim"
   ]
  },
  {
   "cell_type": "code",
   "execution_count": 103,
   "id": "d116e32b",
   "metadata": {},
   "outputs": [
    {
     "data": {
      "text/plain": [
       "array([36, 44, 25, 27, 32, 40], dtype=int64)"
      ]
     },
     "execution_count": 103,
     "metadata": {},
     "output_type": "execute_result"
    }
   ],
   "source": [
    "people.values"
   ]
  },
  {
   "cell_type": "code",
   "execution_count": 104,
   "id": "a170c9f1",
   "metadata": {},
   "outputs": [
    {
     "data": {
      "text/plain": [
       "44"
      ]
     },
     "execution_count": 104,
     "metadata": {},
     "output_type": "execute_result"
    }
   ],
   "source": [
    "people.values.max()\n",
    "# people.max()"
   ]
  },
  {
   "cell_type": "code",
   "execution_count": 105,
   "id": "ca3c913d",
   "metadata": {},
   "outputs": [
    {
     "data": {
      "text/plain": [
       "25"
      ]
     },
     "execution_count": 105,
     "metadata": {},
     "output_type": "execute_result"
    }
   ],
   "source": [
    "people.values.min()\n",
    "# people.min()"
   ]
  },
  {
   "cell_type": "code",
   "execution_count": 106,
   "id": "bd971858",
   "metadata": {},
   "outputs": [
    {
     "data": {
      "text/plain": [
       "204"
      ]
     },
     "execution_count": 106,
     "metadata": {},
     "output_type": "execute_result"
    }
   ],
   "source": [
    "people.values.sum()\n",
    "# people.sum()"
   ]
  },
  {
   "cell_type": "code",
   "execution_count": 107,
   "id": "8f8f0bd0",
   "metadata": {},
   "outputs": [
    {
     "data": {
      "text/plain": [
       "34.0"
      ]
     },
     "execution_count": 107,
     "metadata": {},
     "output_type": "execute_result"
    }
   ],
   "source": [
    "# people.values.mean()\n",
    "people.mean()"
   ]
  },
  {
   "cell_type": "code",
   "execution_count": 108,
   "id": "6319712b",
   "metadata": {},
   "outputs": [
    {
     "data": {
      "text/plain": [
       "[36, 44, 25, 27, 32, 40]"
      ]
     },
     "execution_count": 108,
     "metadata": {},
     "output_type": "execute_result"
    }
   ],
   "source": [
    "[i for i in people.values]"
   ]
  },
  {
   "cell_type": "code",
   "execution_count": 110,
   "id": "83b41b8a",
   "metadata": {},
   "outputs": [
    {
     "data": {
      "text/plain": [
       "Index(['John', 'Ashley', 'Matt', 'Jason', 'Robert', 'David'], dtype='object')"
      ]
     },
     "execution_count": 110,
     "metadata": {},
     "output_type": "execute_result"
    }
   ],
   "source": [
    "people.index"
   ]
  },
  {
   "cell_type": "code",
   "execution_count": 111,
   "id": "9bec4a4b",
   "metadata": {},
   "outputs": [
    {
     "data": {
      "text/plain": [
       "Index(['John', 'Ashley', 'Matt', 'Jason', 'Robert', 'David'], dtype='object')"
      ]
     },
     "execution_count": 111,
     "metadata": {},
     "output_type": "execute_result"
    }
   ],
   "source": [
    "people.keys()"
   ]
  },
  {
   "cell_type": "code",
   "execution_count": 112,
   "id": "1342bd76",
   "metadata": {},
   "outputs": [
    {
     "data": {
      "text/plain": [
       "<bound method Series.keys of John      36\n",
       "Ashley    44\n",
       "Matt      25\n",
       "Jason     27\n",
       "Robert    32\n",
       "David     40\n",
       "dtype: int64>"
      ]
     },
     "execution_count": 112,
     "metadata": {},
     "output_type": "execute_result"
    }
   ],
   "source": [
    "people.keys"
   ]
  },
  {
   "cell_type": "code",
   "execution_count": 113,
   "id": "c01dbc4d",
   "metadata": {},
   "outputs": [
    {
     "data": {
      "text/plain": [
       "<bound method Series.items of John      36\n",
       "Ashley    44\n",
       "Matt      25\n",
       "Jason     27\n",
       "Robert    32\n",
       "David     40\n",
       "dtype: int64>"
      ]
     },
     "execution_count": 113,
     "metadata": {},
     "output_type": "execute_result"
    }
   ],
   "source": [
    "people.items"
   ]
  },
  {
   "cell_type": "code",
   "execution_count": 114,
   "id": "21af6617",
   "metadata": {},
   "outputs": [
    {
     "data": {
      "text/plain": [
       "<zip at 0x2366cc21dc0>"
      ]
     },
     "execution_count": 114,
     "metadata": {},
     "output_type": "execute_result"
    }
   ],
   "source": [
    "people.items()"
   ]
  },
  {
   "cell_type": "code",
   "execution_count": 115,
   "id": "763297e9",
   "metadata": {},
   "outputs": [
    {
     "data": {
      "text/plain": [
       "[('John', 36),\n",
       " ('Ashley', 44),\n",
       " ('Matt', 25),\n",
       " ('Jason', 27),\n",
       " ('Robert', 32),\n",
       " ('David', 40)]"
      ]
     },
     "execution_count": 115,
     "metadata": {},
     "output_type": "execute_result"
    }
   ],
   "source": [
    "list(people.items())"
   ]
  },
  {
   "cell_type": "code",
   "execution_count": 116,
   "id": "f534f26a",
   "metadata": {},
   "outputs": [
    {
     "name": "stdout",
     "output_type": "stream",
     "text": [
      "key:  John \t value:  36\n",
      "key:  Ashley \t value:  44\n",
      "key:  Matt \t value:  25\n",
      "key:  Jason \t value:  27\n",
      "key:  Robert \t value:  32\n",
      "key:  David \t value:  40\n"
     ]
    }
   ],
   "source": [
    "for key, value in people.items():\n",
    "    print(\"key: \", key, \"\\t value: \", value)"
   ]
  },
  {
   "cell_type": "code",
   "execution_count": 117,
   "id": "4cc04681",
   "metadata": {},
   "outputs": [
    {
     "data": {
      "text/plain": [
       "John      36\n",
       "Ashley    44\n",
       "Matt      25\n",
       "Jason     27\n",
       "Robert    32\n",
       "dtype: int64"
      ]
     },
     "execution_count": 117,
     "metadata": {},
     "output_type": "execute_result"
    }
   ],
   "source": [
    "people.head()"
   ]
  },
  {
   "cell_type": "code",
   "execution_count": 118,
   "id": "490ddaf4",
   "metadata": {},
   "outputs": [
    {
     "data": {
      "text/plain": [
       "Jason     27\n",
       "Robert    32\n",
       "David     40\n",
       "dtype: int64"
      ]
     },
     "execution_count": 118,
     "metadata": {},
     "output_type": "execute_result"
    }
   ],
   "source": [
    "people.tail(3)"
   ]
  },
  {
   "cell_type": "code",
   "execution_count": 119,
   "id": "a807dabd",
   "metadata": {},
   "outputs": [
    {
     "data": {
      "text/plain": [
       "John      36\n",
       "Ashley    44\n",
       "Matt      25\n",
       "Jason     27\n",
       "Robert    32\n",
       "David     40\n",
       "dtype: int64"
      ]
     },
     "execution_count": 119,
     "metadata": {},
     "output_type": "execute_result"
    }
   ],
   "source": [
    "people"
   ]
  },
  {
   "cell_type": "code",
   "execution_count": 120,
   "id": "91c12526",
   "metadata": {},
   "outputs": [
    {
     "data": {
      "text/plain": [
       "Ashley    44\n",
       "David     40\n",
       "Jason     27\n",
       "John      36\n",
       "Matt      25\n",
       "Robert    32\n",
       "dtype: int64"
      ]
     },
     "execution_count": 120,
     "metadata": {},
     "output_type": "execute_result"
    }
   ],
   "source": [
    "people.sort_index()"
   ]
  },
  {
   "cell_type": "code",
   "execution_count": 121,
   "id": "e3f8b947",
   "metadata": {},
   "outputs": [
    {
     "data": {
      "text/plain": [
       "Matt      25\n",
       "Jason     27\n",
       "Robert    32\n",
       "John      36\n",
       "David     40\n",
       "Ashley    44\n",
       "dtype: int64"
      ]
     },
     "execution_count": 121,
     "metadata": {},
     "output_type": "execute_result"
    }
   ],
   "source": [
    "people.sort_values()"
   ]
  },
  {
   "cell_type": "code",
   "execution_count": 122,
   "id": "9be52e36",
   "metadata": {},
   "outputs": [
    {
     "data": {
      "text/plain": [
       "25"
      ]
     },
     "execution_count": 122,
     "metadata": {},
     "output_type": "execute_result"
    }
   ],
   "source": [
    "people[\"Matt\"]"
   ]
  },
  {
   "cell_type": "code",
   "execution_count": 123,
   "id": "09af8dee",
   "metadata": {},
   "outputs": [
    {
     "data": {
      "text/plain": [
       "27"
      ]
     },
     "execution_count": 123,
     "metadata": {},
     "output_type": "execute_result"
    }
   ],
   "source": [
    "people.Jason"
   ]
  },
  {
   "cell_type": "code",
   "execution_count": 124,
   "id": "b95a2010",
   "metadata": {},
   "outputs": [
    {
     "data": {
      "text/plain": [
       "Ashley    44\n",
       "David     40\n",
       "dtype: int64"
      ]
     },
     "execution_count": 124,
     "metadata": {},
     "output_type": "execute_result"
    }
   ],
   "source": [
    "people[[\"Ashley\", \"David\"]]  # use square brackets for multi index"
   ]
  },
  {
   "cell_type": "code",
   "execution_count": 125,
   "id": "cede71b8",
   "metadata": {},
   "outputs": [
    {
     "data": {
      "text/plain": [
       "Ashley    44\n",
       "Jason     27\n",
       "dtype: int64"
      ]
     },
     "execution_count": 125,
     "metadata": {},
     "output_type": "execute_result"
    }
   ],
   "source": [
    "people[[1,3]]"
   ]
  },
  {
   "cell_type": "code",
   "execution_count": 126,
   "id": "6f4748f8",
   "metadata": {},
   "outputs": [
    {
     "data": {
      "text/plain": [
       "John      36\n",
       "Ashley    44\n",
       "Matt      25\n",
       "Jason     27\n",
       "dtype: int64"
      ]
     },
     "execution_count": 126,
     "metadata": {},
     "output_type": "execute_result"
    }
   ],
   "source": [
    "people[0:4]"
   ]
  },
  {
   "cell_type": "code",
   "execution_count": 127,
   "id": "0b9a7e0c",
   "metadata": {},
   "outputs": [
    {
     "data": {
      "text/plain": [
       "John      36\n",
       "Ashley    44\n",
       "Matt      25\n",
       "Jason     27\n",
       "dtype: int64"
      ]
     },
     "execution_count": 127,
     "metadata": {},
     "output_type": "execute_result"
    }
   ],
   "source": [
    "people[\"John\":\"Jason\"]  # don't use square brackets twice when slicing"
   ]
  },
  {
   "cell_type": "code",
   "execution_count": 128,
   "id": "1ad64fae",
   "metadata": {},
   "outputs": [
    {
     "data": {
      "text/plain": [
       "27"
      ]
     },
     "execution_count": 128,
     "metadata": {},
     "output_type": "execute_result"
    }
   ],
   "source": [
    "people.values[3]\n",
    "# (people.values)[3]"
   ]
  },
  {
   "cell_type": "code",
   "execution_count": 129,
   "id": "cf00675c",
   "metadata": {},
   "outputs": [
    {
     "data": {
      "text/plain": [
       "array([36, 44, 25], dtype=int64)"
      ]
     },
     "execution_count": 129,
     "metadata": {},
     "output_type": "execute_result"
    }
   ],
   "source": [
    "people.values[0:3]"
   ]
  },
  {
   "cell_type": "code",
   "execution_count": 130,
   "id": "289437a5",
   "metadata": {},
   "outputs": [
    {
     "data": {
      "text/plain": [
       "True"
      ]
     },
     "execution_count": 130,
     "metadata": {},
     "output_type": "execute_result"
    }
   ],
   "source": [
    "people.is_unique"
   ]
  },
  {
   "cell_type": "code",
   "execution_count": 131,
   "id": "2b9a1586",
   "metadata": {},
   "outputs": [
    {
     "data": {
      "text/plain": [
       "True"
      ]
     },
     "execution_count": 131,
     "metadata": {},
     "output_type": "execute_result"
    }
   ],
   "source": [
    "\"John\" in people  # only searches in \"keys\""
   ]
  },
  {
   "cell_type": "code",
   "execution_count": 132,
   "id": "4c9e9e41",
   "metadata": {},
   "outputs": [
    {
     "data": {
      "text/plain": [
       "False"
      ]
     },
     "execution_count": 132,
     "metadata": {},
     "output_type": "execute_result"
    }
   ],
   "source": [
    "36 in people"
   ]
  },
  {
   "cell_type": "code",
   "execution_count": 133,
   "id": "c3f85456",
   "metadata": {},
   "outputs": [
    {
     "data": {
      "text/plain": [
       "True"
      ]
     },
     "execution_count": 133,
     "metadata": {},
     "output_type": "execute_result"
    }
   ],
   "source": [
    "36 in people.values"
   ]
  },
  {
   "cell_type": "code",
   "execution_count": 134,
   "id": "ccc8b192",
   "metadata": {},
   "outputs": [
    {
     "data": {
      "text/plain": [
       "John      False\n",
       "Ashley    False\n",
       "Matt      False\n",
       "Jason     False\n",
       "Robert    False\n",
       "David     False\n",
       "dtype: bool"
      ]
     },
     "execution_count": 134,
     "metadata": {},
     "output_type": "execute_result"
    }
   ],
   "source": [
    "people.isin([\"John\"])  # only searches in \"values\"\n",
    "\n",
    "# only list-like objects are allowed to be passed to isin()"
   ]
  },
  {
   "cell_type": "code",
   "execution_count": 135,
   "id": "d48fc162",
   "metadata": {},
   "outputs": [
    {
     "data": {
      "text/plain": [
       "Ashley    44\n",
       "Jason     27\n",
       "dtype: int64"
      ]
     },
     "execution_count": 135,
     "metadata": {},
     "output_type": "execute_result"
    }
   ],
   "source": [
    "people[people.isin([44, 27])]  "
   ]
  },
  {
   "cell_type": "code",
   "execution_count": 136,
   "id": "8bf8c056",
   "metadata": {},
   "outputs": [
    {
     "data": {
      "text/plain": [
       "John      36\n",
       "Ashley    44\n",
       "Matt      25\n",
       "Jason     50\n",
       "Robert    32\n",
       "David     40\n",
       "dtype: int64"
      ]
     },
     "execution_count": 136,
     "metadata": {},
     "output_type": "execute_result"
    }
   ],
   "source": [
    "# people[\"Jason\"] = 50\n",
    "people.Jason = 50\n",
    "people"
   ]
  },
  {
   "cell_type": "code",
   "execution_count": 137,
   "id": "4cae7feb",
   "metadata": {},
   "outputs": [
    {
     "data": {
      "text/plain": [
       "John       True\n",
       "Ashley     True\n",
       "Matt      False\n",
       "Jason      True\n",
       "Robert    False\n",
       "David      True\n",
       "dtype: bool"
      ]
     },
     "execution_count": 137,
     "metadata": {},
     "output_type": "execute_result"
    }
   ],
   "source": [
    "people >= 36"
   ]
  },
  {
   "cell_type": "code",
   "execution_count": 138,
   "id": "e272e586",
   "metadata": {},
   "outputs": [
    {
     "data": {
      "text/plain": [
       "John      36\n",
       "Ashley    44\n",
       "Jason     50\n",
       "David     40\n",
       "dtype: int64"
      ]
     },
     "execution_count": 138,
     "metadata": {},
     "output_type": "execute_result"
    }
   ],
   "source": [
    "people[people >= 36]"
   ]
  },
  {
   "cell_type": "code",
   "execution_count": 139,
   "id": "8282b171",
   "metadata": {},
   "outputs": [
    {
     "data": {
      "text/plain": [
       "John      20\n",
       "Ashley    20\n",
       "Matt      25\n",
       "Jason     20\n",
       "Robert    32\n",
       "David     20\n",
       "dtype: int64"
      ]
     },
     "execution_count": 139,
     "metadata": {},
     "output_type": "execute_result"
    }
   ],
   "source": [
    "people[people >= 36] = 20\n",
    "people"
   ]
  },
  {
   "cell_type": "code",
   "execution_count": 140,
   "id": "de590d1f",
   "metadata": {},
   "outputs": [
    {
     "data": {
      "text/plain": [
       "0    30\n",
       "1    30\n",
       "2    30\n",
       "3    30\n",
       "dtype: int64"
      ]
     },
     "execution_count": 140,
     "metadata": {},
     "output_type": "execute_result"
    }
   ],
   "source": [
    "s1 = pd.Series([5, 5, 5, 5])\n",
    "s2 = pd.Series([25, 25, 25, 25])\n",
    "\n",
    "s1 + s2"
   ]
  },
  {
   "cell_type": "code",
   "execution_count": 141,
   "id": "9ad4d475",
   "metadata": {},
   "outputs": [
    {
     "data": {
      "text/plain": [
       "0    125\n",
       "1    125\n",
       "2    125\n",
       "3    125\n",
       "dtype: int64"
      ]
     },
     "execution_count": 141,
     "metadata": {},
     "output_type": "execute_result"
    }
   ],
   "source": [
    "s1 * s2"
   ]
  },
  {
   "cell_type": "code",
   "execution_count": null,
   "id": "780646da",
   "metadata": {},
   "outputs": [],
   "source": []
  }
 ],
 "metadata": {
  "kernelspec": {
   "display_name": "Python 3 (ipykernel)",
   "language": "python",
   "name": "python3"
  },
  "language_info": {
   "codemirror_mode": {
    "name": "ipython",
    "version": 3
   },
   "file_extension": ".py",
   "mimetype": "text/x-python",
   "name": "python",
   "nbconvert_exporter": "python",
   "pygments_lexer": "ipython3",
   "version": "3.9.6"
  }
 },
 "nbformat": 4,
 "nbformat_minor": 5
}
