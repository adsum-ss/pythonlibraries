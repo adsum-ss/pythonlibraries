{
 "cells": [
  {
   "cell_type": "code",
   "execution_count": 1,
   "id": "96efe50c",
   "metadata": {},
   "outputs": [],
   "source": [
    "import pandas as pd\n",
    "import numpy as np"
   ]
  },
  {
   "cell_type": "code",
   "execution_count": 12,
   "id": "47d708e3",
   "metadata": {},
   "outputs": [],
   "source": [
    "countries = {\n",
    "    'country': ['Turkey', 'Cameroon', 'Albania', 'Brazil', 'Poland', 'Canada', 'Japan', 'Fiji'], \n",
    "    'capital': ['Ankara', 'Yaounde', 'Tirana', 'Brasilia', 'Warsaw', 'Ottawa', 'Tokyo', 'Suva'], \n",
    "    'continent': ['Europe/Asia', 'Africa', 'Europe', 'South America', 'Europe', 'North America', 'Asia', 'Australia/Oceania'],\n",
    "    'population': [84339067, 26545863, 2877797, 212559417, 37846611, 37742154, 126476461, 896444],\n",
    "    'land area': [769630, 472710, 27400, 8358140, 306230, 9093510, 364555, 18270],\n",
    "    'density': [109, 56, 105, 25, 124, 4, 346, 49],\n",
    "    'ocean_coast': ['False', 'True', 'False', 'True', 'False', 'True', 'True', 'True']\n",
    "}"
   ]
  },
  {
   "cell_type": "code",
   "execution_count": 13,
   "id": "7a1c114f",
   "metadata": {},
   "outputs": [
    {
     "data": {
      "text/html": [
       "<div>\n",
       "<style scoped>\n",
       "    .dataframe tbody tr th:only-of-type {\n",
       "        vertical-align: middle;\n",
       "    }\n",
       "\n",
       "    .dataframe tbody tr th {\n",
       "        vertical-align: top;\n",
       "    }\n",
       "\n",
       "    .dataframe thead th {\n",
       "        text-align: right;\n",
       "    }\n",
       "</style>\n",
       "<table border=\"1\" class=\"dataframe\">\n",
       "  <thead>\n",
       "    <tr style=\"text-align: right;\">\n",
       "      <th></th>\n",
       "      <th>country</th>\n",
       "      <th>capital</th>\n",
       "      <th>continent</th>\n",
       "      <th>population</th>\n",
       "      <th>land area</th>\n",
       "      <th>density</th>\n",
       "      <th>ocean_coast</th>\n",
       "    </tr>\n",
       "  </thead>\n",
       "  <tbody>\n",
       "    <tr>\n",
       "      <th>0</th>\n",
       "      <td>Turkey</td>\n",
       "      <td>Ankara</td>\n",
       "      <td>Europe/Asia</td>\n",
       "      <td>84339067</td>\n",
       "      <td>769630</td>\n",
       "      <td>109</td>\n",
       "      <td>False</td>\n",
       "    </tr>\n",
       "    <tr>\n",
       "      <th>1</th>\n",
       "      <td>Cameroon</td>\n",
       "      <td>Yaounde</td>\n",
       "      <td>Africa</td>\n",
       "      <td>26545863</td>\n",
       "      <td>472710</td>\n",
       "      <td>56</td>\n",
       "      <td>True</td>\n",
       "    </tr>\n",
       "    <tr>\n",
       "      <th>2</th>\n",
       "      <td>Albania</td>\n",
       "      <td>Tirana</td>\n",
       "      <td>Europe</td>\n",
       "      <td>2877797</td>\n",
       "      <td>27400</td>\n",
       "      <td>105</td>\n",
       "      <td>False</td>\n",
       "    </tr>\n",
       "    <tr>\n",
       "      <th>3</th>\n",
       "      <td>Brazil</td>\n",
       "      <td>Brasilia</td>\n",
       "      <td>South America</td>\n",
       "      <td>212559417</td>\n",
       "      <td>8358140</td>\n",
       "      <td>25</td>\n",
       "      <td>True</td>\n",
       "    </tr>\n",
       "    <tr>\n",
       "      <th>4</th>\n",
       "      <td>Poland</td>\n",
       "      <td>Warsaw</td>\n",
       "      <td>Europe</td>\n",
       "      <td>37846611</td>\n",
       "      <td>306230</td>\n",
       "      <td>124</td>\n",
       "      <td>False</td>\n",
       "    </tr>\n",
       "    <tr>\n",
       "      <th>5</th>\n",
       "      <td>Canada</td>\n",
       "      <td>Ottawa</td>\n",
       "      <td>North America</td>\n",
       "      <td>37742154</td>\n",
       "      <td>9093510</td>\n",
       "      <td>4</td>\n",
       "      <td>True</td>\n",
       "    </tr>\n",
       "    <tr>\n",
       "      <th>6</th>\n",
       "      <td>Japan</td>\n",
       "      <td>Tokyo</td>\n",
       "      <td>Asia</td>\n",
       "      <td>126476461</td>\n",
       "      <td>364555</td>\n",
       "      <td>346</td>\n",
       "      <td>True</td>\n",
       "    </tr>\n",
       "    <tr>\n",
       "      <th>7</th>\n",
       "      <td>Fiji</td>\n",
       "      <td>Suva</td>\n",
       "      <td>Oceania/Australia</td>\n",
       "      <td>896444</td>\n",
       "      <td>18270</td>\n",
       "      <td>49</td>\n",
       "      <td>True</td>\n",
       "    </tr>\n",
       "  </tbody>\n",
       "</table>\n",
       "</div>"
      ],
      "text/plain": [
       "    country   capital          continent  population  land area  density  \\\n",
       "0    Turkey    Ankara        Europe/Asia    84339067     769630      109   \n",
       "1  Cameroon   Yaounde             Africa    26545863     472710       56   \n",
       "2   Albania    Tirana             Europe     2877797      27400      105   \n",
       "3    Brazil  Brasilia      South America   212559417    8358140       25   \n",
       "4    Poland    Warsaw             Europe    37846611     306230      124   \n",
       "5    Canada    Ottawa      North America    37742154    9093510        4   \n",
       "6     Japan     Tokyo               Asia   126476461     364555      346   \n",
       "7      Fiji      Suva  Oceania/Australia      896444      18270       49   \n",
       "\n",
       "  ocean_coast  \n",
       "0       False  \n",
       "1        True  \n",
       "2       False  \n",
       "3        True  \n",
       "4       False  \n",
       "5        True  \n",
       "6        True  \n",
       "7        True  "
      ]
     },
     "execution_count": 13,
     "metadata": {},
     "output_type": "execute_result"
    }
   ],
   "source": [
    "df = pd.DataFrame(countries)\n",
    "df"
   ]
  },
  {
   "cell_type": "code",
   "execution_count": 14,
   "id": "6642e14c",
   "metadata": {},
   "outputs": [
    {
     "data": {
      "text/plain": [
       "country        8\n",
       "capital        8\n",
       "continent      8\n",
       "population     8\n",
       "land area      8\n",
       "density        8\n",
       "ocean_coast    8\n",
       "dtype: int64"
      ]
     },
     "execution_count": 14,
     "metadata": {},
     "output_type": "execute_result"
    }
   ],
   "source": [
    "df.apply(len) # rows are default value"
   ]
  },
  {
   "cell_type": "code",
   "execution_count": 15,
   "id": "b346c4ca",
   "metadata": {},
   "outputs": [
    {
     "data": {
      "text/plain": [
       "0    7\n",
       "1    7\n",
       "2    7\n",
       "3    7\n",
       "4    7\n",
       "5    7\n",
       "6    7\n",
       "7    7\n",
       "dtype: int64"
      ]
     },
     "execution_count": 15,
     "metadata": {},
     "output_type": "execute_result"
    }
   ],
   "source": [
    "df.apply(len, axis=\"columns\")"
   ]
  },
  {
   "cell_type": "code",
   "execution_count": 16,
   "id": "75d6de8c",
   "metadata": {},
   "outputs": [
    {
     "data": {
      "text/plain": [
       "0    6\n",
       "1    8\n",
       "2    7\n",
       "3    6\n",
       "4    6\n",
       "5    6\n",
       "6    5\n",
       "7    4\n",
       "Name: country, dtype: int64"
      ]
     },
     "execution_count": 16,
     "metadata": {},
     "output_type": "execute_result"
    }
   ],
   "source": [
    "df.country.apply(len)"
   ]
  },
  {
   "cell_type": "code",
   "execution_count": 17,
   "id": "4f4b0936",
   "metadata": {},
   "outputs": [
    {
     "data": {
      "text/plain": [
       "country        4\n",
       "capital        4\n",
       "continent      4\n",
       "population     4\n",
       "land area      4\n",
       "density        4\n",
       "ocean_coast    4\n",
       "dtype: int64"
      ]
     },
     "execution_count": 17,
     "metadata": {},
     "output_type": "execute_result"
    }
   ],
   "source": [
    "df.iloc[0:4].apply(len)"
   ]
  },
  {
   "cell_type": "code",
   "execution_count": 18,
   "id": "70f9b7cb",
   "metadata": {},
   "outputs": [
    {
     "data": {
      "text/plain": [
       "8"
      ]
     },
     "execution_count": 18,
     "metadata": {},
     "output_type": "execute_result"
    }
   ],
   "source": [
    "len(df['continent'])"
   ]
  },
  {
   "cell_type": "code",
   "execution_count": 19,
   "id": "e8ab1615",
   "metadata": {},
   "outputs": [
    {
     "data": {
      "text/plain": [
       "country        Albania\n",
       "capital         Ankara\n",
       "continent       Africa\n",
       "population      896444\n",
       "land area        18270\n",
       "density              4\n",
       "ocean_coast      False\n",
       "dtype: object"
      ]
     },
     "execution_count": 19,
     "metadata": {},
     "output_type": "execute_result"
    }
   ],
   "source": [
    "df.apply(pd.Series.min)"
   ]
  },
  {
   "cell_type": "code",
   "execution_count": 20,
   "id": "a8b35e85",
   "metadata": {},
   "outputs": [
    {
     "data": {
      "text/plain": [
       "country        Albania\n",
       "capital         Ankara\n",
       "continent       Africa\n",
       "population      896444\n",
       "land area        18270\n",
       "density              4\n",
       "ocean_coast      False\n",
       "dtype: object"
      ]
     },
     "execution_count": 20,
     "metadata": {},
     "output_type": "execute_result"
    }
   ],
   "source": [
    "df.apply(lambda x: x.min())"
   ]
  },
  {
   "cell_type": "code",
   "execution_count": 47,
   "id": "2b96ab46",
   "metadata": {},
   "outputs": [],
   "source": [
    "df.applymap(lambda x: x.min())\n",
    "# ERROR: Because applymap returns for every cell in df and 'str' object has no attribute 'min'"
   ]
  },
  {
   "cell_type": "code",
   "execution_count": 21,
   "id": "66cc5781",
   "metadata": {},
   "outputs": [
    {
     "data": {
      "text/html": [
       "<div>\n",
       "<style scoped>\n",
       "    .dataframe tbody tr th:only-of-type {\n",
       "        vertical-align: middle;\n",
       "    }\n",
       "\n",
       "    .dataframe tbody tr th {\n",
       "        vertical-align: top;\n",
       "    }\n",
       "\n",
       "    .dataframe thead th {\n",
       "        text-align: right;\n",
       "    }\n",
       "</style>\n",
       "<table border=\"1\" class=\"dataframe\">\n",
       "  <thead>\n",
       "    <tr style=\"text-align: right;\">\n",
       "      <th></th>\n",
       "      <th>country</th>\n",
       "      <th>capital</th>\n",
       "      <th>continent</th>\n",
       "    </tr>\n",
       "  </thead>\n",
       "  <tbody>\n",
       "    <tr>\n",
       "      <th>0</th>\n",
       "      <td>6</td>\n",
       "      <td>6</td>\n",
       "      <td>11</td>\n",
       "    </tr>\n",
       "    <tr>\n",
       "      <th>1</th>\n",
       "      <td>8</td>\n",
       "      <td>7</td>\n",
       "      <td>6</td>\n",
       "    </tr>\n",
       "    <tr>\n",
       "      <th>2</th>\n",
       "      <td>7</td>\n",
       "      <td>6</td>\n",
       "      <td>6</td>\n",
       "    </tr>\n",
       "    <tr>\n",
       "      <th>3</th>\n",
       "      <td>6</td>\n",
       "      <td>8</td>\n",
       "      <td>13</td>\n",
       "    </tr>\n",
       "    <tr>\n",
       "      <th>4</th>\n",
       "      <td>6</td>\n",
       "      <td>6</td>\n",
       "      <td>6</td>\n",
       "    </tr>\n",
       "    <tr>\n",
       "      <th>5</th>\n",
       "      <td>6</td>\n",
       "      <td>6</td>\n",
       "      <td>13</td>\n",
       "    </tr>\n",
       "    <tr>\n",
       "      <th>6</th>\n",
       "      <td>5</td>\n",
       "      <td>5</td>\n",
       "      <td>4</td>\n",
       "    </tr>\n",
       "    <tr>\n",
       "      <th>7</th>\n",
       "      <td>4</td>\n",
       "      <td>4</td>\n",
       "      <td>17</td>\n",
       "    </tr>\n",
       "  </tbody>\n",
       "</table>\n",
       "</div>"
      ],
      "text/plain": [
       "   country  capital  continent\n",
       "0        6        6         11\n",
       "1        8        7          6\n",
       "2        7        6          6\n",
       "3        6        8         13\n",
       "4        6        6          6\n",
       "5        6        6         13\n",
       "6        5        5          4\n",
       "7        4        4         17"
      ]
     },
     "execution_count": 21,
     "metadata": {},
     "output_type": "execute_result"
    }
   ],
   "source": [
    "df.loc[:, \"country\":\"continent\"].applymap(len)  # we get error for int values"
   ]
  },
  {
   "cell_type": "code",
   "execution_count": 22,
   "id": "6c857071",
   "metadata": {},
   "outputs": [
    {
     "data": {
      "text/plain": [
       "country      8\n",
       "capital      8\n",
       "continent    8\n",
       "dtype: int64"
      ]
     },
     "execution_count": 22,
     "metadata": {},
     "output_type": "execute_result"
    }
   ],
   "source": [
    "df.loc[:, \"country\":\"continent\"].apply(len)"
   ]
  },
  {
   "cell_type": "code",
   "execution_count": 23,
   "id": "38cddc84",
   "metadata": {},
   "outputs": [
    {
     "data": {
      "text/plain": [
       "country             Turkey\n",
       "capital            Yaounde\n",
       "continent    South America\n",
       "dtype: object"
      ]
     },
     "execution_count": 23,
     "metadata": {},
     "output_type": "execute_result"
    }
   ],
   "source": [
    "df.loc[:, \"country\":\"continent\"].apply(max, axis=0)"
   ]
  },
  {
   "cell_type": "code",
   "execution_count": 24,
   "id": "926b4e53",
   "metadata": {},
   "outputs": [
    {
     "data": {
      "text/plain": [
       "0           Turkey\n",
       "1          Yaounde\n",
       "2           Tirana\n",
       "3    South America\n",
       "4           Warsaw\n",
       "5           Ottawa\n",
       "6            Tokyo\n",
       "7             Suva\n",
       "dtype: object"
      ]
     },
     "execution_count": 24,
     "metadata": {},
     "output_type": "execute_result"
    }
   ],
   "source": [
    "df.loc[:, \"country\":\"continent\"].apply(max, axis=1) # in apply, can't specify functions as a string "
   ]
  },
  {
   "cell_type": "code",
   "execution_count": 25,
   "id": "9351a8b4",
   "metadata": {},
   "outputs": [
    {
     "data": {
      "text/plain": [
       "0    0\n",
       "1    1\n",
       "2    1\n",
       "3    2\n",
       "4    1\n",
       "5    1\n",
       "6    1\n",
       "7    1\n",
       "dtype: int64"
      ]
     },
     "execution_count": 25,
     "metadata": {},
     "output_type": "execute_result"
    }
   ],
   "source": [
    "df.loc[:, \"country\":\"continent\"].apply(np.argmax, axis=1)"
   ]
  },
  {
   "cell_type": "code",
   "execution_count": 26,
   "id": "17f0144a",
   "metadata": {},
   "outputs": [
    {
     "data": {
      "text/html": [
       "<div>\n",
       "<style scoped>\n",
       "    .dataframe tbody tr th:only-of-type {\n",
       "        vertical-align: middle;\n",
       "    }\n",
       "\n",
       "    .dataframe tbody tr th {\n",
       "        vertical-align: top;\n",
       "    }\n",
       "\n",
       "    .dataframe thead th {\n",
       "        text-align: right;\n",
       "    }\n",
       "</style>\n",
       "<table border=\"1\" class=\"dataframe\">\n",
       "  <thead>\n",
       "    <tr style=\"text-align: right;\">\n",
       "      <th></th>\n",
       "      <th>population</th>\n",
       "      <th>land area</th>\n",
       "      <th>density</th>\n",
       "    </tr>\n",
       "  </thead>\n",
       "  <tbody>\n",
       "    <tr>\n",
       "      <th>0</th>\n",
       "      <td>84339067.0</td>\n",
       "      <td>769630.0</td>\n",
       "      <td>109.0</td>\n",
       "    </tr>\n",
       "    <tr>\n",
       "      <th>1</th>\n",
       "      <td>26545863.0</td>\n",
       "      <td>472710.0</td>\n",
       "      <td>56.0</td>\n",
       "    </tr>\n",
       "    <tr>\n",
       "      <th>2</th>\n",
       "      <td>2877797.0</td>\n",
       "      <td>27400.0</td>\n",
       "      <td>105.0</td>\n",
       "    </tr>\n",
       "    <tr>\n",
       "      <th>3</th>\n",
       "      <td>212559417.0</td>\n",
       "      <td>8358140.0</td>\n",
       "      <td>25.0</td>\n",
       "    </tr>\n",
       "    <tr>\n",
       "      <th>4</th>\n",
       "      <td>37846611.0</td>\n",
       "      <td>306230.0</td>\n",
       "      <td>124.0</td>\n",
       "    </tr>\n",
       "    <tr>\n",
       "      <th>5</th>\n",
       "      <td>37742154.0</td>\n",
       "      <td>9093510.0</td>\n",
       "      <td>4.0</td>\n",
       "    </tr>\n",
       "    <tr>\n",
       "      <th>6</th>\n",
       "      <td>126476461.0</td>\n",
       "      <td>364555.0</td>\n",
       "      <td>346.0</td>\n",
       "    </tr>\n",
       "    <tr>\n",
       "      <th>7</th>\n",
       "      <td>896444.0</td>\n",
       "      <td>18270.0</td>\n",
       "      <td>49.0</td>\n",
       "    </tr>\n",
       "  </tbody>\n",
       "</table>\n",
       "</div>"
      ],
      "text/plain": [
       "    population  land area  density\n",
       "0   84339067.0   769630.0    109.0\n",
       "1   26545863.0   472710.0     56.0\n",
       "2    2877797.0    27400.0    105.0\n",
       "3  212559417.0  8358140.0     25.0\n",
       "4   37846611.0   306230.0    124.0\n",
       "5   37742154.0  9093510.0      4.0\n",
       "6  126476461.0   364555.0    346.0\n",
       "7     896444.0    18270.0     49.0"
      ]
     },
     "execution_count": 26,
     "metadata": {},
     "output_type": "execute_result"
    }
   ],
   "source": [
    "df.loc[:, \"population\":\"density\"].applymap(float)  # applymap changes every element of df"
   ]
  },
  {
   "cell_type": "code",
   "execution_count": 27,
   "id": "452fe1a7",
   "metadata": {},
   "outputs": [
    {
     "data": {
      "text/html": [
       "<div>\n",
       "<style scoped>\n",
       "    .dataframe tbody tr th:only-of-type {\n",
       "        vertical-align: middle;\n",
       "    }\n",
       "\n",
       "    .dataframe tbody tr th {\n",
       "        vertical-align: top;\n",
       "    }\n",
       "\n",
       "    .dataframe thead th {\n",
       "        text-align: right;\n",
       "    }\n",
       "</style>\n",
       "<table border=\"1\" class=\"dataframe\">\n",
       "  <thead>\n",
       "    <tr style=\"text-align: right;\">\n",
       "      <th></th>\n",
       "      <th>population</th>\n",
       "      <th>density</th>\n",
       "    </tr>\n",
       "  </thead>\n",
       "  <tbody>\n",
       "    <tr>\n",
       "      <th>0</th>\n",
       "      <td>0.250569</td>\n",
       "      <td>0.062930</td>\n",
       "    </tr>\n",
       "    <tr>\n",
       "      <th>1</th>\n",
       "      <td>-0.546037</td>\n",
       "      <td>-0.431188</td>\n",
       "    </tr>\n",
       "    <tr>\n",
       "      <th>2</th>\n",
       "      <td>-0.872271</td>\n",
       "      <td>0.025638</td>\n",
       "    </tr>\n",
       "    <tr>\n",
       "      <th>3</th>\n",
       "      <td>2.017923</td>\n",
       "      <td>-0.720201</td>\n",
       "    </tr>\n",
       "    <tr>\n",
       "      <th>4</th>\n",
       "      <td>-0.390271</td>\n",
       "      <td>0.202775</td>\n",
       "    </tr>\n",
       "    <tr>\n",
       "      <th>5</th>\n",
       "      <td>-0.391710</td>\n",
       "      <td>-0.915984</td>\n",
       "    </tr>\n",
       "    <tr>\n",
       "      <th>6</th>\n",
       "      <td>0.831379</td>\n",
       "      <td>2.272479</td>\n",
       "    </tr>\n",
       "    <tr>\n",
       "      <th>7</th>\n",
       "      <td>-0.899582</td>\n",
       "      <td>-0.496449</td>\n",
       "    </tr>\n",
       "  </tbody>\n",
       "</table>\n",
       "</div>"
      ],
      "text/plain": [
       "   population   density\n",
       "0    0.250569  0.062930\n",
       "1   -0.546037 -0.431188\n",
       "2   -0.872271  0.025638\n",
       "3    2.017923 -0.720201\n",
       "4   -0.390271  0.202775\n",
       "5   -0.391710 -0.915984\n",
       "6    0.831379  2.272479\n",
       "7   -0.899582 -0.496449"
      ]
     },
     "execution_count": 27,
     "metadata": {},
     "output_type": "execute_result"
    }
   ],
   "source": [
    "df[[\"population\", \"density\"]].transform(lambda x: (x-x.mean())/x.std())"
   ]
  },
  {
   "cell_type": "code",
   "execution_count": 28,
   "id": "78dadaba",
   "metadata": {},
   "outputs": [
    {
     "data": {
      "text/html": [
       "<div>\n",
       "<style scoped>\n",
       "    .dataframe tbody tr th:only-of-type {\n",
       "        vertical-align: middle;\n",
       "    }\n",
       "\n",
       "    .dataframe tbody tr th {\n",
       "        vertical-align: top;\n",
       "    }\n",
       "\n",
       "    .dataframe thead th {\n",
       "        text-align: right;\n",
       "    }\n",
       "</style>\n",
       "<table border=\"1\" class=\"dataframe\">\n",
       "  <thead>\n",
       "    <tr style=\"text-align: right;\">\n",
       "      <th></th>\n",
       "      <th>population</th>\n",
       "      <th>density</th>\n",
       "    </tr>\n",
       "  </thead>\n",
       "  <tbody>\n",
       "    <tr>\n",
       "      <th>0</th>\n",
       "      <td>0.250569</td>\n",
       "      <td>0.062930</td>\n",
       "    </tr>\n",
       "    <tr>\n",
       "      <th>1</th>\n",
       "      <td>-0.546037</td>\n",
       "      <td>-0.431188</td>\n",
       "    </tr>\n",
       "    <tr>\n",
       "      <th>2</th>\n",
       "      <td>-0.872271</td>\n",
       "      <td>0.025638</td>\n",
       "    </tr>\n",
       "    <tr>\n",
       "      <th>3</th>\n",
       "      <td>2.017923</td>\n",
       "      <td>-0.720201</td>\n",
       "    </tr>\n",
       "    <tr>\n",
       "      <th>4</th>\n",
       "      <td>-0.390271</td>\n",
       "      <td>0.202775</td>\n",
       "    </tr>\n",
       "    <tr>\n",
       "      <th>5</th>\n",
       "      <td>-0.391710</td>\n",
       "      <td>-0.915984</td>\n",
       "    </tr>\n",
       "    <tr>\n",
       "      <th>6</th>\n",
       "      <td>0.831379</td>\n",
       "      <td>2.272479</td>\n",
       "    </tr>\n",
       "    <tr>\n",
       "      <th>7</th>\n",
       "      <td>-0.899582</td>\n",
       "      <td>-0.496449</td>\n",
       "    </tr>\n",
       "  </tbody>\n",
       "</table>\n",
       "</div>"
      ],
      "text/plain": [
       "   population   density\n",
       "0    0.250569  0.062930\n",
       "1   -0.546037 -0.431188\n",
       "2   -0.872271  0.025638\n",
       "3    2.017923 -0.720201\n",
       "4   -0.390271  0.202775\n",
       "5   -0.391710 -0.915984\n",
       "6    0.831379  2.272479\n",
       "7   -0.899582 -0.496449"
      ]
     },
     "execution_count": 28,
     "metadata": {},
     "output_type": "execute_result"
    }
   ],
   "source": [
    "df[[\"population\", \"density\"]].apply(lambda x: (x-x.mean())/x.std())"
   ]
  },
  {
   "cell_type": "code",
   "execution_count": 29,
   "id": "186cfb2e",
   "metadata": {},
   "outputs": [
    {
     "data": {
      "text/plain": [
       "0     No\n",
       "1    Yes\n",
       "2     No\n",
       "3    Yes\n",
       "4     No\n",
       "5    Yes\n",
       "6    Yes\n",
       "7    Yes\n",
       "Name: ocean_coast, dtype: object"
      ]
     },
     "execution_count": 29,
     "metadata": {},
     "output_type": "execute_result"
    }
   ],
   "source": [
    "df[\"ocean_coast\"].map({\"True\": \"Yes\", \"False\": \"No\"})"
   ]
  },
  {
   "cell_type": "code",
   "execution_count": null,
   "id": "d8dfc7c1",
   "metadata": {},
   "outputs": [],
   "source": []
  }
 ],
 "metadata": {
  "kernelspec": {
   "display_name": "Python 3 (ipykernel)",
   "language": "python",
   "name": "python3"
  },
  "language_info": {
   "codemirror_mode": {
    "name": "ipython",
    "version": 3
   },
   "file_extension": ".py",
   "mimetype": "text/x-python",
   "name": "python",
   "nbconvert_exporter": "python",
   "pygments_lexer": "ipython3",
   "version": "3.9.6"
  }
 },
 "nbformat": 4,
 "nbformat_minor": 5
}
