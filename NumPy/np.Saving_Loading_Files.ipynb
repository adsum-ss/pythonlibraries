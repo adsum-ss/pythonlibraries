{
 "cells": [
  {
   "cell_type": "code",
   "execution_count": 1,
   "id": "e9b4d8b4",
   "metadata": {},
   "outputs": [],
   "source": [
    "import numpy as np"
   ]
  },
  {
   "cell_type": "code",
   "execution_count": 2,
   "id": "7621d6d2",
   "metadata": {},
   "outputs": [
    {
     "data": {
      "text/plain": [
       "array([[ 0,  1,  2,  3,  4,  5],\n",
       "       [ 6,  7,  8,  9, 10, 11],\n",
       "       [12, 13, 14, 15, 16, 17],\n",
       "       [18, 19, 20, 21, 22, 23]])"
      ]
     },
     "execution_count": 2,
     "metadata": {},
     "output_type": "execute_result"
    }
   ],
   "source": [
    "arr = np.arange(24).reshape(4,6)\n",
    "arr"
   ]
  },
  {
   "cell_type": "code",
   "execution_count": 3,
   "id": "432adc1a",
   "metadata": {},
   "outputs": [],
   "source": [
    "np.save(\"numbers\", arr)  # We saved it in the working directory as .npy extension"
   ]
  },
  {
   "cell_type": "code",
   "execution_count": 4,
   "id": "46ecfcf4",
   "metadata": {},
   "outputs": [
    {
     "data": {
      "text/plain": [
       "array([[ 0,  1,  2,  3,  4,  5],\n",
       "       [ 6,  7,  8,  9, 10, 11],\n",
       "       [12, 13, 14, 15, 16, 17],\n",
       "       [18, 19, 20, 21, 22, 23]])"
      ]
     },
     "execution_count": 4,
     "metadata": {},
     "output_type": "execute_result"
    }
   ],
   "source": [
    "np.load(\"numbers.npy\")"
   ]
  },
  {
   "cell_type": "code",
   "execution_count": null,
   "id": "b5a4d8b8",
   "metadata": {},
   "outputs": [],
   "source": []
  },
  {
   "cell_type": "code",
   "execution_count": 4,
   "id": "5abfe34b",
   "metadata": {},
   "outputs": [
    {
     "data": {
      "text/plain": [
       "array([[ 13.,  14.,  22.,  88., 159.,   7.,  25.,  11.,   9.,  10.],\n",
       "       [ 22.,  89., 456.,  23.,   5.,   7.,  15., 155.,  78.,   9.],\n",
       "       [ 88.,  77.,  66., 555., 444.,  12.,   0.,   3., 254.,   2.]])"
      ]
     },
     "execution_count": 4,
     "metadata": {},
     "output_type": "execute_result"
    }
   ],
   "source": [
    "filedata = np.genfromtxt('numbers.txt', delimiter=',') \n",
    "filedata"
   ]
  },
  {
   "cell_type": "code",
   "execution_count": 6,
   "id": "de624aa3",
   "metadata": {},
   "outputs": [
    {
     "name": "stdout",
     "output_type": "stream",
     "text": [
      "[[ 13  14  22  88 159   7  25  11   9  10]\n",
      " [ 22  89 456  23   5   7  15 155  78   9]\n",
      " [ 88  77  66 555 444  12   0   3 254   2]]\n"
     ]
    }
   ],
   "source": [
    "filedata = np.genfromtxt('numbers.txt', delimiter=',') # 10*10 olduğu için hata vermedi\n",
    "filedata = filedata.astype(\"int32\") # alan daraldı, çünkü noktalar gitti\n",
    "print(filedata)"
   ]
  }
 ],
 "metadata": {
  "kernelspec": {
   "display_name": "Python 3 (ipykernel)",
   "language": "python",
   "name": "python3"
  },
  "language_info": {
   "codemirror_mode": {
    "name": "ipython",
    "version": 3
   },
   "file_extension": ".py",
   "mimetype": "text/x-python",
   "name": "python",
   "nbconvert_exporter": "python",
   "pygments_lexer": "ipython3",
   "version": "3.9.6"
  }
 },
 "nbformat": 4,
 "nbformat_minor": 5
}
