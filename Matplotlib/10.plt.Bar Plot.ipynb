{
 "cells": [
  {
   "cell_type": "code",
   "execution_count": 1,
   "id": "c0ab30ee",
   "metadata": {},
   "outputs": [],
   "source": [
    "# Basic Library\n",
    "import numpy as np\n",
    "import pandas as pd\n",
    "\n",
    "# Libraries for Visualization\n",
    "import matplotlib.pyplot as plt\n",
    "%matplotlib inline\n",
    "import seaborn as sns\n",
    "\n",
    "import warnings;\n",
    "warnings.filterwarnings('ignore')"
   ]
  },
  {
   "cell_type": "markdown",
   "id": "c5c58567",
   "metadata": {},
   "source": [
    "#### <i>matplotlib.pyplot.bar(x, height, width=0.8, bottom=None, *, align='center', data=None, **kwargs)"
   ]
  },
  {
   "cell_type": "code",
   "execution_count": 2,
   "id": "aff14300",
   "metadata": {},
   "outputs": [
    {
     "data": {
      "text/html": [
       "<div>\n",
       "<style scoped>\n",
       "    .dataframe tbody tr th:only-of-type {\n",
       "        vertical-align: middle;\n",
       "    }\n",
       "\n",
       "    .dataframe tbody tr th {\n",
       "        vertical-align: top;\n",
       "    }\n",
       "\n",
       "    .dataframe thead th {\n",
       "        text-align: right;\n",
       "    }\n",
       "</style>\n",
       "<table border=\"1\" class=\"dataframe\">\n",
       "  <thead>\n",
       "    <tr style=\"text-align: right;\">\n",
       "      <th></th>\n",
       "      <th>Player</th>\n",
       "      <th>Club</th>\n",
       "      <th>Number</th>\n",
       "      <th>Position</th>\n",
       "      <th>Country</th>\n",
       "      <th>Age</th>\n",
       "      <th>Height</th>\n",
       "      <th>Games</th>\n",
       "      <th>Minutes</th>\n",
       "      <th>2FG</th>\n",
       "      <th>...</th>\n",
       "      <th>Rebounds</th>\n",
       "      <th>Assists</th>\n",
       "      <th>Steals</th>\n",
       "      <th>Turnovers</th>\n",
       "      <th>Blocks(Fv)</th>\n",
       "      <th>Blocks(Ag)</th>\n",
       "      <th>Fouls(Cm)</th>\n",
       "      <th>Fouls(Rv)</th>\n",
       "      <th>PIR</th>\n",
       "      <th>PIR(Avg)</th>\n",
       "    </tr>\n",
       "  </thead>\n",
       "  <tbody>\n",
       "    <tr>\n",
       "      <th>0</th>\n",
       "      <td>Adam Hanga</td>\n",
       "      <td>FC Barcelona</td>\n",
       "      <td>8</td>\n",
       "      <td>Forward</td>\n",
       "      <td>Hungary</td>\n",
       "      <td>31</td>\n",
       "      <td>200</td>\n",
       "      <td>41</td>\n",
       "      <td>652</td>\n",
       "      <td>48/101</td>\n",
       "      <td>...</td>\n",
       "      <td>90</td>\n",
       "      <td>69</td>\n",
       "      <td>32</td>\n",
       "      <td>48</td>\n",
       "      <td>11</td>\n",
       "      <td>5</td>\n",
       "      <td>77</td>\n",
       "      <td>47</td>\n",
       "      <td>198</td>\n",
       "      <td>4.8</td>\n",
       "    </tr>\n",
       "    <tr>\n",
       "      <th>1</th>\n",
       "      <td>Adrien Moerman</td>\n",
       "      <td>Anadolu Efes</td>\n",
       "      <td>18</td>\n",
       "      <td>Forward</td>\n",
       "      <td>France</td>\n",
       "      <td>32</td>\n",
       "      <td>202</td>\n",
       "      <td>41</td>\n",
       "      <td>841</td>\n",
       "      <td>72/119</td>\n",
       "      <td>...</td>\n",
       "      <td>189</td>\n",
       "      <td>45</td>\n",
       "      <td>24</td>\n",
       "      <td>39</td>\n",
       "      <td>6</td>\n",
       "      <td>7</td>\n",
       "      <td>60</td>\n",
       "      <td>51</td>\n",
       "      <td>347</td>\n",
       "      <td>8.5</td>\n",
       "    </tr>\n",
       "    <tr>\n",
       "      <th>2</th>\n",
       "      <td>Alex Abrines</td>\n",
       "      <td>FC Barcelona</td>\n",
       "      <td>21</td>\n",
       "      <td>Forward</td>\n",
       "      <td>Spain</td>\n",
       "      <td>27</td>\n",
       "      <td>198</td>\n",
       "      <td>39</td>\n",
       "      <td>730</td>\n",
       "      <td>22/50</td>\n",
       "      <td>...</td>\n",
       "      <td>72</td>\n",
       "      <td>26</td>\n",
       "      <td>22</td>\n",
       "      <td>13</td>\n",
       "      <td>8</td>\n",
       "      <td>7</td>\n",
       "      <td>96</td>\n",
       "      <td>39</td>\n",
       "      <td>182</td>\n",
       "      <td>4.7</td>\n",
       "    </tr>\n",
       "    <tr>\n",
       "      <th>3</th>\n",
       "      <td>Alexander Khomenko</td>\n",
       "      <td>CSKA Moscow</td>\n",
       "      <td>4</td>\n",
       "      <td>Guard</td>\n",
       "      <td>Russia</td>\n",
       "      <td>21</td>\n",
       "      <td>192</td>\n",
       "      <td>16</td>\n",
       "      <td>100</td>\n",
       "      <td>9/17</td>\n",
       "      <td>...</td>\n",
       "      <td>4</td>\n",
       "      <td>4</td>\n",
       "      <td>0</td>\n",
       "      <td>8</td>\n",
       "      <td>0</td>\n",
       "      <td>1</td>\n",
       "      <td>24</td>\n",
       "      <td>24</td>\n",
       "      <td>15</td>\n",
       "      <td>0.9</td>\n",
       "    </tr>\n",
       "    <tr>\n",
       "      <th>4</th>\n",
       "      <td>Andrea Cinciarini</td>\n",
       "      <td>AX Armani Exchange Milan</td>\n",
       "      <td>20</td>\n",
       "      <td>Guard</td>\n",
       "      <td>Italy</td>\n",
       "      <td>34</td>\n",
       "      <td>193</td>\n",
       "      <td>8</td>\n",
       "      <td>19</td>\n",
       "      <td>0/0</td>\n",
       "      <td>...</td>\n",
       "      <td>2</td>\n",
       "      <td>2</td>\n",
       "      <td>0</td>\n",
       "      <td>2</td>\n",
       "      <td>0</td>\n",
       "      <td>0</td>\n",
       "      <td>5</td>\n",
       "      <td>2</td>\n",
       "      <td>-3</td>\n",
       "      <td>-0.4</td>\n",
       "    </tr>\n",
       "  </tbody>\n",
       "</table>\n",
       "<p>5 rows × 23 columns</p>\n",
       "</div>"
      ],
      "text/plain": [
       "               Player                      Club  Number Position  Country  \\\n",
       "0          Adam Hanga              FC Barcelona       8  Forward  Hungary   \n",
       "1      Adrien Moerman              Anadolu Efes      18  Forward   France   \n",
       "2        Alex Abrines              FC Barcelona      21  Forward    Spain   \n",
       "3  Alexander Khomenko               CSKA Moscow       4    Guard   Russia   \n",
       "4   Andrea Cinciarini  AX Armani Exchange Milan      20    Guard    Italy   \n",
       "\n",
       "   Age  Height  Games  Minutes     2FG  ... Rebounds Assists  Steals  \\\n",
       "0   31     200     41      652  48/101  ...       90      69      32   \n",
       "1   32     202     41      841  72/119  ...      189      45      24   \n",
       "2   27     198     39      730   22/50  ...       72      26      22   \n",
       "3   21     192     16      100    9/17  ...        4       4       0   \n",
       "4   34     193      8       19     0/0  ...        2       2       0   \n",
       "\n",
       "   Turnovers  Blocks(Fv)  Blocks(Ag)  Fouls(Cm)  Fouls(Rv)  PIR  PIR(Avg)  \n",
       "0         48          11           5         77         47  198       4.8  \n",
       "1         39           6           7         60         51  347       8.5  \n",
       "2         13           8           7         96         39  182       4.7  \n",
       "3          8           0           1         24         24   15       0.9  \n",
       "4          2           0           0          5          2   -3      -0.4  \n",
       "\n",
       "[5 rows x 23 columns]"
      ]
     },
     "execution_count": 2,
     "metadata": {},
     "output_type": "execute_result"
    }
   ],
   "source": [
    "df = pd.read_csv(\"../Data/Final_Four 2020-2021-2.csv\")\n",
    "df.head()"
   ]
  },
  {
   "cell_type": "code",
   "execution_count": 3,
   "id": "fcc58ac9",
   "metadata": {},
   "outputs": [
    {
     "data": {
      "text/plain": [
       "Guard      26\n",
       "Forward    24\n",
       "Center     15\n",
       "Name: Position, dtype: int64"
      ]
     },
     "execution_count": 3,
     "metadata": {},
     "output_type": "execute_result"
    }
   ],
   "source": [
    "df['Position'].value_counts()"
   ]
  },
  {
   "cell_type": "code",
   "execution_count": 4,
   "id": "d4ce42fa",
   "metadata": {},
   "outputs": [
    {
     "data": {
      "text/plain": [
       "Index(['Guard', 'Forward', 'Center'], dtype='object')"
      ]
     },
     "execution_count": 4,
     "metadata": {},
     "output_type": "execute_result"
    }
   ],
   "source": [
    "df['Position'].value_counts().index"
   ]
  },
  {
   "cell_type": "code",
   "execution_count": 5,
   "id": "3d0efbde",
   "metadata": {},
   "outputs": [
    {
     "data": {
      "image/png": "[encoded data removed]",
      "text/plain": [
       "<Figure size 432x288 with 1 Axes>"
      ]
     },
     "metadata": {
      "needs_background": "light"
     },
     "output_type": "display_data"
    }
   ],
   "source": [
    "plt.bar(df['Position'].value_counts().index, df['Position'].value_counts(), color='olive', width=0.7)\n",
    "\n",
    "plt.ylabel(\"Total Number\")\n",
    "plt.title('Distribution of Players by Position', color='blue', fontsize=15, pad=15);"
   ]
  },
  {
   "cell_type": "code",
   "execution_count": 6,
   "id": "97204e61",
   "metadata": {},
   "outputs": [
    {
     "data": {
      "image/png": "[encoded data removed]",
      "text/plain": [
       "<Figure size 432x288 with 1 Axes>"
      ]
     },
     "metadata": {
      "needs_background": "light"
     },
     "output_type": "display_data"
    }
   ],
   "source": [
    "a = plt.bar(df['Position'].value_counts().index, df['Position'].value_counts(), label='Positions')\n",
    "\n",
    "plt.ylabel(\"Total Number\")\n",
    "plt.title('Distribution of Players by Position')\n",
    "\n",
    "plt.ylim(0,35)\n",
    "plt.bar_label(a, padding=5, size=15)\n",
    "plt.legend(fontsize='x-large');"
   ]
  },
  {
   "cell_type": "code",
   "execution_count": 6,
   "id": "8f49aae2",
   "metadata": {},
   "outputs": [
    {
     "data": {
      "image/png": "[encoded data removed]",
      "text/plain": [
       "<Figure size 576x360 with 1 Axes>"
      ]
     },
     "metadata": {
      "needs_background": "light"
     },
     "output_type": "display_data"
    }
   ],
   "source": [
    "fig = plt.figure(figsize=(8,5))\n",
    "\n",
    "x = df['Position'].value_counts().index\n",
    "y = df['Position'].value_counts().values\n",
    "\n",
    "plt.bar(x, y)\n",
    "\n",
    "for i in range(len(x)):\n",
    "        plt.text(x[i],y[i],str(y[i]), ha='center', va='bottom')\n",
    "        \n",
    "plt.tick_params(axis='x', rotation=45, size=15, labelsize=14, color='green', width=5)\n",
    "plt.show()"
   ]
  },
  {
   "cell_type": "code",
   "execution_count": 17,
   "id": "f18deb45",
   "metadata": {},
   "outputs": [
    {
     "data": {
      "image/png": "[encoded data removed]",
      "text/plain": [
       "<Figure size 432x288 with 1 Axes>"
      ]
     },
     "metadata": {
      "needs_background": "light"
     },
     "output_type": "display_data"
    }
   ],
   "source": [
    "# WITH PANDAS\n",
    "df.Position.value_counts().plot.bar();"
   ]
  },
  {
   "cell_type": "code",
   "execution_count": 7,
   "id": "0c9a180d",
   "metadata": {},
   "outputs": [
    {
     "data": {
      "image/png": "[encoded data removed]",
      "text/plain": [
       "<Figure size 432x288 with 1 Axes>"
      ]
     },
     "metadata": {
      "needs_background": "light"
     },
     "output_type": "display_data"
    }
   ],
   "source": [
    "# WITH PANDAS\n",
    "\n",
    "fig, ax = plt.subplots()\n",
    "\n",
    "df.Position.value_counts().plot(kind='bar', ax=ax)\n",
    "\n",
    "# or\n",
    "# ax = kill.gender.value_counts().plot(kind='bar')\n",
    "\n",
    "ax.set_title(\"Distribution of Players by Position\", fontsize=15)\n",
    "\n",
    "for p in ax.patches:\n",
    "    ax.annotate((p.get_height()), (p.get_x()+0.2, p.get_height()+20));"
   ]
  },
  {
   "cell_type": "code",
   "execution_count": 14,
   "id": "953655ac",
   "metadata": {},
   "outputs": [
    {
     "data": {
      "image/png": "[encoded data removed]",
      "text/plain": [
       "<Figure size 432x288 with 1 Axes>"
      ]
     },
     "metadata": {
      "needs_background": "light"
     },
     "output_type": "display_data"
    }
   ],
   "source": [
    "# WITH MATPLOTLIB\n",
    "\n",
    "fig, ax = plt.subplots()\n",
    "\n",
    "ax.bar(df.Position.value_counts().index, df.Position.value_counts().values)\n",
    "ax.set_title(\"Distribution of Players by Position\", fontsize=15)\n",
    "\n",
    "ax.set_ylabel(\"Numbers by Position\")\n",
    "ax.set_xlabel(\"Positions\")\n",
    "\n",
    "for p in ax.patches:\n",
    "    ax.annotate((p.get_height()), (p.get_x()+0.35, p.get_height()+20));"
   ]
  },
  {
   "cell_type": "code",
   "execution_count": 9,
   "id": "6696d28f",
   "metadata": {},
   "outputs": [
    {
     "data": {
      "text/plain": [
       "[<matplotlib.patches.Rectangle at 0x1835fb0fa00>,\n",
       " <matplotlib.patches.Rectangle at 0x1835fb0f8e0>,\n",
       " <matplotlib.patches.Rectangle at 0x1835fb0fee0>]"
      ]
     },
     "execution_count": 9,
     "metadata": {},
     "output_type": "execute_result"
    }
   ],
   "source": [
    "ax.patches"
   ]
  },
  {
   "cell_type": "code",
   "execution_count": 10,
   "id": "478d3fe5",
   "metadata": {},
   "outputs": [
    {
     "data": {
      "text/plain": [
       "<matplotlib.patches.Rectangle at 0x1835fb0f8e0>"
      ]
     },
     "execution_count": 10,
     "metadata": {},
     "output_type": "execute_result"
    }
   ],
   "source": [
    "ax.patches[1]"
   ]
  },
  {
   "cell_type": "code",
   "execution_count": 11,
   "id": "35892261",
   "metadata": {},
   "outputs": [
    {
     "data": {
      "text/plain": [
       "0.6"
      ]
     },
     "execution_count": 11,
     "metadata": {},
     "output_type": "execute_result"
    }
   ],
   "source": [
    "ax.patches[1].get_x()"
   ]
  },
  {
   "cell_type": "code",
   "execution_count": 12,
   "id": "17130bb1",
   "metadata": {},
   "outputs": [
    {
     "data": {
      "text/plain": [
       "24"
      ]
     },
     "execution_count": 12,
     "metadata": {},
     "output_type": "execute_result"
    }
   ],
   "source": [
    "ax.patches[1].get_height()"
   ]
  },
  {
   "cell_type": "markdown",
   "id": "ea046f02",
   "metadata": {},
   "source": [
    "## Multiple Bars"
   ]
  },
  {
   "cell_type": "code",
   "execution_count": 8,
   "id": "b09eb2f3",
   "metadata": {},
   "outputs": [
    {
     "data": {
      "image/png": "[encoded data removed]",
      "text/plain": [
       "<Figure size 432x288 with 1 Axes>"
      ]
     },
     "metadata": {
      "needs_background": "light"
     },
     "output_type": "display_data"
    }
   ],
   "source": [
    "label = df.groupby('Position')['Points'].sum().index \n",
    "\n",
    "x = df.groupby('Position')['Minutes'].sum()\n",
    "y = df.groupby('Position')['Points'].sum()\n",
    "\n",
    "plt.bar(label, x, label='Minutes')\n",
    "plt.bar(label, y, label='Points')\n",
    "\n",
    "#plt.xticks(label)\n",
    "\n",
    "plt.ylabel(\"Minutes / Points\")\n",
    "plt.title('Minutes and Points Stats')\n",
    "plt.legend();"
   ]
  },
  {
   "cell_type": "code",
   "execution_count": 9,
   "id": "672cad56",
   "metadata": {},
   "outputs": [
    {
     "data": {
      "image/png": "[encoded data removed]",
      "text/plain": [
       "<Figure size 576x360 with 1 Axes>"
      ]
     },
     "metadata": {
      "needs_background": "light"
     },
     "output_type": "display_data"
    }
   ],
   "source": [
    "fig = plt.figure(figsize=(8,5))\n",
    "\n",
    "p = np.arange(len(df.groupby('Position'))) \n",
    "\n",
    "x = df.groupby('Position')['Minutes'].sum()\n",
    "y = df.groupby('Position')['Points'].sum()\n",
    "\n",
    "plt.bar(p-0.2, x, width=0.4, label='Minutes')\n",
    "plt.bar(p+0.2, y, width=0.4, label='Points')\n",
    "\n",
    "plt.xticks(p, label)\n",
    "\n",
    "plt.ylabel(\"Minutes / Points\")\n",
    "plt.title('Minutes and Points Stats')\n",
    "plt.legend();"
   ]
  },
  {
   "cell_type": "code",
   "execution_count": 13,
   "id": "9304a7c0",
   "metadata": {},
   "outputs": [
    {
     "data": {
      "image/png": "[encoded data removed]",
      "text/plain": [
       "<Figure size 576x360 with 1 Axes>"
      ]
     },
     "metadata": {
      "needs_background": "light"
     },
     "output_type": "display_data"
    }
   ],
   "source": [
    "# OOM\n",
    "\n",
    "label = df.groupby('Position')['Points'].sum().index \n",
    "\n",
    "x = df.groupby('Position')['Minutes'].sum()\n",
    "y = df.groupby('Position')['Points'].sum()\n",
    "\n",
    "fig, ax = plt.subplots(figsize=(8,5))\n",
    "\n",
    "p = np.arange(len(df.groupby('Position')))\n",
    "\n",
    "ax.bar(p-0.2, x, width=0.4, label='Minutes')\n",
    "ax.bar(p+0.2, y, width=0.4, label='Points')\n",
    "\n",
    "ax.set_xticks(p)\n",
    "ax.set_xticklabels(label, rotation=45)\n",
    "\n",
    "ax.legend();"
   ]
  },
  {
   "cell_type": "code",
   "execution_count": 30,
   "id": "b524b786",
   "metadata": {},
   "outputs": [
    {
     "data": {
      "image/png": "[encoded data removed]",
      "text/plain": [
       "<Figure size 720x360 with 1 Axes>"
      ]
     },
     "metadata": {
      "needs_background": "light"
     },
     "output_type": "display_data"
    }
   ],
   "source": [
    "fig, ax = plt.subplots(figsize=(10,5))\n",
    "\n",
    "p = np.arange(len(df.Position.unique()))\n",
    "\n",
    "size1 = df.groupby(\"Position\")[\"Age\"].mean().values\n",
    "size2 = df.groupby(\"Position\")[\"Height\"].mean().values\n",
    "size3 = df.groupby(\"Position\")[\"Games\"].mean().values\n",
    "\n",
    "a = ax.bar(p - 0.3, [size1[0], size2[0], size3[0]], width = 0.3, color='gold', label=\"Center\")    \n",
    "b = ax.bar(p, [size1[1], size2[1], size3[1]], width=0.3, color='teal', label=\"Forward\")   \n",
    "c = ax.bar(p + 0.3, [size1[2], size2[2], size3[2]], width=0.3, color='salmon', label=\"Guard\")\n",
    "\n",
    "ax.bar_label(a, padding=3, fmt='%.2f')\n",
    "ax.bar_label(b, padding=3, fmt='%.2f')\n",
    "ax.bar_label(c, padding=3, fmt='%.2f')\n",
    "   \n",
    "ax.set_xticks(p)\n",
    "ax.set_xticklabels([\"Age\", \"Height\", \"Games\"])\n",
    "\n",
    "ax.set_ylim(0, 250)\n",
    "ax.legend()\n",
    "fig.tight_layout();"
   ]
  },
  {
   "cell_type": "markdown",
   "id": "8e1f4087",
   "metadata": {},
   "source": [
    "## Horizontal Bar Chart"
   ]
  },
  {
   "cell_type": "code",
   "execution_count": 11,
   "id": "fcca3cf2",
   "metadata": {},
   "outputs": [
    {
     "data": {
      "image/png": "[encoded data removed]",
      "text/plain": [
       "<Figure size 576x432 with 1 Axes>"
      ]
     },
     "metadata": {
      "needs_background": "light"
     },
     "output_type": "display_data"
    }
   ],
   "source": [
    "fig = plt.figure(figsize=(8,6))\n",
    "\n",
    "p = np.arange(len(df.groupby('Position'))) \n",
    "\n",
    "x = df.groupby('Position')['Minutes'].sum()\n",
    "y = df.groupby('Position')['Points'].sum()\n",
    "\n",
    "plt.barh(p-0.20, x, label='Minutes', height=0.4, align='center', color='tab:red', edgecolor='green')\n",
    "plt.barh(p+0.20, y, label='Points', height=0.4, align='center', color='gold', edgecolor='green')\n",
    "\n",
    "plt.yticks(p, label)\n",
    "# plt.xlim(0,15000)\n",
    "\n",
    "plt.xlabel(\"Minutes / Points\")\n",
    "plt.title('Minutes and Points Stats')\n",
    "\n",
    "plt.style.use('ggplot')\n",
    "plt.tight_layout()\n",
    "plt.legend();"
   ]
  },
  {
   "cell_type": "code",
   "execution_count": 12,
   "id": "67e3ee45",
   "metadata": {},
   "outputs": [
    {
     "data": {
      "image/png": "[encoded data removed]",
      "text/plain": [
       "<Figure size 432x288 with 1 Axes>"
      ]
     },
     "metadata": {},
     "output_type": "display_data"
    }
   ],
   "source": [
    "df = pd.DataFrame(dict(graph=['Item one', 'Item two', 'Item three'],\n",
    "                           n=[3, 5, 2], m=[6, 1, 3])) \n",
    "\n",
    "ind = np.arange(len(df))\n",
    "width = 0.4\n",
    "\n",
    "fig, ax = plt.subplots()\n",
    "ax.barh(ind, df.n, width, color='red', label='N')\n",
    "ax.barh(ind + width, df.m, width, color='green', label='M')\n",
    "\n",
    "# ax.set(yticks=ind + width, yticklabels=df.graph, ylim=[2*width - 1, len(df)])\n",
    "ax.legend()\n",
    "\n",
    "plt.show()"
   ]
  },
  {
   "cell_type": "markdown",
   "id": "9153bf05",
   "metadata": {},
   "source": [
    "## Examples"
   ]
  },
  {
   "cell_type": "code",
   "execution_count": 4,
   "id": "918f57d7",
   "metadata": {},
   "outputs": [
    {
     "data": {
      "text/html": [
       "<div>\n",
       "<style scoped>\n",
       "    .dataframe tbody tr th:only-of-type {\n",
       "        vertical-align: middle;\n",
       "    }\n",
       "\n",
       "    .dataframe tbody tr th {\n",
       "        vertical-align: top;\n",
       "    }\n",
       "\n",
       "    .dataframe thead th {\n",
       "        text-align: right;\n",
       "    }\n",
       "</style>\n",
       "<table border=\"1\" class=\"dataframe\">\n",
       "  <thead>\n",
       "    <tr style=\"text-align: right;\">\n",
       "      <th></th>\n",
       "      <th>total_bill</th>\n",
       "      <th>tip</th>\n",
       "      <th>sex</th>\n",
       "      <th>smoker</th>\n",
       "      <th>day</th>\n",
       "      <th>time</th>\n",
       "      <th>size</th>\n",
       "    </tr>\n",
       "  </thead>\n",
       "  <tbody>\n",
       "    <tr>\n",
       "      <th>0</th>\n",
       "      <td>16.99</td>\n",
       "      <td>1.01</td>\n",
       "      <td>Female</td>\n",
       "      <td>No</td>\n",
       "      <td>Sun</td>\n",
       "      <td>Dinner</td>\n",
       "      <td>2</td>\n",
       "    </tr>\n",
       "    <tr>\n",
       "      <th>1</th>\n",
       "      <td>10.34</td>\n",
       "      <td>1.66</td>\n",
       "      <td>Male</td>\n",
       "      <td>No</td>\n",
       "      <td>Sun</td>\n",
       "      <td>Dinner</td>\n",
       "      <td>3</td>\n",
       "    </tr>\n",
       "    <tr>\n",
       "      <th>2</th>\n",
       "      <td>21.01</td>\n",
       "      <td>3.50</td>\n",
       "      <td>Male</td>\n",
       "      <td>No</td>\n",
       "      <td>Sun</td>\n",
       "      <td>Dinner</td>\n",
       "      <td>3</td>\n",
       "    </tr>\n",
       "    <tr>\n",
       "      <th>3</th>\n",
       "      <td>23.68</td>\n",
       "      <td>3.31</td>\n",
       "      <td>Male</td>\n",
       "      <td>No</td>\n",
       "      <td>Sun</td>\n",
       "      <td>Dinner</td>\n",
       "      <td>2</td>\n",
       "    </tr>\n",
       "    <tr>\n",
       "      <th>4</th>\n",
       "      <td>24.59</td>\n",
       "      <td>3.61</td>\n",
       "      <td>Female</td>\n",
       "      <td>No</td>\n",
       "      <td>Sun</td>\n",
       "      <td>Dinner</td>\n",
       "      <td>4</td>\n",
       "    </tr>\n",
       "  </tbody>\n",
       "</table>\n",
       "</div>"
      ],
      "text/plain": [
       "   total_bill   tip     sex smoker  day    time  size\n",
       "0       16.99  1.01  Female     No  Sun  Dinner     2\n",
       "1       10.34  1.66    Male     No  Sun  Dinner     3\n",
       "2       21.01  3.50    Male     No  Sun  Dinner     3\n",
       "3       23.68  3.31    Male     No  Sun  Dinner     2\n",
       "4       24.59  3.61  Female     No  Sun  Dinner     4"
      ]
     },
     "execution_count": 4,
     "metadata": {},
     "output_type": "execute_result"
    }
   ],
   "source": [
    "df = sns.load_dataset(\"tips\")\n",
    "df.head()"
   ]
  },
  {
   "cell_type": "code",
   "execution_count": 9,
   "id": "6bcc2b5a",
   "metadata": {},
   "outputs": [
    {
     "data": {
      "text/html": [
       "<div>\n",
       "<style scoped>\n",
       "    .dataframe tbody tr th:only-of-type {\n",
       "        vertical-align: middle;\n",
       "    }\n",
       "\n",
       "    .dataframe tbody tr th {\n",
       "        vertical-align: top;\n",
       "    }\n",
       "\n",
       "    .dataframe thead th {\n",
       "        text-align: right;\n",
       "    }\n",
       "</style>\n",
       "<table border=\"1\" class=\"dataframe\">\n",
       "  <thead>\n",
       "    <tr style=\"text-align: right;\">\n",
       "      <th></th>\n",
       "      <th>total_bill</th>\n",
       "      <th>tip</th>\n",
       "      <th>size</th>\n",
       "    </tr>\n",
       "    <tr>\n",
       "      <th>day</th>\n",
       "      <th></th>\n",
       "      <th></th>\n",
       "      <th></th>\n",
       "    </tr>\n",
       "  </thead>\n",
       "  <tbody>\n",
       "    <tr>\n",
       "      <th>Thur</th>\n",
       "      <td>1096.33</td>\n",
       "      <td>171.83</td>\n",
       "      <td>152</td>\n",
       "    </tr>\n",
       "    <tr>\n",
       "      <th>Fri</th>\n",
       "      <td>325.88</td>\n",
       "      <td>51.96</td>\n",
       "      <td>40</td>\n",
       "    </tr>\n",
       "    <tr>\n",
       "      <th>Sat</th>\n",
       "      <td>1778.40</td>\n",
       "      <td>260.40</td>\n",
       "      <td>219</td>\n",
       "    </tr>\n",
       "    <tr>\n",
       "      <th>Sun</th>\n",
       "      <td>1627.16</td>\n",
       "      <td>247.39</td>\n",
       "      <td>216</td>\n",
       "    </tr>\n",
       "  </tbody>\n",
       "</table>\n",
       "</div>"
      ],
      "text/plain": [
       "      total_bill     tip  size\n",
       "day                           \n",
       "Thur     1096.33  171.83   152\n",
       "Fri       325.88   51.96    40\n",
       "Sat      1778.40  260.40   219\n",
       "Sun      1627.16  247.39   216"
      ]
     },
     "execution_count": 9,
     "metadata": {},
     "output_type": "execute_result"
    }
   ],
   "source": [
    "df = df.groupby('day').sum()\n",
    "df"
   ]
  },
  {
   "cell_type": "code",
   "execution_count": 12,
   "id": "ea5955e3",
   "metadata": {},
   "outputs": [
    {
     "data": {
      "image/png": "[encoded data removed]",
      "text/plain": [
       "<Figure size 432x288 with 1 Axes>"
      ]
     },
     "metadata": {
      "needs_background": "light"
     },
     "output_type": "display_data"
    }
   ],
   "source": [
    "fig, ax = plt.subplots()\n",
    "\n",
    "x = df.index\n",
    "y = df.total_bill\n",
    "\n",
    "ax.bar(x,y )\n",
    "ax.set_title(\"Total Bill Distribution by Days\")\n",
    "ax.set_ylim(0, 2000)\n",
    "\n",
    "for i in range(len(x)):\n",
    "    plt.text(x[i], y[i], str(round(y[i],2)), ha=\"center\",va=\"bottom\")"
   ]
  },
  {
   "cell_type": "code",
   "execution_count": null,
   "id": "c60466a5",
   "metadata": {},
   "outputs": [],
   "source": []
  }
 ],
 "metadata": {
  "kernelspec": {
   "display_name": "Python 3 (ipykernel)",
   "language": "python",
   "name": "python3"
  },
  "language_info": {
   "codemirror_mode": {
    "name": "ipython",
    "version": 3
   },
   "file_extension": ".py",
   "mimetype": "text/x-python",
   "name": "python",
   "nbconvert_exporter": "python",
   "pygments_lexer": "ipython3",
   "version": "3.9.6"
  }
 },
 "nbformat": 4,
 "nbformat_minor": 5
}
