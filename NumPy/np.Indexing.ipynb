{
 "cells": [
  {
   "cell_type": "code",
   "execution_count": 1,
   "id": "1c555679",
   "metadata": {},
   "outputs": [],
   "source": [
    "import numpy as np"
   ]
  },
  {
   "cell_type": "code",
   "execution_count": null,
   "id": "e76261c4",
   "metadata": {},
   "outputs": [],
   "source": [
    "# axis 1 = y axis, column, feature\n",
    "# axis 0 = x axis, row, observation"
   ]
  },
  {
   "cell_type": "code",
   "execution_count": 2,
   "id": "d556b732",
   "metadata": {},
   "outputs": [],
   "source": [
    "arr = np.array([[1, 2, 3], [4, 5, 6], [7, 8, 9]])"
   ]
  },
  {
   "cell_type": "code",
   "execution_count": 3,
   "id": "ac6245bd",
   "metadata": {},
   "outputs": [
    {
     "data": {
      "text/plain": [
       "array([1, 2])"
      ]
     },
     "execution_count": 3,
     "metadata": {},
     "output_type": "execute_result"
    }
   ],
   "source": [
    "arr[0,:2]"
   ]
  },
  {
   "cell_type": "code",
   "execution_count": 4,
   "id": "0ef1abbe",
   "metadata": {},
   "outputs": [
    {
     "data": {
      "text/plain": [
       "6"
      ]
     },
     "execution_count": 4,
     "metadata": {},
     "output_type": "execute_result"
    }
   ],
   "source": [
    "arr[1,2]"
   ]
  },
  {
   "cell_type": "code",
   "execution_count": 6,
   "id": "b3f557e7",
   "metadata": {},
   "outputs": [
    {
     "data": {
      "text/plain": [
       "array([3, 6])"
      ]
     },
     "execution_count": 6,
     "metadata": {},
     "output_type": "execute_result"
    }
   ],
   "source": [
    "arr[0:2,2]"
   ]
  },
  {
   "cell_type": "code",
   "execution_count": 5,
   "id": "037bc3eb",
   "metadata": {},
   "outputs": [
    {
     "data": {
      "text/plain": [
       "array([7, 8, 9])"
      ]
     },
     "execution_count": 5,
     "metadata": {},
     "output_type": "execute_result"
    }
   ],
   "source": [
    "arr[-1]"
   ]
  },
  {
   "cell_type": "code",
   "execution_count": 7,
   "id": "196d5d04",
   "metadata": {},
   "outputs": [
    {
     "data": {
      "text/plain": [
       "array([7, 8])"
      ]
     },
     "execution_count": 7,
     "metadata": {},
     "output_type": "execute_result"
    }
   ],
   "source": [
    "arr[-1, 0:2]"
   ]
  },
  {
   "cell_type": "code",
   "execution_count": 8,
   "id": "5caa4807",
   "metadata": {},
   "outputs": [
    {
     "data": {
      "text/plain": [
       "array([[2, 3],\n",
       "       [5, 6],\n",
       "       [8, 9]])"
      ]
     },
     "execution_count": 8,
     "metadata": {},
     "output_type": "execute_result"
    }
   ],
   "source": [
    "arr[:, 1:3]"
   ]
  },
  {
   "cell_type": "code",
   "execution_count": 9,
   "id": "537c0af4",
   "metadata": {},
   "outputs": [
    {
     "data": {
      "text/plain": [
       "array([[2, 3],\n",
       "       [5, 6]])"
      ]
     },
     "execution_count": 9,
     "metadata": {},
     "output_type": "execute_result"
    }
   ],
   "source": [
    "arr[:2,1:]"
   ]
  },
  {
   "cell_type": "code",
   "execution_count": 10,
   "id": "29255975",
   "metadata": {},
   "outputs": [
    {
     "data": {
      "text/plain": [
       "array([[1],\n",
       "       [4],\n",
       "       [7]])"
      ]
     },
     "execution_count": 10,
     "metadata": {},
     "output_type": "execute_result"
    }
   ],
   "source": [
    "arr[:,:1]"
   ]
  },
  {
   "cell_type": "code",
   "execution_count": null,
   "id": "f1aeda0b",
   "metadata": {},
   "outputs": [],
   "source": []
  },
  {
   "cell_type": "code",
   "execution_count": 12,
   "id": "4ef46352",
   "metadata": {},
   "outputs": [
    {
     "data": {
      "text/plain": [
       "array([2, 3, 9])"
      ]
     },
     "execution_count": 12,
     "metadata": {},
     "output_type": "execute_result"
    }
   ],
   "source": [
    "a = np.array([1,2,3,4,5,6,7,8,9])\n",
    "a[[1,2,8]]"
   ]
  },
  {
   "cell_type": "code",
   "execution_count": null,
   "id": "c77d2f68",
   "metadata": {},
   "outputs": [],
   "source": []
  },
  {
   "cell_type": "code",
   "execution_count": 10,
   "id": "4ed801cf",
   "metadata": {},
   "outputs": [
    {
     "data": {
      "text/plain": [
       "array([[0.76980521, 0.99937447, 0.49710257, 0.59072714, 0.49232528],\n",
       "       [0.06771073, 0.35937273, 0.57267236, 0.01256521, 0.86552682],\n",
       "       [0.68017752, 0.20394305, 0.56171704, 0.90919584, 0.18411602],\n",
       "       [0.48775977, 0.52992059, 0.05006548, 0.47982896, 0.17357555],\n",
       "       [0.98812364, 0.83433945, 0.47222343, 0.10740715, 0.10334256]])"
      ]
     },
     "execution_count": 10,
     "metadata": {},
     "output_type": "execute_result"
    }
   ],
   "source": [
    "rand_float = np.random.rand(5,5)\n",
    "rand_float"
   ]
  },
  {
   "cell_type": "code",
   "execution_count": 11,
   "id": "9040862a",
   "metadata": {},
   "outputs": [
    {
     "data": {
      "text/plain": [
       "array([0.76980521, 0.99937447, 0.49710257, 0.59072714, 0.49232528])"
      ]
     },
     "execution_count": 11,
     "metadata": {},
     "output_type": "execute_result"
    }
   ],
   "source": [
    "rand_float[0]"
   ]
  },
  {
   "cell_type": "code",
   "execution_count": 12,
   "id": "aaac2a63",
   "metadata": {},
   "outputs": [
    {
     "data": {
      "text/plain": [
       "array([[0.06771073, 0.35937273, 0.57267236, 0.01256521, 0.86552682],\n",
       "       [0.68017752, 0.20394305, 0.56171704, 0.90919584, 0.18411602],\n",
       "       [0.48775977, 0.52992059, 0.05006548, 0.47982896, 0.17357555]])"
      ]
     },
     "execution_count": 12,
     "metadata": {},
     "output_type": "execute_result"
    }
   ],
   "source": [
    "rand_float[1:4]"
   ]
  },
  {
   "cell_type": "code",
   "execution_count": 13,
   "id": "2d5ce324",
   "metadata": {},
   "outputs": [
    {
     "data": {
      "text/plain": [
       "array([[0.06771073, 0.35937273, 0.57267236, 0.01256521, 0.86552682],\n",
       "       [0.68017752, 0.20394305, 0.56171704, 0.90919584, 0.18411602]])"
      ]
     },
     "execution_count": 13,
     "metadata": {},
     "output_type": "execute_result"
    }
   ],
   "source": [
    "rand_float[-4:-2]"
   ]
  },
  {
   "cell_type": "code",
   "execution_count": 14,
   "id": "28fd59d1",
   "metadata": {},
   "outputs": [
    {
     "data": {
      "text/plain": [
       "array([0.76980521, 0.06771073, 0.68017752, 0.48775977, 0.98812364])"
      ]
     },
     "execution_count": 14,
     "metadata": {},
     "output_type": "execute_result"
    }
   ],
   "source": [
    "rand_float[:, 0]"
   ]
  },
  {
   "cell_type": "code",
   "execution_count": 15,
   "id": "7bdacf89",
   "metadata": {},
   "outputs": [
    {
     "data": {
      "text/plain": [
       "array([[0.76980521, 0.99937447, 0.49710257],\n",
       "       [0.06771073, 0.35937273, 0.57267236]])"
      ]
     },
     "execution_count": 15,
     "metadata": {},
     "output_type": "execute_result"
    }
   ],
   "source": [
    "rand_float[0:2, 0:3]"
   ]
  },
  {
   "cell_type": "code",
   "execution_count": 16,
   "id": "9eae3ff5",
   "metadata": {},
   "outputs": [
    {
     "data": {
      "text/plain": [
       "array([0.99937447, 0.35937273])"
      ]
     },
     "execution_count": 16,
     "metadata": {},
     "output_type": "execute_result"
    }
   ],
   "source": [
    "rand_float[0:2,1]"
   ]
  },
  {
   "cell_type": "code",
   "execution_count": 17,
   "id": "bac1b74e",
   "metadata": {},
   "outputs": [
    {
     "data": {
      "text/plain": [
       "array([0.76980521, 0.49710257, 0.49232528])"
      ]
     },
     "execution_count": 17,
     "metadata": {},
     "output_type": "execute_result"
    }
   ],
   "source": [
    "rand_float[0, ::2]"
   ]
  },
  {
   "cell_type": "code",
   "execution_count": 18,
   "id": "57879547",
   "metadata": {},
   "outputs": [
    {
     "data": {
      "text/plain": [
       "array([[0.76980521],\n",
       "       [0.06771073],\n",
       "       [0.68017752],\n",
       "       [0.48775977],\n",
       "       [0.98812364]])"
      ]
     },
     "execution_count": 18,
     "metadata": {},
     "output_type": "execute_result"
    }
   ],
   "source": [
    "rand_float[:,0].reshape(-1,1)"
   ]
  },
  {
   "cell_type": "code",
   "execution_count": 19,
   "id": "28dceae0",
   "metadata": {},
   "outputs": [
    {
     "data": {
      "text/plain": [
       "array([0.99937447, 0.49710257, 0.59072714])"
      ]
     },
     "execution_count": 19,
     "metadata": {},
     "output_type": "execute_result"
    }
   ],
   "source": [
    "rand_float[0][1:4]"
   ]
  },
  {
   "cell_type": "code",
   "execution_count": 20,
   "id": "8ec1a3ba",
   "metadata": {},
   "outputs": [
    {
     "data": {
      "text/plain": [
       "array([0.35937273, 0.57267236, 0.01256521])"
      ]
     },
     "execution_count": 20,
     "metadata": {},
     "output_type": "execute_result"
    }
   ],
   "source": [
    "rand_float[1][1:4]"
   ]
  },
  {
   "cell_type": "code",
   "execution_count": null,
   "id": "4880707d",
   "metadata": {},
   "outputs": [],
   "source": []
  },
  {
   "cell_type": "markdown",
   "id": "30f6774b",
   "metadata": {},
   "source": [
    "## Fancy Indexing"
   ]
  },
  {
   "cell_type": "code",
   "execution_count": 21,
   "id": "19d91ed1",
   "metadata": {},
   "outputs": [
    {
     "data": {
      "text/plain": [
       "array([65,  2,  3,  7, 76, 30, 38, 72, 62, 57])"
      ]
     },
     "execution_count": 21,
     "metadata": {},
     "output_type": "execute_result"
    }
   ],
   "source": [
    "fancy = np.random.randint(0,100,10)\n",
    "fancy"
   ]
  },
  {
   "cell_type": "code",
   "execution_count": 22,
   "id": "932a64c3",
   "metadata": {},
   "outputs": [
    {
     "data": {
      "text/plain": [
       "array([3, 7])"
      ]
     },
     "execution_count": 22,
     "metadata": {},
     "output_type": "execute_result"
    }
   ],
   "source": [
    "fancy[2:4]"
   ]
  },
  {
   "cell_type": "code",
   "execution_count": 23,
   "id": "f89cd752",
   "metadata": {},
   "outputs": [
    {
     "data": {
      "text/plain": [
       "array([ 7, 30,  2, 57])"
      ]
     },
     "execution_count": 23,
     "metadata": {},
     "output_type": "execute_result"
    }
   ],
   "source": [
    "fancy[[3,5,1,9]]"
   ]
  },
  {
   "cell_type": "code",
   "execution_count": 24,
   "id": "68b8e24c",
   "metadata": {},
   "outputs": [
    {
     "data": {
      "text/plain": [
       "array([44,  2,  3,  7, 76, 30, 38, 72, 62, 57])"
      ]
     },
     "execution_count": 24,
     "metadata": {},
     "output_type": "execute_result"
    }
   ],
   "source": [
    "fancy[0] = 44\n",
    "fancy"
   ]
  },
  {
   "cell_type": "code",
   "execution_count": 25,
   "id": "a49930d5",
   "metadata": {},
   "outputs": [
    {
     "data": {
      "text/plain": [
       "array([ 7, 30,  2, 57])"
      ]
     },
     "execution_count": 25,
     "metadata": {},
     "output_type": "execute_result"
    }
   ],
   "source": [
    "f1 = fancy[[3,5,1,9]]\n",
    "f1"
   ]
  },
  {
   "cell_type": "code",
   "execution_count": 26,
   "id": "03b4ef50",
   "metadata": {},
   "outputs": [
    {
     "data": {
      "text/plain": [
       "array([-1, 30,  2, 57])"
      ]
     },
     "execution_count": 26,
     "metadata": {},
     "output_type": "execute_result"
    }
   ],
   "source": [
    "f1[0] = -1\n",
    "f1"
   ]
  },
  {
   "cell_type": "code",
   "execution_count": 27,
   "id": "176886f3",
   "metadata": {},
   "outputs": [
    {
     "data": {
      "text/plain": [
       "array([44,  2,  3,  7, 76, 30, 38, 72, 62, 57])"
      ]
     },
     "execution_count": 27,
     "metadata": {},
     "output_type": "execute_result"
    }
   ],
   "source": [
    "fancy"
   ]
  },
  {
   "cell_type": "code",
   "execution_count": 28,
   "id": "f60cff89",
   "metadata": {},
   "outputs": [
    {
     "data": {
      "text/plain": [
       "array([44,  2,  3,  7, 76, 30, 38, 72, 62, 57])"
      ]
     },
     "execution_count": 28,
     "metadata": {},
     "output_type": "execute_result"
    }
   ],
   "source": [
    "fancy2 = fancy\n",
    "fancy2"
   ]
  },
  {
   "cell_type": "code",
   "execution_count": 29,
   "id": "0567347f",
   "metadata": {},
   "outputs": [
    {
     "data": {
      "text/plain": [
       "array([ 44, 111,   3,   7,  76,  30,  38,  72,  62,  57])"
      ]
     },
     "execution_count": 29,
     "metadata": {},
     "output_type": "execute_result"
    }
   ],
   "source": [
    "fancy2[1] = 111\n",
    "fancy2"
   ]
  },
  {
   "cell_type": "code",
   "execution_count": 30,
   "id": "b00c8e86",
   "metadata": {},
   "outputs": [
    {
     "data": {
      "text/plain": [
       "array([ 44, 111,   3,   7,  76,  30,  38,  72,  62,  57])"
      ]
     },
     "execution_count": 30,
     "metadata": {},
     "output_type": "execute_result"
    }
   ],
   "source": [
    "fancy3 = fancy.copy()\n",
    "fancy3"
   ]
  },
  {
   "cell_type": "code",
   "execution_count": 31,
   "id": "55698160",
   "metadata": {},
   "outputs": [
    {
     "data": {
      "text/plain": [
       "array([11111111,      111,        3,        7,       76,       30,\n",
       "             38,       72,       62,       57])"
      ]
     },
     "execution_count": 31,
     "metadata": {},
     "output_type": "execute_result"
    }
   ],
   "source": [
    "fancy3[0] = 11111111\n",
    "fancy3"
   ]
  },
  {
   "cell_type": "code",
   "execution_count": 32,
   "id": "2b158400",
   "metadata": {},
   "outputs": [
    {
     "data": {
      "text/plain": [
       "array([ 44, 111,   3,   7,  76,  30,  38,  72,  62,  57])"
      ]
     },
     "execution_count": 32,
     "metadata": {},
     "output_type": "execute_result"
    }
   ],
   "source": [
    "fancy"
   ]
  },
  {
   "cell_type": "code",
   "execution_count": 33,
   "id": "85424a09",
   "metadata": {},
   "outputs": [
    {
     "data": {
      "text/plain": [
       "array([ 44, 111,   3, 100, 100, 100, 100,  72,  62,  57])"
      ]
     },
     "execution_count": 33,
     "metadata": {},
     "output_type": "execute_result"
    }
   ],
   "source": [
    "fancy[3:7] = 100\n",
    "fancy"
   ]
  },
  {
   "cell_type": "code",
   "execution_count": null,
   "id": "8f21fea9",
   "metadata": {},
   "outputs": [],
   "source": []
  },
  {
   "cell_type": "code",
   "execution_count": 38,
   "id": "d89928b4",
   "metadata": {},
   "outputs": [],
   "source": [
    "x = np.array([[3.95, 3.98, 2.43],\n",
    "              [3.89, 3.84, 2.31],\n",
    "              [4.05, 4.07, 2.31],\n",
    "              [4.2 , 4.23, 2.63],\n",
    "              [4.34, 4.35, 2.75],\n",
    "              [3.94, 3.96, 2.48],\n",
    "              [3.95, 3.98, 2.47],\n",
    "              [4.07, 4.11, 2.53]])"
   ]
  },
  {
   "cell_type": "code",
   "execution_count": 39,
   "id": "13022147",
   "metadata": {},
   "outputs": [
    {
     "data": {
      "text/plain": [
       "array([[4.07, 2.31],\n",
       "       [4.23, 2.63],\n",
       "       [4.35, 2.75],\n",
       "       [3.96, 2.48]])"
      ]
     },
     "execution_count": 39,
     "metadata": {},
     "output_type": "execute_result"
    }
   ],
   "source": [
    "x[2:6,1:]"
   ]
  },
  {
   "cell_type": "code",
   "execution_count": 40,
   "id": "ea1564b7",
   "metadata": {},
   "outputs": [
    {
     "data": {
      "text/plain": [
       "array([[3.95, 3.98, 2.43],\n",
       "       [3.89, 3.84, 2.31],\n",
       "       [4.05, 0.  , 0.  ],\n",
       "       [4.2 , 0.  , 0.  ],\n",
       "       [4.34, 0.  , 0.  ],\n",
       "       [3.94, 0.  , 0.  ],\n",
       "       [3.95, 3.98, 2.47],\n",
       "       [4.07, 4.11, 2.53]])"
      ]
     },
     "execution_count": 40,
     "metadata": {},
     "output_type": "execute_result"
    }
   ],
   "source": [
    "x[2:6,1:] = 0\n",
    "x"
   ]
  },
  {
   "cell_type": "code",
   "execution_count": 41,
   "id": "715c8fd3",
   "metadata": {},
   "outputs": [
    {
     "data": {
      "text/plain": [
       "array([[ 3.95,  3.98,  2.43],\n",
       "       [ 3.89,  3.84,  2.31],\n",
       "       [ 4.05, -1.  ,  5.  ],\n",
       "       [ 4.2 , -1.  ,  5.  ],\n",
       "       [ 4.34, -1.  ,  5.  ],\n",
       "       [ 3.94, -1.  ,  5.  ],\n",
       "       [ 3.95,  3.98,  2.47],\n",
       "       [ 4.07,  4.11,  2.53]])"
      ]
     },
     "execution_count": 41,
     "metadata": {},
     "output_type": "execute_result"
    }
   ],
   "source": [
    "x[2:6,1:] = [-1,5]\n",
    "x"
   ]
  },
  {
   "cell_type": "code",
   "execution_count": 42,
   "id": "92029c1b",
   "metadata": {},
   "outputs": [
    {
     "data": {
      "text/plain": [
       "array([3.95, 3.98, 3.89, 3.84, 4.05, 5.  , 4.2 , 5.  , 4.34, 5.  , 3.94,\n",
       "       5.  , 3.95, 3.98, 4.07, 4.11])"
      ]
     },
     "execution_count": 42,
     "metadata": {},
     "output_type": "execute_result"
    }
   ],
   "source": [
    "x[x>3]"
   ]
  },
  {
   "cell_type": "code",
   "execution_count": null,
   "id": "071d94e4",
   "metadata": {},
   "outputs": [],
   "source": []
  }
 ],
 "metadata": {
  "kernelspec": {
   "display_name": "Python 3 (ipykernel)",
   "language": "python",
   "name": "python3"
  },
  "language_info": {
   "codemirror_mode": {
    "name": "ipython",
    "version": 3
   },
   "file_extension": ".py",
   "mimetype": "text/x-python",
   "name": "python",
   "nbconvert_exporter": "python",
   "pygments_lexer": "ipython3",
   "version": "3.9.6"
  }
 },
 "nbformat": 4,
 "nbformat_minor": 5
}
