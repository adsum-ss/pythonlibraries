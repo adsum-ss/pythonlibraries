{
 "cells": [
  {
   "cell_type": "code",
   "execution_count": 1,
   "id": "936fce97",
   "metadata": {},
   "outputs": [],
   "source": [
    "import numpy as np\n",
    "import pandas as pd\n",
    "import seaborn as sns"
   ]
  },
  {
   "cell_type": "code",
   "execution_count": 2,
   "id": "59cc740a",
   "metadata": {},
   "outputs": [
    {
     "data": {
      "text/plain": [
       "['anagrams',\n",
       " 'anscombe',\n",
       " 'attention',\n",
       " 'brain_networks',\n",
       " 'car_crashes',\n",
       " 'diamonds',\n",
       " 'dots',\n",
       " 'exercise',\n",
       " 'flights',\n",
       " 'fmri',\n",
       " 'gammas',\n",
       " 'geyser',\n",
       " 'iris',\n",
       " 'mpg',\n",
       " 'penguins',\n",
       " 'planets',\n",
       " 'taxis',\n",
       " 'tips',\n",
       " 'titanic']"
      ]
     },
     "execution_count": 2,
     "metadata": {},
     "output_type": "execute_result"
    }
   ],
   "source": [
    "sns.get_dataset_names()"
   ]
  },
  {
   "cell_type": "code",
   "execution_count": 3,
   "id": "ae606d1a",
   "metadata": {},
   "outputs": [
    {
     "data": {
      "text/html": [
       "<div>\n",
       "<style scoped>\n",
       "    .dataframe tbody tr th:only-of-type {\n",
       "        vertical-align: middle;\n",
       "    }\n",
       "\n",
       "    .dataframe tbody tr th {\n",
       "        vertical-align: top;\n",
       "    }\n",
       "\n",
       "    .dataframe thead th {\n",
       "        text-align: right;\n",
       "    }\n",
       "</style>\n",
       "<table border=\"1\" class=\"dataframe\">\n",
       "  <thead>\n",
       "    <tr style=\"text-align: right;\">\n",
       "      <th></th>\n",
       "      <th>carat</th>\n",
       "      <th>cut</th>\n",
       "      <th>color</th>\n",
       "      <th>clarity</th>\n",
       "      <th>depth</th>\n",
       "      <th>table</th>\n",
       "      <th>price</th>\n",
       "      <th>x</th>\n",
       "      <th>y</th>\n",
       "      <th>z</th>\n",
       "    </tr>\n",
       "  </thead>\n",
       "  <tbody>\n",
       "    <tr>\n",
       "      <th>0</th>\n",
       "      <td>0.23</td>\n",
       "      <td>Ideal</td>\n",
       "      <td>E</td>\n",
       "      <td>SI2</td>\n",
       "      <td>61.5</td>\n",
       "      <td>55.0</td>\n",
       "      <td>326</td>\n",
       "      <td>3.95</td>\n",
       "      <td>3.98</td>\n",
       "      <td>2.43</td>\n",
       "    </tr>\n",
       "    <tr>\n",
       "      <th>1</th>\n",
       "      <td>0.21</td>\n",
       "      <td>Premium</td>\n",
       "      <td>E</td>\n",
       "      <td>SI1</td>\n",
       "      <td>59.8</td>\n",
       "      <td>61.0</td>\n",
       "      <td>326</td>\n",
       "      <td>3.89</td>\n",
       "      <td>3.84</td>\n",
       "      <td>2.31</td>\n",
       "    </tr>\n",
       "    <tr>\n",
       "      <th>2</th>\n",
       "      <td>0.23</td>\n",
       "      <td>Good</td>\n",
       "      <td>E</td>\n",
       "      <td>VS1</td>\n",
       "      <td>56.9</td>\n",
       "      <td>65.0</td>\n",
       "      <td>327</td>\n",
       "      <td>4.05</td>\n",
       "      <td>4.07</td>\n",
       "      <td>2.31</td>\n",
       "    </tr>\n",
       "    <tr>\n",
       "      <th>3</th>\n",
       "      <td>0.29</td>\n",
       "      <td>Premium</td>\n",
       "      <td>I</td>\n",
       "      <td>VS2</td>\n",
       "      <td>62.4</td>\n",
       "      <td>58.0</td>\n",
       "      <td>334</td>\n",
       "      <td>4.20</td>\n",
       "      <td>4.23</td>\n",
       "      <td>2.63</td>\n",
       "    </tr>\n",
       "    <tr>\n",
       "      <th>4</th>\n",
       "      <td>0.31</td>\n",
       "      <td>Good</td>\n",
       "      <td>J</td>\n",
       "      <td>SI2</td>\n",
       "      <td>63.3</td>\n",
       "      <td>58.0</td>\n",
       "      <td>335</td>\n",
       "      <td>4.34</td>\n",
       "      <td>4.35</td>\n",
       "      <td>2.75</td>\n",
       "    </tr>\n",
       "    <tr>\n",
       "      <th>...</th>\n",
       "      <td>...</td>\n",
       "      <td>...</td>\n",
       "      <td>...</td>\n",
       "      <td>...</td>\n",
       "      <td>...</td>\n",
       "      <td>...</td>\n",
       "      <td>...</td>\n",
       "      <td>...</td>\n",
       "      <td>...</td>\n",
       "      <td>...</td>\n",
       "    </tr>\n",
       "    <tr>\n",
       "      <th>53935</th>\n",
       "      <td>0.72</td>\n",
       "      <td>Ideal</td>\n",
       "      <td>D</td>\n",
       "      <td>SI1</td>\n",
       "      <td>60.8</td>\n",
       "      <td>57.0</td>\n",
       "      <td>2757</td>\n",
       "      <td>5.75</td>\n",
       "      <td>5.76</td>\n",
       "      <td>3.50</td>\n",
       "    </tr>\n",
       "    <tr>\n",
       "      <th>53936</th>\n",
       "      <td>0.72</td>\n",
       "      <td>Good</td>\n",
       "      <td>D</td>\n",
       "      <td>SI1</td>\n",
       "      <td>63.1</td>\n",
       "      <td>55.0</td>\n",
       "      <td>2757</td>\n",
       "      <td>5.69</td>\n",
       "      <td>5.75</td>\n",
       "      <td>3.61</td>\n",
       "    </tr>\n",
       "    <tr>\n",
       "      <th>53937</th>\n",
       "      <td>0.70</td>\n",
       "      <td>Very Good</td>\n",
       "      <td>D</td>\n",
       "      <td>SI1</td>\n",
       "      <td>62.8</td>\n",
       "      <td>60.0</td>\n",
       "      <td>2757</td>\n",
       "      <td>5.66</td>\n",
       "      <td>5.68</td>\n",
       "      <td>3.56</td>\n",
       "    </tr>\n",
       "    <tr>\n",
       "      <th>53938</th>\n",
       "      <td>0.86</td>\n",
       "      <td>Premium</td>\n",
       "      <td>H</td>\n",
       "      <td>SI2</td>\n",
       "      <td>61.0</td>\n",
       "      <td>58.0</td>\n",
       "      <td>2757</td>\n",
       "      <td>6.15</td>\n",
       "      <td>6.12</td>\n",
       "      <td>3.74</td>\n",
       "    </tr>\n",
       "    <tr>\n",
       "      <th>53939</th>\n",
       "      <td>0.75</td>\n",
       "      <td>Ideal</td>\n",
       "      <td>D</td>\n",
       "      <td>SI2</td>\n",
       "      <td>62.2</td>\n",
       "      <td>55.0</td>\n",
       "      <td>2757</td>\n",
       "      <td>5.83</td>\n",
       "      <td>5.87</td>\n",
       "      <td>3.64</td>\n",
       "    </tr>\n",
       "  </tbody>\n",
       "</table>\n",
       "<p>53940 rows × 10 columns</p>\n",
       "</div>"
      ],
      "text/plain": [
       "       carat        cut color clarity  depth  table  price     x     y     z\n",
       "0       0.23      Ideal     E     SI2   61.5   55.0    326  3.95  3.98  2.43\n",
       "1       0.21    Premium     E     SI1   59.8   61.0    326  3.89  3.84  2.31\n",
       "2       0.23       Good     E     VS1   56.9   65.0    327  4.05  4.07  2.31\n",
       "3       0.29    Premium     I     VS2   62.4   58.0    334  4.20  4.23  2.63\n",
       "4       0.31       Good     J     SI2   63.3   58.0    335  4.34  4.35  2.75\n",
       "...      ...        ...   ...     ...    ...    ...    ...   ...   ...   ...\n",
       "53935   0.72      Ideal     D     SI1   60.8   57.0   2757  5.75  5.76  3.50\n",
       "53936   0.72       Good     D     SI1   63.1   55.0   2757  5.69  5.75  3.61\n",
       "53937   0.70  Very Good     D     SI1   62.8   60.0   2757  5.66  5.68  3.56\n",
       "53938   0.86    Premium     H     SI2   61.0   58.0   2757  6.15  6.12  3.74\n",
       "53939   0.75      Ideal     D     SI2   62.2   55.0   2757  5.83  5.87  3.64\n",
       "\n",
       "[53940 rows x 10 columns]"
      ]
     },
     "execution_count": 3,
     "metadata": {},
     "output_type": "execute_result"
    }
   ],
   "source": [
    "df = sns.load_dataset(\"diamonds\")\n",
    "df"
   ]
  },
  {
   "cell_type": "code",
   "execution_count": 4,
   "id": "594c0a44",
   "metadata": {},
   "outputs": [
    {
     "data": {
      "text/html": [
       "<div>\n",
       "<style scoped>\n",
       "    .dataframe tbody tr th:only-of-type {\n",
       "        vertical-align: middle;\n",
       "    }\n",
       "\n",
       "    .dataframe tbody tr th {\n",
       "        vertical-align: top;\n",
       "    }\n",
       "\n",
       "    .dataframe thead th {\n",
       "        text-align: right;\n",
       "    }\n",
       "</style>\n",
       "<table border=\"1\" class=\"dataframe\">\n",
       "  <thead>\n",
       "    <tr style=\"text-align: right;\">\n",
       "      <th></th>\n",
       "      <th>carat</th>\n",
       "      <th>depth</th>\n",
       "      <th>price</th>\n",
       "      <th>x</th>\n",
       "      <th>y</th>\n",
       "      <th>z</th>\n",
       "    </tr>\n",
       "  </thead>\n",
       "  <tbody>\n",
       "    <tr>\n",
       "      <th>0</th>\n",
       "      <td>0.23</td>\n",
       "      <td>61.5</td>\n",
       "      <td>326</td>\n",
       "      <td>3.95</td>\n",
       "      <td>3.98</td>\n",
       "      <td>2.43</td>\n",
       "    </tr>\n",
       "    <tr>\n",
       "      <th>1</th>\n",
       "      <td>0.21</td>\n",
       "      <td>59.8</td>\n",
       "      <td>326</td>\n",
       "      <td>3.89</td>\n",
       "      <td>3.84</td>\n",
       "      <td>2.31</td>\n",
       "    </tr>\n",
       "    <tr>\n",
       "      <th>2</th>\n",
       "      <td>0.23</td>\n",
       "      <td>56.9</td>\n",
       "      <td>327</td>\n",
       "      <td>4.05</td>\n",
       "      <td>4.07</td>\n",
       "      <td>2.31</td>\n",
       "    </tr>\n",
       "    <tr>\n",
       "      <th>3</th>\n",
       "      <td>0.29</td>\n",
       "      <td>62.4</td>\n",
       "      <td>334</td>\n",
       "      <td>4.20</td>\n",
       "      <td>4.23</td>\n",
       "      <td>2.63</td>\n",
       "    </tr>\n",
       "    <tr>\n",
       "      <th>4</th>\n",
       "      <td>0.31</td>\n",
       "      <td>63.3</td>\n",
       "      <td>335</td>\n",
       "      <td>4.34</td>\n",
       "      <td>4.35</td>\n",
       "      <td>2.75</td>\n",
       "    </tr>\n",
       "    <tr>\n",
       "      <th>...</th>\n",
       "      <td>...</td>\n",
       "      <td>...</td>\n",
       "      <td>...</td>\n",
       "      <td>...</td>\n",
       "      <td>...</td>\n",
       "      <td>...</td>\n",
       "    </tr>\n",
       "    <tr>\n",
       "      <th>53935</th>\n",
       "      <td>0.72</td>\n",
       "      <td>60.8</td>\n",
       "      <td>2757</td>\n",
       "      <td>5.75</td>\n",
       "      <td>5.76</td>\n",
       "      <td>3.50</td>\n",
       "    </tr>\n",
       "    <tr>\n",
       "      <th>53936</th>\n",
       "      <td>0.72</td>\n",
       "      <td>63.1</td>\n",
       "      <td>2757</td>\n",
       "      <td>5.69</td>\n",
       "      <td>5.75</td>\n",
       "      <td>3.61</td>\n",
       "    </tr>\n",
       "    <tr>\n",
       "      <th>53937</th>\n",
       "      <td>0.70</td>\n",
       "      <td>62.8</td>\n",
       "      <td>2757</td>\n",
       "      <td>5.66</td>\n",
       "      <td>5.68</td>\n",
       "      <td>3.56</td>\n",
       "    </tr>\n",
       "    <tr>\n",
       "      <th>53938</th>\n",
       "      <td>0.86</td>\n",
       "      <td>61.0</td>\n",
       "      <td>2757</td>\n",
       "      <td>6.15</td>\n",
       "      <td>6.12</td>\n",
       "      <td>3.74</td>\n",
       "    </tr>\n",
       "    <tr>\n",
       "      <th>53939</th>\n",
       "      <td>0.75</td>\n",
       "      <td>62.2</td>\n",
       "      <td>2757</td>\n",
       "      <td>5.83</td>\n",
       "      <td>5.87</td>\n",
       "      <td>3.64</td>\n",
       "    </tr>\n",
       "  </tbody>\n",
       "</table>\n",
       "<p>53940 rows × 6 columns</p>\n",
       "</div>"
      ],
      "text/plain": [
       "       carat  depth  price     x     y     z\n",
       "0       0.23   61.5    326  3.95  3.98  2.43\n",
       "1       0.21   59.8    326  3.89  3.84  2.31\n",
       "2       0.23   56.9    327  4.05  4.07  2.31\n",
       "3       0.29   62.4    334  4.20  4.23  2.63\n",
       "4       0.31   63.3    335  4.34  4.35  2.75\n",
       "...      ...    ...    ...   ...   ...   ...\n",
       "53935   0.72   60.8   2757  5.75  5.76  3.50\n",
       "53936   0.72   63.1   2757  5.69  5.75  3.61\n",
       "53937   0.70   62.8   2757  5.66  5.68  3.56\n",
       "53938   0.86   61.0   2757  6.15  6.12  3.74\n",
       "53939   0.75   62.2   2757  5.83  5.87  3.64\n",
       "\n",
       "[53940 rows x 6 columns]"
      ]
     },
     "execution_count": 4,
     "metadata": {},
     "output_type": "execute_result"
    }
   ],
   "source": [
    "df[[\"carat\", \"depth\", \"price\", \"x\", \"y\", \"z\"]]"
   ]
  },
  {
   "cell_type": "code",
   "execution_count": 5,
   "id": "b682b5c5",
   "metadata": {},
   "outputs": [
    {
     "data": {
      "text/plain": [
       "array([[2.300e-01, 6.150e+01, 3.260e+02, 3.950e+00, 3.980e+00, 2.430e+00],\n",
       "       [2.100e-01, 5.980e+01, 3.260e+02, 3.890e+00, 3.840e+00, 2.310e+00],\n",
       "       [2.300e-01, 5.690e+01, 3.270e+02, 4.050e+00, 4.070e+00, 2.310e+00],\n",
       "       ...,\n",
       "       [7.000e-01, 6.280e+01, 2.757e+03, 5.660e+00, 5.680e+00, 3.560e+00],\n",
       "       [8.600e-01, 6.100e+01, 2.757e+03, 6.150e+00, 6.120e+00, 3.740e+00],\n",
       "       [7.500e-01, 6.220e+01, 2.757e+03, 5.830e+00, 5.870e+00, 3.640e+00]])"
      ]
     },
     "execution_count": 5,
     "metadata": {},
     "output_type": "execute_result"
    }
   ],
   "source": [
    "diamond = np.array(df[[\"carat\", \"depth\", \"price\", \"x\", \"y\", \"z\"]])\n",
    "diamond"
   ]
  },
  {
   "cell_type": "code",
   "execution_count": 6,
   "id": "c095b97b",
   "metadata": {},
   "outputs": [
    {
     "data": {
      "text/plain": [
       "array([2.30e-01, 6.15e+01, 3.26e+02, 3.95e+00, 3.98e+00, 2.43e+00])"
      ]
     },
     "execution_count": 6,
     "metadata": {},
     "output_type": "execute_result"
    }
   ],
   "source": [
    "diamond[0]"
   ]
  },
  {
   "cell_type": "code",
   "execution_count": 7,
   "id": "3bf99569",
   "metadata": {},
   "outputs": [
    {
     "data": {
      "text/plain": [
       "array([[2.30e-01, 6.15e+01, 3.26e+02, 3.95e+00, 3.98e+00, 2.43e+00],\n",
       "       [2.10e-01, 5.98e+01, 3.26e+02, 3.89e+00, 3.84e+00, 2.31e+00]])"
      ]
     },
     "execution_count": 7,
     "metadata": {},
     "output_type": "execute_result"
    }
   ],
   "source": [
    "diamond[0:2]"
   ]
  },
  {
   "cell_type": "code",
   "execution_count": 8,
   "id": "ac9f9e54",
   "metadata": {},
   "outputs": [
    {
     "data": {
      "text/plain": [
       "array([[7.50e-01, 6.32e+01, 2.76e+03, 5.80e+00, 5.75e+00, 3.65e+00],\n",
       "       [7.50e-01, 5.99e+01, 2.76e+03, 6.00e+00, 5.96e+00, 3.58e+00],\n",
       "       [7.40e-01, 6.16e+01, 2.76e+03, 5.80e+00, 5.85e+00, 3.59e+00],\n",
       "       [7.50e-01, 6.17e+01, 2.76e+03, 5.85e+00, 5.79e+00, 3.59e+00],\n",
       "       [8.00e-01, 6.29e+01, 2.76e+03, 5.94e+00, 5.87e+00, 3.72e+00]])"
      ]
     },
     "execution_count": 8,
     "metadata": {},
     "output_type": "execute_result"
    }
   ],
   "source": [
    "diamond[100:105]"
   ]
  },
  {
   "cell_type": "code",
   "execution_count": 9,
   "id": "fc7e0b97",
   "metadata": {},
   "outputs": [
    {
     "data": {
      "text/plain": [
       "array([[7.100e-01, 6.050e+01, 2.756e+03, 5.790e+00, 5.740e+00, 3.490e+00],\n",
       "       [7.100e-01, 5.980e+01, 2.756e+03, 5.740e+00, 5.730e+00, 3.430e+00],\n",
       "       [7.000e-01, 6.050e+01, 2.757e+03, 5.710e+00, 5.760e+00, 3.470e+00],\n",
       "       [7.000e-01, 6.120e+01, 2.757e+03, 5.690e+00, 5.720e+00, 3.490e+00],\n",
       "       [7.200e-01, 6.270e+01, 2.757e+03, 5.690e+00, 5.730e+00, 3.580e+00]])"
      ]
     },
     "execution_count": 9,
     "metadata": {},
     "output_type": "execute_result"
    }
   ],
   "source": [
    "diamond[-10:-5]"
   ]
  },
  {
   "cell_type": "code",
   "execution_count": 10,
   "id": "9d6ac39a",
   "metadata": {},
   "outputs": [
    {
     "data": {
      "text/plain": [
       "array([0.23, 0.21, 0.23, ..., 0.7 , 0.86, 0.75])"
      ]
     },
     "execution_count": 10,
     "metadata": {},
     "output_type": "execute_result"
    }
   ],
   "source": [
    "diamond[:,0]"
   ]
  },
  {
   "cell_type": "code",
   "execution_count": 11,
   "id": "e83eba2b",
   "metadata": {},
   "outputs": [
    {
     "data": {
      "text/plain": [
       "array([[2.30e-01, 6.15e+01, 3.26e+02],\n",
       "       [2.10e-01, 5.98e+01, 3.26e+02]])"
      ]
     },
     "execution_count": 11,
     "metadata": {},
     "output_type": "execute_result"
    }
   ],
   "source": [
    "diamond[0:2, 0:3]"
   ]
  },
  {
   "cell_type": "code",
   "execution_count": 12,
   "id": "e8f11df4",
   "metadata": {},
   "outputs": [
    {
     "data": {
      "text/plain": [
       "array([61.5, 59.8])"
      ]
     },
     "execution_count": 12,
     "metadata": {},
     "output_type": "execute_result"
    }
   ],
   "source": [
    "diamond[0:2,1]"
   ]
  },
  {
   "cell_type": "code",
   "execution_count": 13,
   "id": "237dfd5a",
   "metadata": {},
   "outputs": [
    {
     "data": {
      "text/plain": [
       "array([2.30e-01, 3.26e+02, 3.98e+00])"
      ]
     },
     "execution_count": 13,
     "metadata": {},
     "output_type": "execute_result"
    }
   ],
   "source": [
    "diamond[0, ::2]"
   ]
  },
  {
   "cell_type": "code",
   "execution_count": 14,
   "id": "4fdd082f",
   "metadata": {},
   "outputs": [
    {
     "data": {
      "text/plain": [
       "array([[0.23],\n",
       "       [0.21],\n",
       "       [0.23],\n",
       "       ...,\n",
       "       [0.7 ],\n",
       "       [0.86],\n",
       "       [0.75]])"
      ]
     },
     "execution_count": 14,
     "metadata": {},
     "output_type": "execute_result"
    }
   ],
   "source": [
    "diamond[:,0].reshape(-1,1)"
   ]
  },
  {
   "cell_type": "code",
   "execution_count": 15,
   "id": "3a5ff1ff",
   "metadata": {},
   "outputs": [
    {
     "data": {
      "text/plain": [
       "array([[0.23],\n",
       "       [0.21],\n",
       "       [0.23],\n",
       "       ...,\n",
       "       [0.7 ],\n",
       "       [0.86],\n",
       "       [0.75]])"
      ]
     },
     "execution_count": 15,
     "metadata": {},
     "output_type": "execute_result"
    }
   ],
   "source": [
    "carat1 = diamond[:,0].reshape(len(diamond),1)\n",
    "carat1"
   ]
  },
  {
   "cell_type": "code",
   "execution_count": 16,
   "id": "140b0892",
   "metadata": {},
   "outputs": [
    {
     "data": {
      "text/plain": [
       "array([[61.5],\n",
       "       [59.8],\n",
       "       [56.9],\n",
       "       ...,\n",
       "       [62.8],\n",
       "       [61. ],\n",
       "       [62.2]])"
      ]
     },
     "execution_count": 16,
     "metadata": {},
     "output_type": "execute_result"
    }
   ],
   "source": [
    "depth = diamond[:,1].reshape(len(diamond),1)\n",
    "depth"
   ]
  },
  {
   "cell_type": "code",
   "execution_count": 17,
   "id": "3d5f2d65",
   "metadata": {},
   "outputs": [
    {
     "data": {
      "text/plain": [
       "array([[ 0.23, 61.5 ],\n",
       "       [ 0.21, 59.8 ],\n",
       "       [ 0.23, 56.9 ],\n",
       "       ...,\n",
       "       [ 0.7 , 62.8 ],\n",
       "       [ 0.86, 61.  ],\n",
       "       [ 0.75, 62.2 ]])"
      ]
     },
     "execution_count": 17,
     "metadata": {},
     "output_type": "execute_result"
    }
   ],
   "source": [
    "np.concatenate([carat1,depth],axis=1)"
   ]
  },
  {
   "cell_type": "code",
   "execution_count": 18,
   "id": "b932040c",
   "metadata": {},
   "outputs": [
    {
     "data": {
      "text/plain": [
       "array([[3.95, 3.98, 2.43],\n",
       "       [3.89, 3.84, 2.31],\n",
       "       [4.05, 4.07, 2.31],\n",
       "       ...,\n",
       "       [5.66, 5.68, 3.56],\n",
       "       [6.15, 6.12, 3.74],\n",
       "       [5.83, 5.87, 3.64]])"
      ]
     },
     "execution_count": 18,
     "metadata": {},
     "output_type": "execute_result"
    }
   ],
   "source": [
    "xyz = diamond[:,-3:].reshape(len(diamond),3)\n",
    "xyz"
   ]
  },
  {
   "cell_type": "code",
   "execution_count": 19,
   "id": "5dea789d",
   "metadata": {},
   "outputs": [
    {
     "data": {
      "text/plain": [
       "array([3.95, 3.89, 4.05, ..., 5.66, 6.15, 5.83])"
      ]
     },
     "execution_count": 19,
     "metadata": {},
     "output_type": "execute_result"
    }
   ],
   "source": [
    "xyz[:,0]"
   ]
  },
  {
   "cell_type": "code",
   "execution_count": 20,
   "id": "cae06378",
   "metadata": {},
   "outputs": [
    {
     "data": {
      "text/plain": [
       "array([[ 38.20203 ],\n",
       "       [ 34.505856],\n",
       "       [ 38.076885],\n",
       "       ...,\n",
       "       [114.449728],\n",
       "       [140.76612 ],\n",
       "       [124.568444]])"
      ]
     },
     "execution_count": 20,
     "metadata": {},
     "output_type": "execute_result"
    }
   ],
   "source": [
    "volume = xyz[:,0] * xyz[:,1] * xyz[:,2]\n",
    "volume.reshape(len(volume), 1)"
   ]
  },
  {
   "cell_type": "code",
   "execution_count": null,
   "id": "962605c6",
   "metadata": {},
   "outputs": [],
   "source": []
  }
 ],
 "metadata": {
  "kernelspec": {
   "display_name": "Python 3 (ipykernel)",
   "language": "python",
   "name": "python3"
  },
  "language_info": {
   "codemirror_mode": {
    "name": "ipython",
    "version": 3
   },
   "file_extension": ".py",
   "mimetype": "text/x-python",
   "name": "python",
   "nbconvert_exporter": "python",
   "pygments_lexer": "ipython3",
   "version": "3.9.6"
  }
 },
 "nbformat": 4,
 "nbformat_minor": 5
}
