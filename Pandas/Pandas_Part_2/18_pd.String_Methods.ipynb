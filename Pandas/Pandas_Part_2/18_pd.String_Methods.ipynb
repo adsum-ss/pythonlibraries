{
 "cells": [
  {
   "cell_type": "code",
   "execution_count": 1,
   "id": "8675ad68",
   "metadata": {},
   "outputs": [],
   "source": [
    "import pandas as pd"
   ]
  },
  {
   "cell_type": "code",
   "execution_count": 2,
   "id": "43d138ec",
   "metadata": {},
   "outputs": [],
   "source": [
    "countries = {\n",
    "    'country': ['Turkey', 'Cameroon', 'Albania', 'Brazil', 'Poland', 'Canada', 'Japan', 'Fiji'], \n",
    "    'capital': ['[Ankara]', '[Yaounde]', '[Tirana]', '[Brasilia]', '[Warsaw]', '[Ottawa]', '[Tokyo]', '[Suva]'], \n",
    "    'continent': ['Europe/Asia', 'Africa', 'Europe', 'South America', 'Europe', 'North America', 'Asia', 'Australia/Oceania'],\n",
    "    'population': [84339067, 26545863, 2877797, 212559417, 37846611, 37742154, 126476461, 896444],\n",
    "    'land area': [769630, 472710, 27400, 8358140, 306230, 9093510, 364555, 18270],\n",
    "    'density': [109, 56, 105, 25, 124, 4, 346, 49],\n",
    "    'ocean_coast': ['False', 'True', 'False', 'True', 'False', 'True', 'True', 'True']\n",
    "}"
   ]
  },
  {
   "cell_type": "code",
   "execution_count": 3,
   "id": "61692bc6",
   "metadata": {},
   "outputs": [
    {
     "data": {
      "text/html": [
       "<div>\n",
       "<style scoped>\n",
       "    .dataframe tbody tr th:only-of-type {\n",
       "        vertical-align: middle;\n",
       "    }\n",
       "\n",
       "    .dataframe tbody tr th {\n",
       "        vertical-align: top;\n",
       "    }\n",
       "\n",
       "    .dataframe thead th {\n",
       "        text-align: right;\n",
       "    }\n",
       "</style>\n",
       "<table border=\"1\" class=\"dataframe\">\n",
       "  <thead>\n",
       "    <tr style=\"text-align: right;\">\n",
       "      <th></th>\n",
       "      <th>country</th>\n",
       "      <th>capital</th>\n",
       "      <th>continent</th>\n",
       "      <th>population</th>\n",
       "      <th>land area</th>\n",
       "      <th>density</th>\n",
       "      <th>ocean_coast</th>\n",
       "    </tr>\n",
       "  </thead>\n",
       "  <tbody>\n",
       "    <tr>\n",
       "      <th>0</th>\n",
       "      <td>Turkey</td>\n",
       "      <td>[Ankara]</td>\n",
       "      <td>Europe/Asia</td>\n",
       "      <td>84339067</td>\n",
       "      <td>769630</td>\n",
       "      <td>109</td>\n",
       "      <td>False</td>\n",
       "    </tr>\n",
       "    <tr>\n",
       "      <th>1</th>\n",
       "      <td>Cameroon</td>\n",
       "      <td>[Yaounde]</td>\n",
       "      <td>Africa</td>\n",
       "      <td>26545863</td>\n",
       "      <td>472710</td>\n",
       "      <td>56</td>\n",
       "      <td>True</td>\n",
       "    </tr>\n",
       "    <tr>\n",
       "      <th>2</th>\n",
       "      <td>Albania</td>\n",
       "      <td>[Tirana]</td>\n",
       "      <td>Europe</td>\n",
       "      <td>2877797</td>\n",
       "      <td>27400</td>\n",
       "      <td>105</td>\n",
       "      <td>False</td>\n",
       "    </tr>\n",
       "    <tr>\n",
       "      <th>3</th>\n",
       "      <td>Brazil</td>\n",
       "      <td>[Brasilia]</td>\n",
       "      <td>South America</td>\n",
       "      <td>212559417</td>\n",
       "      <td>8358140</td>\n",
       "      <td>25</td>\n",
       "      <td>True</td>\n",
       "    </tr>\n",
       "    <tr>\n",
       "      <th>4</th>\n",
       "      <td>Poland</td>\n",
       "      <td>[Warsaw]</td>\n",
       "      <td>Europe</td>\n",
       "      <td>37846611</td>\n",
       "      <td>306230</td>\n",
       "      <td>124</td>\n",
       "      <td>False</td>\n",
       "    </tr>\n",
       "    <tr>\n",
       "      <th>5</th>\n",
       "      <td>Canada</td>\n",
       "      <td>[Ottawa]</td>\n",
       "      <td>North America</td>\n",
       "      <td>37742154</td>\n",
       "      <td>9093510</td>\n",
       "      <td>4</td>\n",
       "      <td>True</td>\n",
       "    </tr>\n",
       "    <tr>\n",
       "      <th>6</th>\n",
       "      <td>Japan</td>\n",
       "      <td>[Tokyo]</td>\n",
       "      <td>Asia</td>\n",
       "      <td>126476461</td>\n",
       "      <td>364555</td>\n",
       "      <td>346</td>\n",
       "      <td>True</td>\n",
       "    </tr>\n",
       "    <tr>\n",
       "      <th>7</th>\n",
       "      <td>Fiji</td>\n",
       "      <td>[Suva]</td>\n",
       "      <td>Australia/Oceania</td>\n",
       "      <td>896444</td>\n",
       "      <td>18270</td>\n",
       "      <td>49</td>\n",
       "      <td>True</td>\n",
       "    </tr>\n",
       "  </tbody>\n",
       "</table>\n",
       "</div>"
      ],
      "text/plain": [
       "    country     capital          continent  population  land area  density  \\\n",
       "0    Turkey    [Ankara]        Europe/Asia    84339067     769630      109   \n",
       "1  Cameroon   [Yaounde]             Africa    26545863     472710       56   \n",
       "2   Albania    [Tirana]             Europe     2877797      27400      105   \n",
       "3    Brazil  [Brasilia]      South America   212559417    8358140       25   \n",
       "4    Poland    [Warsaw]             Europe    37846611     306230      124   \n",
       "5    Canada    [Ottawa]      North America    37742154    9093510        4   \n",
       "6     Japan     [Tokyo]               Asia   126476461     364555      346   \n",
       "7      Fiji      [Suva]  Australia/Oceania      896444      18270       49   \n",
       "\n",
       "  ocean_coast  \n",
       "0       False  \n",
       "1        True  \n",
       "2       False  \n",
       "3        True  \n",
       "4       False  \n",
       "5        True  \n",
       "6        True  \n",
       "7        True  "
      ]
     },
     "execution_count": 3,
     "metadata": {},
     "output_type": "execute_result"
    }
   ],
   "source": [
    "df = pd.DataFrame(countries)\n",
    "df"
   ]
  },
  {
   "cell_type": "code",
   "execution_count": 7,
   "id": "47354314",
   "metadata": {},
   "outputs": [
    {
     "data": {
      "text/html": [
       "<div>\n",
       "<style scoped>\n",
       "    .dataframe tbody tr th:only-of-type {\n",
       "        vertical-align: middle;\n",
       "    }\n",
       "\n",
       "    .dataframe tbody tr th {\n",
       "        vertical-align: top;\n",
       "    }\n",
       "\n",
       "    .dataframe thead th {\n",
       "        text-align: right;\n",
       "    }\n",
       "</style>\n",
       "<table border=\"1\" class=\"dataframe\">\n",
       "  <thead>\n",
       "    <tr style=\"text-align: right;\">\n",
       "      <th></th>\n",
       "      <th>country</th>\n",
       "      <th>capital</th>\n",
       "      <th>continent</th>\n",
       "      <th>population</th>\n",
       "      <th>land area</th>\n",
       "      <th>density</th>\n",
       "      <th>ocean_coast</th>\n",
       "    </tr>\n",
       "  </thead>\n",
       "  <tbody>\n",
       "  </tbody>\n",
       "</table>\n",
       "</div>"
      ],
      "text/plain": [
       "Empty DataFrame\n",
       "Columns: [country, capital, continent, population, land area, density, ocean_coast]\n",
       "Index: []"
      ]
     },
     "execution_count": 7,
     "metadata": {},
     "output_type": "execute_result"
    }
   ],
   "source": [
    "df[df.country.str.isupper()]"
   ]
  },
  {
   "cell_type": "code",
   "execution_count": 28,
   "id": "f9adb9d3",
   "metadata": {},
   "outputs": [
    {
     "data": {
      "text/plain": [
       "0      TURKEY\n",
       "1    CAMEROON\n",
       "2     ALBANIA\n",
       "3      BRAZIL\n",
       "4      CANADA\n",
       "5       JAPAN\n",
       "6        FIJI\n",
       "Name: country, dtype: object"
      ]
     },
     "execution_count": 28,
     "metadata": {},
     "output_type": "execute_result"
    }
   ],
   "source": [
    "df.country.str.upper()"
   ]
  },
  {
   "cell_type": "code",
   "execution_count": 8,
   "id": "5ef0836e",
   "metadata": {},
   "outputs": [
    {
     "data": {
      "text/plain": [
       "0    True\n",
       "1    True\n",
       "2    True\n",
       "3    True\n",
       "4    True\n",
       "5    True\n",
       "6    True\n",
       "7    True\n",
       "Name: density, dtype: boolean"
      ]
     },
     "execution_count": 8,
     "metadata": {},
     "output_type": "execute_result"
    }
   ],
   "source": [
    "df.density.astype('string').str.isdigit()"
   ]
  },
  {
   "cell_type": "code",
   "execution_count": 11,
   "id": "726c7f63",
   "metadata": {},
   "outputs": [
    {
     "data": {
      "text/plain": [
       "0    True\n",
       "1    True\n",
       "2    True\n",
       "3    True\n",
       "4    True\n",
       "5    True\n",
       "6    True\n",
       "7    True\n",
       "Name: density, dtype: boolean"
      ]
     },
     "execution_count": 11,
     "metadata": {},
     "output_type": "execute_result"
    }
   ],
   "source": [
    "df.density.astype('string').str.isnumeric()"
   ]
  },
  {
   "cell_type": "code",
   "execution_count": 19,
   "id": "81b5b558",
   "metadata": {},
   "outputs": [
    {
     "data": {
      "text/plain": [
       "0    11\n",
       "1     6\n",
       "2     6\n",
       "3    13\n",
       "4     6\n",
       "5    13\n",
       "6     4\n",
       "7    17\n",
       "Name: continent, dtype: int64"
      ]
     },
     "execution_count": 19,
     "metadata": {},
     "output_type": "execute_result"
    }
   ],
   "source": [
    "df.continent.str.len()"
   ]
  },
  {
   "cell_type": "code",
   "execution_count": 4,
   "id": "e628174c",
   "metadata": {},
   "outputs": [
    {
     "data": {
      "text/plain": [
       "0    False\n",
       "1    False\n",
       "2     True\n",
       "3    False\n",
       "4     True\n",
       "5    False\n",
       "6    False\n",
       "7    False\n",
       "Name: continent, dtype: bool"
      ]
     },
     "execution_count": 4,
     "metadata": {},
     "output_type": "execute_result"
    }
   ],
   "source": [
    "df.continent.str.endswith('ope')"
   ]
  },
  {
   "cell_type": "code",
   "execution_count": 5,
   "id": "bbd0fae2",
   "metadata": {},
   "outputs": [
    {
     "data": {
      "text/plain": [
       "0    False\n",
       "1     True\n",
       "2    False\n",
       "3    False\n",
       "4    False\n",
       "5    False\n",
       "6     True\n",
       "7     True\n",
       "Name: continent, dtype: bool"
      ]
     },
     "execution_count": 5,
     "metadata": {},
     "output_type": "execute_result"
    }
   ],
   "source": [
    "df.continent.str.startswith('A')"
   ]
  },
  {
   "cell_type": "code",
   "execution_count": 8,
   "id": "398afa9d",
   "metadata": {},
   "outputs": [
    {
     "data": {
      "text/html": [
       "<div>\n",
       "<style scoped>\n",
       "    .dataframe tbody tr th:only-of-type {\n",
       "        vertical-align: middle;\n",
       "    }\n",
       "\n",
       "    .dataframe tbody tr th {\n",
       "        vertical-align: top;\n",
       "    }\n",
       "\n",
       "    .dataframe thead th {\n",
       "        text-align: right;\n",
       "    }\n",
       "</style>\n",
       "<table border=\"1\" class=\"dataframe\">\n",
       "  <thead>\n",
       "    <tr style=\"text-align: right;\">\n",
       "      <th></th>\n",
       "      <th>country</th>\n",
       "      <th>capital</th>\n",
       "      <th>continent</th>\n",
       "      <th>population</th>\n",
       "      <th>land area</th>\n",
       "      <th>density</th>\n",
       "      <th>ocean_coast</th>\n",
       "    </tr>\n",
       "  </thead>\n",
       "  <tbody>\n",
       "    <tr>\n",
       "      <th>5</th>\n",
       "      <td>Canada</td>\n",
       "      <td>[Ottawa]</td>\n",
       "      <td>North America</td>\n",
       "      <td>37742154</td>\n",
       "      <td>9093510</td>\n",
       "      <td>4</td>\n",
       "      <td>True</td>\n",
       "    </tr>\n",
       "    <tr>\n",
       "      <th>7</th>\n",
       "      <td>Fiji</td>\n",
       "      <td>[Suva]</td>\n",
       "      <td>Australia/Oceania</td>\n",
       "      <td>896444</td>\n",
       "      <td>18270</td>\n",
       "      <td>49</td>\n",
       "      <td>True</td>\n",
       "    </tr>\n",
       "  </tbody>\n",
       "</table>\n",
       "</div>"
      ],
      "text/plain": [
       "  country   capital          continent  population  land area  density  \\\n",
       "5  Canada  [Ottawa]      North America    37742154    9093510        4   \n",
       "7    Fiji    [Suva]  Australia/Oceania      896444      18270       49   \n",
       "\n",
       "  ocean_coast  \n",
       "5        True  \n",
       "7        True  "
      ]
     },
     "execution_count": 8,
     "metadata": {},
     "output_type": "execute_result"
    }
   ],
   "source": [
    "df[df.density.astype('string').str.startswith('4')]"
   ]
  },
  {
   "cell_type": "code",
   "execution_count": null,
   "id": "e754ab33",
   "metadata": {},
   "outputs": [],
   "source": [
    "# Series.str.contains: Test if pattern or regex is contained within a string of a Series or Index.\n",
    "# 'DataFrame' object has no attribute 'contains' or 'str'"
   ]
  },
  {
   "cell_type": "code",
   "execution_count": 20,
   "id": "81923d4b",
   "metadata": {},
   "outputs": [
    {
     "data": {
      "text/plain": [
       "0    False\n",
       "1    False\n",
       "2    False\n",
       "3     True\n",
       "4    False\n",
       "5     True\n",
       "6    False\n",
       "7    False\n",
       "Name: continent, dtype: bool"
      ]
     },
     "execution_count": 20,
     "metadata": {},
     "output_type": "execute_result"
    }
   ],
   "source": [
    "df.continent.str.contains('America')\n",
    "# case-sensitive, for 'america' all values will be False"
   ]
  },
  {
   "cell_type": "code",
   "execution_count": 5,
   "id": "90499bc0",
   "metadata": {},
   "outputs": [
    {
     "data": {
      "text/plain": [
       "0    Eur\n",
       "1    Afr\n",
       "2    Eur\n",
       "3    Sou\n",
       "4    Eur\n",
       "5    Nor\n",
       "6    Asi\n",
       "7    Aus\n",
       "Name: continent, dtype: object"
      ]
     },
     "execution_count": 5,
     "metadata": {},
     "output_type": "execute_result"
    }
   ],
   "source": [
    "df.continent.str[:3]"
   ]
  },
  {
   "cell_type": "code",
   "execution_count": 21,
   "id": "7afb14bc",
   "metadata": {},
   "outputs": [
    {
     "data": {
      "text/plain": [
       "0    False\n",
       "1    False\n",
       "2    False\n",
       "3     True\n",
       "4    False\n",
       "5     True\n",
       "6    False\n",
       "7    False\n",
       "Name: continent, dtype: bool"
      ]
     },
     "execution_count": 21,
     "metadata": {},
     "output_type": "execute_result"
    }
   ],
   "source": [
    "df.continent.str.contains('AMERICA', case=False)"
   ]
  },
  {
   "cell_type": "code",
   "execution_count": 26,
   "id": "62144dd7",
   "metadata": {},
   "outputs": [
    {
     "data": {
      "text/plain": [
       "0     True\n",
       "1    False\n",
       "2     True\n",
       "3    False\n",
       "4     True\n",
       "5    False\n",
       "6     True\n",
       "7    False\n",
       "Name: continent, dtype: bool"
      ]
     },
     "execution_count": 26,
     "metadata": {},
     "output_type": "execute_result"
    }
   ],
   "source": [
    "df.continent.str.contains('Asia|Europe', case=False)"
   ]
  },
  {
   "cell_type": "code",
   "execution_count": 27,
   "id": "6b6efc1d",
   "metadata": {},
   "outputs": [
    {
     "data": {
      "text/html": [
       "<div>\n",
       "<style scoped>\n",
       "    .dataframe tbody tr th:only-of-type {\n",
       "        vertical-align: middle;\n",
       "    }\n",
       "\n",
       "    .dataframe tbody tr th {\n",
       "        vertical-align: top;\n",
       "    }\n",
       "\n",
       "    .dataframe thead th {\n",
       "        text-align: right;\n",
       "    }\n",
       "</style>\n",
       "<table border=\"1\" class=\"dataframe\">\n",
       "  <thead>\n",
       "    <tr style=\"text-align: right;\">\n",
       "      <th></th>\n",
       "      <th>country</th>\n",
       "      <th>capital</th>\n",
       "      <th>continent</th>\n",
       "      <th>population</th>\n",
       "      <th>land area</th>\n",
       "      <th>density</th>\n",
       "      <th>ocean_coast</th>\n",
       "    </tr>\n",
       "  </thead>\n",
       "  <tbody>\n",
       "    <tr>\n",
       "      <th>5</th>\n",
       "      <td>Canada</td>\n",
       "      <td>[Ottawa]</td>\n",
       "      <td>North America</td>\n",
       "      <td>37742154</td>\n",
       "      <td>9093510</td>\n",
       "      <td>4</td>\n",
       "      <td>True</td>\n",
       "    </tr>\n",
       "  </tbody>\n",
       "</table>\n",
       "</div>"
      ],
      "text/plain": [
       "  country   capital      continent  population  land area  density ocean_coast\n",
       "5  Canada  [Ottawa]  North America    37742154    9093510        4        True"
      ]
     },
     "execution_count": 27,
     "metadata": {},
     "output_type": "execute_result"
    }
   ],
   "source": [
    "df[df.population.astype('string').str.contains('15')]"
   ]
  },
  {
   "cell_type": "code",
   "execution_count": 36,
   "id": "e7d724de",
   "metadata": {},
   "outputs": [
    {
     "data": {
      "text/plain": [
       "False    5\n",
       "True     2\n",
       "Name: continent, dtype: int64"
      ]
     },
     "execution_count": 36,
     "metadata": {},
     "output_type": "execute_result"
    }
   ],
   "source": [
    "df.continent.str.contains('America').value_counts(dropna=False) # for NaN values"
   ]
  },
  {
   "cell_type": "code",
   "execution_count": 39,
   "id": "55959dc3",
   "metadata": {},
   "outputs": [
    {
     "data": {
      "text/plain": [
       "2"
      ]
     },
     "execution_count": 39,
     "metadata": {},
     "output_type": "execute_result"
    }
   ],
   "source": [
    "df.continent.str.contains('America').sum()"
   ]
  },
  {
   "cell_type": "code",
   "execution_count": 40,
   "id": "c7508c3a",
   "metadata": {},
   "outputs": [
    {
     "data": {
      "text/plain": [
       "0.2857142857142857"
      ]
     },
     "execution_count": 40,
     "metadata": {},
     "output_type": "execute_result"
    }
   ],
   "source": [
    "df.continent.str.contains('America').mean()\n",
    "# 2 / 7"
   ]
  },
  {
   "cell_type": "code",
   "execution_count": 30,
   "id": "6bd85be2",
   "metadata": {},
   "outputs": [
    {
     "data": {
      "text/html": [
       "<div>\n",
       "<style scoped>\n",
       "    .dataframe tbody tr th:only-of-type {\n",
       "        vertical-align: middle;\n",
       "    }\n",
       "\n",
       "    .dataframe tbody tr th {\n",
       "        vertical-align: top;\n",
       "    }\n",
       "\n",
       "    .dataframe thead th {\n",
       "        text-align: right;\n",
       "    }\n",
       "</style>\n",
       "<table border=\"1\" class=\"dataframe\">\n",
       "  <thead>\n",
       "    <tr style=\"text-align: right;\">\n",
       "      <th></th>\n",
       "      <th>country</th>\n",
       "      <th>capital</th>\n",
       "      <th>continent</th>\n",
       "      <th>population</th>\n",
       "      <th>land_area</th>\n",
       "      <th>density</th>\n",
       "      <th>ocean_coast</th>\n",
       "    </tr>\n",
       "  </thead>\n",
       "  <tbody>\n",
       "    <tr>\n",
       "      <th>3</th>\n",
       "      <td>Brazil</td>\n",
       "      <td>[Brasilia]</td>\n",
       "      <td>South America</td>\n",
       "      <td>212559417</td>\n",
       "      <td>8358140</td>\n",
       "      <td>25</td>\n",
       "      <td>Yes</td>\n",
       "    </tr>\n",
       "    <tr>\n",
       "      <th>4</th>\n",
       "      <td>Canada</td>\n",
       "      <td>[Ottawa]</td>\n",
       "      <td>North America</td>\n",
       "      <td>37742154</td>\n",
       "      <td>9093510</td>\n",
       "      <td>4</td>\n",
       "      <td>Yes</td>\n",
       "    </tr>\n",
       "  </tbody>\n",
       "</table>\n",
       "</div>"
      ],
      "text/plain": [
       "  country     capital      continent  population  land_area  density  \\\n",
       "3  Brazil  [Brasilia]  South America   212559417    8358140       25   \n",
       "4  Canada    [Ottawa]  North America    37742154    9093510        4   \n",
       "\n",
       "  ocean_coast  \n",
       "3         Yes  \n",
       "4         Yes  "
      ]
     },
     "execution_count": 30,
     "metadata": {},
     "output_type": "execute_result"
    }
   ],
   "source": [
    "df[df.continent.str.contains('America')]"
   ]
  },
  {
   "cell_type": "code",
   "execution_count": 43,
   "id": "b0a9de18",
   "metadata": {},
   "outputs": [
    {
     "data": {
      "text/html": [
       "<div>\n",
       "<style scoped>\n",
       "    .dataframe tbody tr th:only-of-type {\n",
       "        vertical-align: middle;\n",
       "    }\n",
       "\n",
       "    .dataframe tbody tr th {\n",
       "        vertical-align: top;\n",
       "    }\n",
       "\n",
       "    .dataframe thead th {\n",
       "        text-align: right;\n",
       "    }\n",
       "</style>\n",
       "<table border=\"1\" class=\"dataframe\">\n",
       "  <thead>\n",
       "    <tr style=\"text-align: right;\">\n",
       "      <th></th>\n",
       "      <th>population</th>\n",
       "      <th>density</th>\n",
       "    </tr>\n",
       "  </thead>\n",
       "  <tbody>\n",
       "    <tr>\n",
       "      <th>3</th>\n",
       "      <td>212559417</td>\n",
       "      <td>25</td>\n",
       "    </tr>\n",
       "    <tr>\n",
       "      <th>4</th>\n",
       "      <td>37742154</td>\n",
       "      <td>4</td>\n",
       "    </tr>\n",
       "  </tbody>\n",
       "</table>\n",
       "</div>"
      ],
      "text/plain": [
       "   population  density\n",
       "3   212559417       25\n",
       "4    37742154        4"
      ]
     },
     "execution_count": 43,
     "metadata": {},
     "output_type": "execute_result"
    }
   ],
   "source": [
    "df[df.continent.str.contains('America')][['population', 'density']]"
   ]
  },
  {
   "cell_type": "code",
   "execution_count": 52,
   "id": "ec340a1d",
   "metadata": {},
   "outputs": [
    {
     "data": {
      "text/plain": [
       "True"
      ]
     },
     "execution_count": 52,
     "metadata": {},
     "output_type": "execute_result"
    }
   ],
   "source": [
    "df.continent.str.contains('America').any()"
   ]
  },
  {
   "cell_type": "code",
   "execution_count": 53,
   "id": "a5325e79",
   "metadata": {},
   "outputs": [
    {
     "data": {
      "text/plain": [
       "False"
      ]
     },
     "execution_count": 53,
     "metadata": {},
     "output_type": "execute_result"
    }
   ],
   "source": [
    "df.continent.str.contains('America').all()"
   ]
  },
  {
   "cell_type": "code",
   "execution_count": 31,
   "id": "f0a2e890",
   "metadata": {},
   "outputs": [
    {
     "data": {
      "text/plain": [
       "0    0\n",
       "1   -1\n",
       "2    0\n",
       "3   -1\n",
       "4    0\n",
       "5   -1\n",
       "6   -1\n",
       "7   -1\n",
       "Name: continent, dtype: int64"
      ]
     },
     "execution_count": 31,
     "metadata": {},
     "output_type": "execute_result"
    }
   ],
   "source": [
    "df.continent.str.find('Europe')"
   ]
  },
  {
   "cell_type": "code",
   "execution_count": 32,
   "id": "5acba560",
   "metadata": {},
   "outputs": [
    {
     "data": {
      "text/plain": [
       "0    [Europe]\n",
       "1          []\n",
       "2    [Europe]\n",
       "3          []\n",
       "4    [Europe]\n",
       "5          []\n",
       "6          []\n",
       "7          []\n",
       "Name: continent, dtype: object"
      ]
     },
     "execution_count": 32,
     "metadata": {},
     "output_type": "execute_result"
    }
   ],
   "source": [
    "df.continent.str.findall('Europe')"
   ]
  },
  {
   "cell_type": "code",
   "execution_count": 8,
   "id": "d91635e7",
   "metadata": {},
   "outputs": [
    {
     "data": {
      "text/html": [
       "<div>\n",
       "<style scoped>\n",
       "    .dataframe tbody tr th:only-of-type {\n",
       "        vertical-align: middle;\n",
       "    }\n",
       "\n",
       "    .dataframe tbody tr th {\n",
       "        vertical-align: top;\n",
       "    }\n",
       "\n",
       "    .dataframe thead th {\n",
       "        text-align: right;\n",
       "    }\n",
       "</style>\n",
       "<table border=\"1\" class=\"dataframe\">\n",
       "  <thead>\n",
       "    <tr style=\"text-align: right;\">\n",
       "      <th></th>\n",
       "      <th>country</th>\n",
       "      <th>capital</th>\n",
       "      <th>continent</th>\n",
       "      <th>population</th>\n",
       "      <th>land_area</th>\n",
       "      <th>density</th>\n",
       "      <th>ocean_coast</th>\n",
       "    </tr>\n",
       "  </thead>\n",
       "  <tbody>\n",
       "  </tbody>\n",
       "</table>\n",
       "</div>"
      ],
      "text/plain": [
       "Empty DataFrame\n",
       "Columns: [country, capital, continent, population, land_area, density, ocean_coast]\n",
       "Index: []"
      ]
     },
     "execution_count": 8,
     "metadata": {},
     "output_type": "execute_result"
    }
   ],
   "source": [
    "df[df['country'].str.count('^[cC].$')>0]"
   ]
  },
  {
   "cell_type": "code",
   "execution_count": 9,
   "id": "04cbb8b9",
   "metadata": {},
   "outputs": [
    {
     "data": {
      "text/html": [
       "<div>\n",
       "<style scoped>\n",
       "    .dataframe tbody tr th:only-of-type {\n",
       "        vertical-align: middle;\n",
       "    }\n",
       "\n",
       "    .dataframe tbody tr th {\n",
       "        vertical-align: top;\n",
       "    }\n",
       "\n",
       "    .dataframe thead th {\n",
       "        text-align: right;\n",
       "    }\n",
       "</style>\n",
       "<table border=\"1\" class=\"dataframe\">\n",
       "  <thead>\n",
       "    <tr style=\"text-align: right;\">\n",
       "      <th></th>\n",
       "      <th>country</th>\n",
       "      <th>capital</th>\n",
       "      <th>continent</th>\n",
       "      <th>population</th>\n",
       "      <th>land_area</th>\n",
       "      <th>density</th>\n",
       "      <th>ocean_coast</th>\n",
       "    </tr>\n",
       "  </thead>\n",
       "  <tbody>\n",
       "    <tr>\n",
       "      <th>1</th>\n",
       "      <td>Cameroon</td>\n",
       "      <td>[Yaounde]</td>\n",
       "      <td>Africa</td>\n",
       "      <td>26545863</td>\n",
       "      <td>472710</td>\n",
       "      <td>56</td>\n",
       "      <td>Yes</td>\n",
       "    </tr>\n",
       "    <tr>\n",
       "      <th>4</th>\n",
       "      <td>Canada</td>\n",
       "      <td>[Ottawa]</td>\n",
       "      <td>North America</td>\n",
       "      <td>37742154</td>\n",
       "      <td>9093510</td>\n",
       "      <td>4</td>\n",
       "      <td>Yes</td>\n",
       "    </tr>\n",
       "  </tbody>\n",
       "</table>\n",
       "</div>"
      ],
      "text/plain": [
       "    country    capital      continent  population  land_area  density  \\\n",
       "1  Cameroon  [Yaounde]         Africa    26545863     472710       56   \n",
       "4    Canada   [Ottawa]  North America    37742154    9093510        4   \n",
       "\n",
       "  ocean_coast  \n",
       "1         Yes  \n",
       "4         Yes  "
      ]
     },
     "execution_count": 9,
     "metadata": {},
     "output_type": "execute_result"
    }
   ],
   "source": [
    "df[df['country'].str.count('^[cC].*')>0]"
   ]
  },
  {
   "cell_type": "code",
   "execution_count": 10,
   "id": "09d1c8c8",
   "metadata": {},
   "outputs": [
    {
     "data": {
      "text/html": [
       "<div>\n",
       "<style scoped>\n",
       "    .dataframe tbody tr th:only-of-type {\n",
       "        vertical-align: middle;\n",
       "    }\n",
       "\n",
       "    .dataframe tbody tr th {\n",
       "        vertical-align: top;\n",
       "    }\n",
       "\n",
       "    .dataframe thead th {\n",
       "        text-align: right;\n",
       "    }\n",
       "</style>\n",
       "<table border=\"1\" class=\"dataframe\">\n",
       "  <thead>\n",
       "    <tr style=\"text-align: right;\">\n",
       "      <th></th>\n",
       "      <th>country</th>\n",
       "      <th>capital</th>\n",
       "      <th>continent</th>\n",
       "      <th>population</th>\n",
       "      <th>land_area</th>\n",
       "      <th>density</th>\n",
       "      <th>ocean_coast</th>\n",
       "    </tr>\n",
       "  </thead>\n",
       "  <tbody>\n",
       "    <tr>\n",
       "      <th>1</th>\n",
       "      <td>Cameroon</td>\n",
       "      <td>[Yaounde]</td>\n",
       "      <td>Africa</td>\n",
       "      <td>26545863</td>\n",
       "      <td>472710</td>\n",
       "      <td>56</td>\n",
       "      <td>Yes</td>\n",
       "    </tr>\n",
       "    <tr>\n",
       "      <th>4</th>\n",
       "      <td>Canada</td>\n",
       "      <td>[Ottawa]</td>\n",
       "      <td>North America</td>\n",
       "      <td>37742154</td>\n",
       "      <td>9093510</td>\n",
       "      <td>4</td>\n",
       "      <td>Yes</td>\n",
       "    </tr>\n",
       "  </tbody>\n",
       "</table>\n",
       "</div>"
      ],
      "text/plain": [
       "    country    capital      continent  population  land_area  density  \\\n",
       "1  Cameroon  [Yaounde]         Africa    26545863     472710       56   \n",
       "4    Canada   [Ottawa]  North America    37742154    9093510        4   \n",
       "\n",
       "  ocean_coast  \n",
       "1         Yes  \n",
       "4         Yes  "
      ]
     },
     "execution_count": 10,
     "metadata": {},
     "output_type": "execute_result"
    }
   ],
   "source": [
    "df[df['country'].str.count(r'^[cC].*')>0]"
   ]
  },
  {
   "cell_type": "code",
   "execution_count": 12,
   "id": "1d1c3660",
   "metadata": {},
   "outputs": [
    {
     "data": {
      "text/html": [
       "<div>\n",
       "<style scoped>\n",
       "    .dataframe tbody tr th:only-of-type {\n",
       "        vertical-align: middle;\n",
       "    }\n",
       "\n",
       "    .dataframe tbody tr th {\n",
       "        vertical-align: top;\n",
       "    }\n",
       "\n",
       "    .dataframe thead th {\n",
       "        text-align: right;\n",
       "    }\n",
       "</style>\n",
       "<table border=\"1\" class=\"dataframe\">\n",
       "  <thead>\n",
       "    <tr style=\"text-align: right;\">\n",
       "      <th></th>\n",
       "      <th>country</th>\n",
       "      <th>capital</th>\n",
       "      <th>continent</th>\n",
       "      <th>population</th>\n",
       "      <th>land_area</th>\n",
       "      <th>density</th>\n",
       "      <th>ocean_coast</th>\n",
       "    </tr>\n",
       "  </thead>\n",
       "  <tbody>\n",
       "    <tr>\n",
       "      <th>3</th>\n",
       "      <td>Brazil</td>\n",
       "      <td>[Brasilia]</td>\n",
       "      <td>South America</td>\n",
       "      <td>212559417</td>\n",
       "      <td>8358140</td>\n",
       "      <td>25</td>\n",
       "      <td>Yes</td>\n",
       "    </tr>\n",
       "  </tbody>\n",
       "</table>\n",
       "</div>"
      ],
      "text/plain": [
       "  country     capital      continent  population  land_area  density  \\\n",
       "3  Brazil  [Brasilia]  South America   212559417    8358140       25   \n",
       "\n",
       "  ocean_coast  \n",
       "3         Yes  "
      ]
     },
     "execution_count": 12,
     "metadata": {},
     "output_type": "execute_result"
    }
   ],
   "source": [
    "df[df.country.str.match(r'(^B.*)')==True]"
   ]
  },
  {
   "cell_type": "code",
   "execution_count": 32,
   "id": "94703866",
   "metadata": {},
   "outputs": [
    {
     "data": {
      "text/plain": [
       "0       Ankara \n",
       "1      Yaounde \n",
       "2       Tirana \n",
       "3     Brasilia \n",
       "4       Ottawa \n",
       "5        Tokyo \n",
       "6         Suva \n",
       "Name: capital, dtype: object"
      ]
     },
     "execution_count": 32,
     "metadata": {},
     "output_type": "execute_result"
    }
   ],
   "source": [
    "df.capital.str.replace(\"[\", \" \", regex=False).str.replace(\"]\", \" \", regex=False)"
   ]
  },
  {
   "cell_type": "code",
   "execution_count": 33,
   "id": "8c0a6c48",
   "metadata": {},
   "outputs": [
    {
     "data": {
      "text/plain": [
       "0      [Ankara]\n",
       "1     [Yaounde]\n",
       "2      [Tirana]\n",
       "3    [Brasilia]\n",
       "4      [Ottawa]\n",
       "5       [Tokyo]\n",
       "6        [Suva]\n",
       "Name: capital, dtype: object"
      ]
     },
     "execution_count": 33,
     "metadata": {},
     "output_type": "execute_result"
    }
   ],
   "source": [
    "df.capital.str.replace(\"[\\[\\]]\", \"\", regex=False)"
   ]
  },
  {
   "cell_type": "code",
   "execution_count": 34,
   "id": "14fe5373",
   "metadata": {},
   "outputs": [
    {
     "data": {
      "text/plain": [
       "0      Ankara\n",
       "1     Yaounde\n",
       "2      Tirana\n",
       "3    Brasilia\n",
       "4      Ottawa\n",
       "5       Tokyo\n",
       "6        Suva\n",
       "Name: capital, dtype: object"
      ]
     },
     "execution_count": 34,
     "metadata": {},
     "output_type": "execute_result"
    }
   ],
   "source": [
    "df.capital.str.replace(\"[\\[\\]]\", \"\", regex=True)"
   ]
  },
  {
   "cell_type": "code",
   "execution_count": null,
   "id": "1a87085e",
   "metadata": {},
   "outputs": [],
   "source": []
  }
 ],
 "metadata": {
  "kernelspec": {
   "display_name": "Python 3 (ipykernel)",
   "language": "python",
   "name": "python3"
  },
  "language_info": {
   "codemirror_mode": {
    "name": "ipython",
    "version": 3
   },
   "file_extension": ".py",
   "mimetype": "text/x-python",
   "name": "python",
   "nbconvert_exporter": "python",
   "pygments_lexer": "ipython3",
   "version": "3.9.6"
  }
 },
 "nbformat": 4,
 "nbformat_minor": 5
}
