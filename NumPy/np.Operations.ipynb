{
 "cells": [
  {
   "cell_type": "code",
   "execution_count": 1,
   "id": "f2578767",
   "metadata": {},
   "outputs": [],
   "source": [
    "import numpy as np"
   ]
  },
  {
   "cell_type": "code",
   "execution_count": null,
   "id": "6b7831cc",
   "metadata": {},
   "outputs": [],
   "source": [
    "# axis 1 = y axis, column, feature\n",
    "# axis 0 = x axis, row, observation"
   ]
  },
  {
   "cell_type": "code",
   "execution_count": 33,
   "id": "13ab5b56",
   "metadata": {},
   "outputs": [],
   "source": [
    "a = np.array([1,2,3,4])\n",
    "b = np.array([5,6,7,8])"
   ]
  },
  {
   "cell_type": "code",
   "execution_count": 14,
   "id": "f7c365dc",
   "metadata": {},
   "outputs": [
    {
     "data": {
      "text/plain": [
       "array([ 6,  8, 10, 12])"
      ]
     },
     "execution_count": 14,
     "metadata": {},
     "output_type": "execute_result"
    }
   ],
   "source": [
    "a+b"
   ]
  },
  {
   "cell_type": "code",
   "execution_count": 15,
   "id": "08b208de",
   "metadata": {},
   "outputs": [
    {
     "data": {
      "text/plain": [
       "array([0, 0, 0, 0])"
      ]
     },
     "execution_count": 15,
     "metadata": {},
     "output_type": "execute_result"
    }
   ],
   "source": [
    "a-a"
   ]
  },
  {
   "cell_type": "code",
   "execution_count": 34,
   "id": "754ee8c1",
   "metadata": {},
   "outputs": [
    {
     "data": {
      "text/plain": [
       "array([4, 4, 4, 4])"
      ]
     },
     "execution_count": 34,
     "metadata": {},
     "output_type": "execute_result"
    }
   ],
   "source": [
    "np.subtract(b,a)"
   ]
  },
  {
   "cell_type": "code",
   "execution_count": 35,
   "id": "d4b8b9b4",
   "metadata": {},
   "outputs": [
    {
     "data": {
      "text/plain": [
       "array([5.        , 3.        , 2.33333333, 2.        ])"
      ]
     },
     "execution_count": 35,
     "metadata": {},
     "output_type": "execute_result"
    }
   ],
   "source": [
    "np.divide(b,a)"
   ]
  },
  {
   "cell_type": "code",
   "execution_count": 16,
   "id": "800d6a33",
   "metadata": {},
   "outputs": [
    {
     "data": {
      "text/plain": [
       "array([ 5, 12, 21, 32])"
      ]
     },
     "execution_count": 16,
     "metadata": {},
     "output_type": "execute_result"
    }
   ],
   "source": [
    "a*b"
   ]
  },
  {
   "cell_type": "code",
   "execution_count": 17,
   "id": "37f3eb74",
   "metadata": {},
   "outputs": [
    {
     "data": {
      "text/plain": [
       "array([100, 200, 300, 400])"
      ]
     },
     "execution_count": 17,
     "metadata": {},
     "output_type": "execute_result"
    }
   ],
   "source": [
    "a*100"
   ]
  },
  {
   "cell_type": "code",
   "execution_count": 18,
   "id": "5caef910",
   "metadata": {},
   "outputs": [
    {
     "data": {
      "text/plain": [
       "array([1.        , 0.5       , 0.33333333, 0.25      ])"
      ]
     },
     "execution_count": 18,
     "metadata": {},
     "output_type": "execute_result"
    }
   ],
   "source": [
    "1/a"
   ]
  },
  {
   "cell_type": "code",
   "execution_count": null,
   "id": "b52449bb",
   "metadata": {},
   "outputs": [],
   "source": []
  },
  {
   "cell_type": "code",
   "execution_count": 19,
   "id": "4da98898",
   "metadata": {},
   "outputs": [],
   "source": [
    "a1 = np.array([[1,2,3,4],[5,6,7,8],[2,4,6,9]])\n",
    "b1 = np.array([[2,3,4,5],[1,2,4,5],[1,2,3,4]])"
   ]
  },
  {
   "cell_type": "code",
   "execution_count": 20,
   "id": "ab6bfa03",
   "metadata": {},
   "outputs": [
    {
     "data": {
      "text/plain": [
       "(12, 12)"
      ]
     },
     "execution_count": 20,
     "metadata": {},
     "output_type": "execute_result"
    }
   ],
   "source": [
    "a1.size, b1.size"
   ]
  },
  {
   "cell_type": "code",
   "execution_count": 21,
   "id": "499892fe",
   "metadata": {},
   "outputs": [
    {
     "data": {
      "text/plain": [
       "array([[ 3,  5,  7,  9],\n",
       "       [ 6,  8, 11, 13],\n",
       "       [ 3,  6,  9, 13]])"
      ]
     },
     "execution_count": 21,
     "metadata": {},
     "output_type": "execute_result"
    }
   ],
   "source": [
    "a1+b1"
   ]
  },
  {
   "cell_type": "code",
   "execution_count": 22,
   "id": "d92d6362",
   "metadata": {},
   "outputs": [
    {
     "data": {
      "text/plain": [
       "array([[ 2,  6, 12, 20],\n",
       "       [ 5, 12, 28, 40],\n",
       "       [ 2,  8, 18, 36]])"
      ]
     },
     "execution_count": 22,
     "metadata": {},
     "output_type": "execute_result"
    }
   ],
   "source": [
    "a1*b1"
   ]
  },
  {
   "cell_type": "code",
   "execution_count": null,
   "id": "67cb8b0b",
   "metadata": {},
   "outputs": [],
   "source": []
  },
  {
   "cell_type": "code",
   "execution_count": 25,
   "id": "d9fbb741",
   "metadata": {},
   "outputs": [
    {
     "data": {
      "text/plain": [
       "array([[0., 1., 2.],\n",
       "       [3., 4., 5.],\n",
       "       [6., 7., 8.]])"
      ]
     },
     "execution_count": 25,
     "metadata": {},
     "output_type": "execute_result"
    }
   ],
   "source": [
    "arr1 = np.arange(9.0).reshape(3,3)\n",
    "arr1"
   ]
  },
  {
   "cell_type": "code",
   "execution_count": 30,
   "id": "6f0d22c2",
   "metadata": {},
   "outputs": [
    {
     "data": {
      "text/plain": [
       "array([[1., 1., 1.],\n",
       "       [1., 1., 1.],\n",
       "       [1., 1., 1.]])"
      ]
     },
     "execution_count": 30,
     "metadata": {},
     "output_type": "execute_result"
    }
   ],
   "source": [
    "arr2 = np.ones((3,3))\n",
    "arr2"
   ]
  },
  {
   "cell_type": "code",
   "execution_count": 31,
   "id": "348436b2",
   "metadata": {},
   "outputs": [
    {
     "data": {
      "text/plain": [
       "array([[1., 2., 3.],\n",
       "       [4., 5., 6.],\n",
       "       [7., 8., 9.]])"
      ]
     },
     "execution_count": 31,
     "metadata": {},
     "output_type": "execute_result"
    }
   ],
   "source": [
    "np.add(arr1,arr2)  # same as arr1 + arr2"
   ]
  },
  {
   "cell_type": "code",
   "execution_count": 32,
   "id": "837d6663",
   "metadata": {},
   "outputs": [
    {
     "data": {
      "text/plain": [
       "array([0., 1., 2.])"
      ]
     },
     "execution_count": 32,
     "metadata": {},
     "output_type": "execute_result"
    }
   ],
   "source": [
    "arr3 = np.arange(3.0)\n",
    "arr3"
   ]
  },
  {
   "cell_type": "code",
   "execution_count": 33,
   "id": "cb672a76",
   "metadata": {},
   "outputs": [
    {
     "data": {
      "text/plain": [
       "array([[ 0.,  2.,  4.],\n",
       "       [ 3.,  5.,  7.],\n",
       "       [ 6.,  8., 10.]])"
      ]
     },
     "execution_count": 33,
     "metadata": {},
     "output_type": "execute_result"
    }
   ],
   "source": [
    "np.add(arr1,arr3)  # same as arr1 + arr3"
   ]
  },
  {
   "cell_type": "code",
   "execution_count": null,
   "id": "48c107dc",
   "metadata": {},
   "outputs": [],
   "source": []
  },
  {
   "cell_type": "code",
   "execution_count": null,
   "id": "a3ca625e",
   "metadata": {},
   "outputs": [],
   "source": [
    "# np.mod / np.remainder : Return element-wise remainder of division. \n",
    "# It is equivalent to the Python modulus operator \"x1 % x2\""
   ]
  },
  {
   "cell_type": "code",
   "execution_count": 27,
   "id": "36896fa9",
   "metadata": {},
   "outputs": [
    {
     "data": {
      "text/plain": [
       "array([ 2,  3,  9, 14,  5, 10,  4])"
      ]
     },
     "execution_count": 27,
     "metadata": {},
     "output_type": "execute_result"
    }
   ],
   "source": [
    "arr = np.random.randint(2, 18, 7)\n",
    "arr"
   ]
  },
  {
   "cell_type": "code",
   "execution_count": 28,
   "id": "30ead7d9",
   "metadata": {},
   "outputs": [
    {
     "data": {
      "text/plain": [
       "array([2, 0, 0, 2, 2, 1, 1], dtype=int32)"
      ]
     },
     "execution_count": 28,
     "metadata": {},
     "output_type": "execute_result"
    }
   ],
   "source": [
    "np.mod(arr, 3)"
   ]
  },
  {
   "cell_type": "code",
   "execution_count": 29,
   "id": "7d99fb2d",
   "metadata": {},
   "outputs": [
    {
     "data": {
      "text/plain": [
       "array([0, 1], dtype=int32)"
      ]
     },
     "execution_count": 29,
     "metadata": {},
     "output_type": "execute_result"
    }
   ],
   "source": [
    "np.remainder([4, 7], [2, 3])"
   ]
  },
  {
   "cell_type": "code",
   "execution_count": null,
   "id": "5efe1fe1",
   "metadata": {},
   "outputs": [],
   "source": []
  },
  {
   "cell_type": "code",
   "execution_count": null,
   "id": "641302e9",
   "metadata": {},
   "outputs": [],
   "source": [
    "# np.abs (np.absolute)"
   ]
  },
  {
   "cell_type": "code",
   "execution_count": 4,
   "id": "06532fce",
   "metadata": {},
   "outputs": [],
   "source": [
    "arr = np.random.randn(3,4)"
   ]
  },
  {
   "cell_type": "code",
   "execution_count": 5,
   "id": "53caf0e9",
   "metadata": {},
   "outputs": [
    {
     "data": {
      "text/plain": [
       "array([[-0.50723287, -1.65751299, -0.55181228,  2.66686596],\n",
       "       [ 0.02778049,  0.75373507, -0.33773136, -0.19401178],\n",
       "       [-0.3144896 ,  0.00280797, -2.50959534,  0.06247252]])"
      ]
     },
     "execution_count": 5,
     "metadata": {},
     "output_type": "execute_result"
    }
   ],
   "source": [
    "arr"
   ]
  },
  {
   "cell_type": "code",
   "execution_count": 6,
   "id": "a25221f0",
   "metadata": {},
   "outputs": [
    {
     "data": {
      "text/plain": [
       "array([[0.50723287, 1.65751299, 0.55181228, 2.66686596],\n",
       "       [0.02778049, 0.75373507, 0.33773136, 0.19401178],\n",
       "       [0.3144896 , 0.00280797, 2.50959534, 0.06247252]])"
      ]
     },
     "execution_count": 6,
     "metadata": {},
     "output_type": "execute_result"
    }
   ],
   "source": [
    "# np.abs(arr)\n",
    "np.absolute(arr)"
   ]
  },
  {
   "cell_type": "code",
   "execution_count": 7,
   "id": "58385865",
   "metadata": {},
   "outputs": [
    {
     "data": {
      "text/plain": [
       "array([3.60555128, 4.47213595, 6.40312424])"
      ]
     },
     "execution_count": 7,
     "metadata": {},
     "output_type": "execute_result"
    }
   ],
   "source": [
    "compl = ([2+3j,2-4j,-4-5j])\n",
    "\n",
    "# np.abs(compl)\n",
    "np.absolute(compl)"
   ]
  },
  {
   "cell_type": "code",
   "execution_count": null,
   "id": "1a8510c3",
   "metadata": {},
   "outputs": [],
   "source": []
  },
  {
   "cell_type": "code",
   "execution_count": 2,
   "id": "7bf657e9",
   "metadata": {},
   "outputs": [
    {
     "name": "stdout",
     "output_type": "stream",
     "text": [
      "[0. 2.]\n",
      "[0.4 1.6]\n",
      "[0. 2. 2. 4. 4.]\n",
      "[ 1  2  3 11]\n",
      "[ 0  0  0 10]\n"
     ]
    }
   ],
   "source": [
    "print(np.around([0.37, 1.64]))\n",
    "\n",
    "print(np.around([0.37, 1.64], decimals=1))\n",
    "\n",
    "print(np.around([.5, 1.5, 2.5, 3.5, 4.5])) # rounds to nearest even value when .5\n",
    "\n",
    "print(np.around([1,2,3,11], decimals=1)) # ndarray of ints is returned\n",
    "\n",
    "print(np.around([1,2,3,11], decimals=-1))"
   ]
  },
  {
   "cell_type": "code",
   "execution_count": null,
   "id": "2a727eb7",
   "metadata": {},
   "outputs": [],
   "source": []
  },
  {
   "cell_type": "code",
   "execution_count": 9,
   "id": "83e0c7d4",
   "metadata": {},
   "outputs": [
    {
     "data": {
      "text/plain": [
       "array([[14,  6,  9,  4, 12],\n",
       "       [10, 18,  9, 10, 16],\n",
       "       [ 7, 12, 15,  5,  2]])"
      ]
     },
     "execution_count": 9,
     "metadata": {},
     "output_type": "execute_result"
    }
   ],
   "source": [
    "nums = np.random.randint(2,20, size=(3,5))\n",
    "nums"
   ]
  },
  {
   "cell_type": "code",
   "execution_count": 10,
   "id": "30c4d592",
   "metadata": {},
   "outputs": [
    {
     "data": {
      "text/plain": [
       "18"
      ]
     },
     "execution_count": 10,
     "metadata": {},
     "output_type": "execute_result"
    }
   ],
   "source": [
    "np.max(nums)"
   ]
  },
  {
   "cell_type": "code",
   "execution_count": 11,
   "id": "9bd7cebe",
   "metadata": {},
   "outputs": [
    {
     "data": {
      "text/plain": [
       "2"
      ]
     },
     "execution_count": 11,
     "metadata": {},
     "output_type": "execute_result"
    }
   ],
   "source": [
    "np.min(nums)"
   ]
  },
  {
   "cell_type": "code",
   "execution_count": 12,
   "id": "14f6ee93",
   "metadata": {},
   "outputs": [
    {
     "data": {
      "text/plain": [
       "149"
      ]
     },
     "execution_count": 12,
     "metadata": {},
     "output_type": "execute_result"
    }
   ],
   "source": [
    "np.sum(nums)  # == nums.sum()"
   ]
  },
  {
   "cell_type": "code",
   "execution_count": 22,
   "id": "3e0f1a4a",
   "metadata": {},
   "outputs": [
    {
     "data": {
      "text/plain": [
       "array([31, 36, 33, 19, 30])"
      ]
     },
     "execution_count": 22,
     "metadata": {},
     "output_type": "execute_result"
    }
   ],
   "source": [
    "np.sum(nums, axis=0)"
   ]
  },
  {
   "cell_type": "code",
   "execution_count": 13,
   "id": "355ced27",
   "metadata": {},
   "outputs": [
    {
     "data": {
      "text/plain": [
       "array([14, 18, 15, 10, 16])"
      ]
     },
     "execution_count": 13,
     "metadata": {},
     "output_type": "execute_result"
    }
   ],
   "source": [
    "np.max(nums, axis=0)"
   ]
  },
  {
   "cell_type": "code",
   "execution_count": 14,
   "id": "a75a4ad5",
   "metadata": {},
   "outputs": [
    {
     "data": {
      "text/plain": [
       "array([14, 18, 15])"
      ]
     },
     "execution_count": 14,
     "metadata": {},
     "output_type": "execute_result"
    }
   ],
   "source": [
    "np.max(nums, axis=1)"
   ]
  },
  {
   "cell_type": "code",
   "execution_count": 15,
   "id": "d31f5399",
   "metadata": {},
   "outputs": [
    {
     "data": {
      "text/plain": [
       "array([7, 6, 9, 4, 2])"
      ]
     },
     "execution_count": 15,
     "metadata": {},
     "output_type": "execute_result"
    }
   ],
   "source": [
    "np.min(nums, axis=0)"
   ]
  },
  {
   "cell_type": "code",
   "execution_count": 16,
   "id": "012f9264",
   "metadata": {},
   "outputs": [
    {
     "data": {
      "text/plain": [
       "18"
      ]
     },
     "execution_count": 16,
     "metadata": {},
     "output_type": "execute_result"
    }
   ],
   "source": [
    "np.amax(nums)"
   ]
  },
  {
   "cell_type": "code",
   "execution_count": 17,
   "id": "c3ee7653",
   "metadata": {},
   "outputs": [
    {
     "data": {
      "text/plain": [
       "array([14, 18, 15])"
      ]
     },
     "execution_count": 17,
     "metadata": {},
     "output_type": "execute_result"
    }
   ],
   "source": [
    "np.amax(nums, axis=1)"
   ]
  },
  {
   "cell_type": "code",
   "execution_count": 18,
   "id": "d5819a3f",
   "metadata": {},
   "outputs": [
    {
     "data": {
      "text/plain": [
       "array([4, 9, 2])"
      ]
     },
     "execution_count": 18,
     "metadata": {},
     "output_type": "execute_result"
    }
   ],
   "source": [
    "np.amin(nums, axis=1)"
   ]
  },
  {
   "cell_type": "code",
   "execution_count": 19,
   "id": "5dfb42db",
   "metadata": {},
   "outputs": [
    {
     "data": {
      "text/plain": [
       "6"
      ]
     },
     "execution_count": 19,
     "metadata": {},
     "output_type": "execute_result"
    }
   ],
   "source": [
    "nums.argmax()"
   ]
  },
  {
   "cell_type": "code",
   "execution_count": 20,
   "id": "83b7ceff",
   "metadata": {},
   "outputs": [
    {
     "data": {
      "text/plain": [
       "14"
      ]
     },
     "execution_count": 20,
     "metadata": {},
     "output_type": "execute_result"
    }
   ],
   "source": [
    "nums.argmin()"
   ]
  },
  {
   "cell_type": "code",
   "execution_count": 21,
   "id": "cb5df92e",
   "metadata": {},
   "outputs": [
    {
     "data": {
      "text/plain": [
       "array([2, 0, 0, 0, 2], dtype=int64)"
      ]
     },
     "execution_count": 21,
     "metadata": {},
     "output_type": "execute_result"
    }
   ],
   "source": [
    "np.argmin(nums, axis=0)"
   ]
  },
  {
   "cell_type": "code",
   "execution_count": null,
   "id": "c84518a4",
   "metadata": {},
   "outputs": [],
   "source": []
  },
  {
   "cell_type": "code",
   "execution_count": 24,
   "id": "dcadd435",
   "metadata": {},
   "outputs": [
    {
     "data": {
      "text/plain": [
       "array([[ 0,  1,  2,  3],\n",
       "       [ 4,  5,  6,  7],\n",
       "       [ 8,  9, 10, 11]])"
      ]
     },
     "execution_count": 24,
     "metadata": {},
     "output_type": "execute_result"
    }
   ],
   "source": [
    "seq = np.arange(12).reshape(3,4)\n",
    "seq"
   ]
  },
  {
   "cell_type": "code",
   "execution_count": 25,
   "id": "5009b450",
   "metadata": {},
   "outputs": [
    {
     "data": {
      "text/plain": [
       "array([[  0,   1,   4,   9],\n",
       "       [ 16,  25,  36,  49],\n",
       "       [ 64,  81, 100, 121]], dtype=int32)"
      ]
     },
     "execution_count": 25,
     "metadata": {},
     "output_type": "execute_result"
    }
   ],
   "source": [
    "np.power(seq, 2)"
   ]
  },
  {
   "cell_type": "code",
   "execution_count": 28,
   "id": "d2642547",
   "metadata": {},
   "outputs": [
    {
     "data": {
      "text/plain": [
       "array([[  0,   1,   4,   9],\n",
       "       [ 16,  25,  36,  49],\n",
       "       [ 64,  81, 100, 121]], dtype=int32)"
      ]
     },
     "execution_count": 28,
     "metadata": {},
     "output_type": "execute_result"
    }
   ],
   "source": [
    "np.square(seq)"
   ]
  },
  {
   "cell_type": "code",
   "execution_count": 26,
   "id": "abd823df",
   "metadata": {},
   "outputs": [
    {
     "data": {
      "text/plain": [
       "array([[0.        , 1.        , 1.41421356, 1.73205081],\n",
       "       [2.        , 2.23606798, 2.44948974, 2.64575131],\n",
       "       [2.82842712, 3.        , 3.16227766, 3.31662479]])"
      ]
     },
     "execution_count": 26,
     "metadata": {},
     "output_type": "execute_result"
    }
   ],
   "source": [
    "np.power(seq, 0.5)"
   ]
  },
  {
   "cell_type": "code",
   "execution_count": 27,
   "id": "1a77a5da",
   "metadata": {},
   "outputs": [
    {
     "data": {
      "text/plain": [
       "array([[0.        , 1.        , 1.41421356, 1.73205081],\n",
       "       [2.        , 2.23606798, 2.44948974, 2.64575131],\n",
       "       [2.82842712, 3.        , 3.16227766, 3.31662479]])"
      ]
     },
     "execution_count": 27,
     "metadata": {},
     "output_type": "execute_result"
    }
   ],
   "source": [
    "np.sqrt(seq)\n",
    "# np.sqrt: Return the non-negative square-root of an array, element-wise."
   ]
  },
  {
   "cell_type": "code",
   "execution_count": null,
   "id": "9e25dc42",
   "metadata": {},
   "outputs": [],
   "source": []
  },
  {
   "cell_type": "code",
   "execution_count": 29,
   "id": "281259b5",
   "metadata": {},
   "outputs": [
    {
     "data": {
      "text/plain": [
       "array([[0, 1],\n",
       "       [2, 3],\n",
       "       [4, 5]])"
      ]
     },
     "execution_count": 29,
     "metadata": {},
     "output_type": "execute_result"
    }
   ],
   "source": [
    "data = np.arange(6).reshape((3,2))\n",
    "data"
   ]
  },
  {
   "cell_type": "code",
   "execution_count": 30,
   "id": "778d739a",
   "metadata": {},
   "outputs": [
    {
     "data": {
      "text/plain": [
       "2.5"
      ]
     },
     "execution_count": 30,
     "metadata": {},
     "output_type": "execute_result"
    }
   ],
   "source": [
    "np.average(data)"
   ]
  },
  {
   "cell_type": "code",
   "execution_count": 17,
   "id": "91f9fd66",
   "metadata": {},
   "outputs": [
    {
     "data": {
      "text/plain": [
       "array([0.75, 2.75, 4.75])"
      ]
     },
     "execution_count": 17,
     "metadata": {},
     "output_type": "execute_result"
    }
   ],
   "source": [
    "np.average(data, axis=1, weights=[1./4, 3./4])"
   ]
  },
  {
   "cell_type": "code",
   "execution_count": null,
   "id": "dbe85167",
   "metadata": {},
   "outputs": [],
   "source": [
    "np.average(data, axis=0, weights=[1./4, 3./4])\n",
    "# ValueError: Length of weights not compatible with specified axis."
   ]
  },
  {
   "cell_type": "code",
   "execution_count": null,
   "id": "059c83a3",
   "metadata": {},
   "outputs": [],
   "source": []
  },
  {
   "cell_type": "code",
   "execution_count": 31,
   "id": "44364e80",
   "metadata": {},
   "outputs": [
    {
     "data": {
      "text/plain": [
       "array([[0.26038521, 0.33197462],\n",
       "       [0.18867981, 0.81073768],\n",
       "       [0.83582288, 0.6898112 ]])"
      ]
     },
     "execution_count": 31,
     "metadata": {},
     "output_type": "execute_result"
    }
   ],
   "source": [
    "arr = np.random.rand(3,2)  # random samples from a \"uniform distribution\" over [0, 1)\n",
    "arr"
   ]
  },
  {
   "cell_type": "code",
   "execution_count": 32,
   "id": "30b94e85",
   "metadata": {},
   "outputs": [
    {
     "data": {
      "text/plain": [
       "0.5195685663930013"
      ]
     },
     "execution_count": 32,
     "metadata": {},
     "output_type": "execute_result"
    }
   ],
   "source": [
    "arr.mean()  # average"
   ]
  },
  {
   "cell_type": "code",
   "execution_count": 33,
   "id": "fcc818ca",
   "metadata": {},
   "outputs": [
    {
     "data": {
      "text/plain": [
       "0.5195685663930013"
      ]
     },
     "execution_count": 33,
     "metadata": {},
     "output_type": "execute_result"
    }
   ],
   "source": [
    "np.average(arr)"
   ]
  },
  {
   "cell_type": "code",
   "execution_count": 34,
   "id": "c7fa09c0",
   "metadata": {},
   "outputs": [
    {
     "name": "stdout",
     "output_type": "stream",
     "text": [
      "[0.29617991 0.49970874 0.76281704]\n",
      "[0.42829597 0.61084117]\n"
     ]
    }
   ],
   "source": [
    "print(arr.mean(1))   # rows average\n",
    "print(arr.mean(0))   # columns average"
   ]
  },
  {
   "cell_type": "code",
   "execution_count": 35,
   "id": "1411c532",
   "metadata": {},
   "outputs": [
    {
     "data": {
      "text/plain": [
       "0.2663436585900821"
      ]
     },
     "execution_count": 35,
     "metadata": {},
     "output_type": "execute_result"
    }
   ],
   "source": [
    "arr.std()  # standard deviation"
   ]
  },
  {
   "cell_type": "code",
   "execution_count": 36,
   "id": "ec96da72",
   "metadata": {},
   "outputs": [
    {
     "data": {
      "text/plain": [
       "0.07093894447115019"
      ]
     },
     "execution_count": 36,
     "metadata": {},
     "output_type": "execute_result"
    }
   ],
   "source": [
    "arr.var()  # variance"
   ]
  },
  {
   "cell_type": "code",
   "execution_count": 37,
   "id": "6aad2ba3",
   "metadata": {},
   "outputs": [
    {
     "data": {
      "text/plain": [
       "0.5108929100448245"
      ]
     },
     "execution_count": 37,
     "metadata": {},
     "output_type": "execute_result"
    }
   ],
   "source": [
    "np.median(arr)"
   ]
  },
  {
   "cell_type": "code",
   "execution_count": null,
   "id": "8ec29ac3",
   "metadata": {},
   "outputs": [],
   "source": []
  },
  {
   "cell_type": "code",
   "execution_count": 38,
   "id": "0e6735be",
   "metadata": {},
   "outputs": [
    {
     "data": {
      "text/plain": [
       "array([-4., -3., -2., -1.,  0.])"
      ]
     },
     "execution_count": 38,
     "metadata": {},
     "output_type": "execute_result"
    }
   ],
   "source": [
    "arr_1 = np.array([4,9,16,25,36])\n",
    "arr_2 = np.array([2,3,4,5,6])\n",
    "np.sqrt(arr_1)-np.max(arr_2)"
   ]
  },
  {
   "cell_type": "code",
   "execution_count": 21,
   "id": "f70993f0",
   "metadata": {},
   "outputs": [
    {
     "data": {
      "text/plain": [
       "array([ 4,  9, 16, 25, 36], dtype=int32)"
      ]
     },
     "execution_count": 21,
     "metadata": {},
     "output_type": "execute_result"
    }
   ],
   "source": [
    "np.square(arr_2)"
   ]
  },
  {
   "cell_type": "code",
   "execution_count": 24,
   "id": "6aaa4f28",
   "metadata": {},
   "outputs": [
    {
     "data": {
      "text/plain": [
       "array([[400, 784, 144],\n",
       "       [225, 625,  81]], dtype=int32)"
      ]
     },
     "execution_count": 24,
     "metadata": {},
     "output_type": "execute_result"
    }
   ],
   "source": [
    "arrayOne = np.array([[5, 6, 9], [11 ,18, 8]])\n",
    "arrayTwo = np.array([[15 ,22, 3], [4 ,7, 1]])\n",
    "\n",
    "np.square(np.add(arrayOne, arrayTwo))"
   ]
  },
  {
   "cell_type": "code",
   "execution_count": null,
   "id": "ad077132",
   "metadata": {},
   "outputs": [],
   "source": []
  },
  {
   "cell_type": "code",
   "execution_count": 39,
   "id": "bc901e56",
   "metadata": {},
   "outputs": [
    {
     "data": {
      "text/plain": [
       "array([2, 3, 4, 5, 6])"
      ]
     },
     "execution_count": 39,
     "metadata": {},
     "output_type": "execute_result"
    }
   ],
   "source": [
    "arr_2"
   ]
  },
  {
   "cell_type": "code",
   "execution_count": 40,
   "id": "d045c55b",
   "metadata": {},
   "outputs": [
    {
     "data": {
      "text/plain": [
       "array([ 0.90929743,  0.14112001, -0.7568025 , -0.95892427, -0.2794155 ])"
      ]
     },
     "execution_count": 40,
     "metadata": {},
     "output_type": "execute_result"
    }
   ],
   "source": [
    "np.sin(arr_2)"
   ]
  },
  {
   "cell_type": "code",
   "execution_count": 41,
   "id": "306a9789",
   "metadata": {},
   "outputs": [
    {
     "data": {
      "text/plain": [
       "1.2246467991473532e-16"
      ]
     },
     "execution_count": 41,
     "metadata": {},
     "output_type": "execute_result"
    }
   ],
   "source": [
    "np.sin(np.pi)"
   ]
  },
  {
   "cell_type": "code",
   "execution_count": 42,
   "id": "e8fd76c9",
   "metadata": {},
   "outputs": [
    {
     "data": {
      "text/plain": [
       "1.0"
      ]
     },
     "execution_count": 42,
     "metadata": {},
     "output_type": "execute_result"
    }
   ],
   "source": [
    "np.sin(np.pi/2)"
   ]
  },
  {
   "cell_type": "code",
   "execution_count": 43,
   "id": "ab20fc13",
   "metadata": {},
   "outputs": [
    {
     "data": {
      "text/plain": [
       "array([-0.41614684, -0.9899925 , -0.65364362,  0.28366219,  0.96017029])"
      ]
     },
     "execution_count": 43,
     "metadata": {},
     "output_type": "execute_result"
    }
   ],
   "source": [
    "np.cos(arr_2)"
   ]
  },
  {
   "cell_type": "code",
   "execution_count": 44,
   "id": "e3ed2efd",
   "metadata": {},
   "outputs": [
    {
     "data": {
      "text/plain": [
       "2.302585092994046"
      ]
     },
     "execution_count": 44,
     "metadata": {},
     "output_type": "execute_result"
    }
   ],
   "source": [
    "np.log(10)"
   ]
  },
  {
   "cell_type": "code",
   "execution_count": 17,
   "id": "77cdfc9e",
   "metadata": {},
   "outputs": [
    {
     "data": {
      "text/plain": [
       "array([ 2.71828183,  7.3890561 , 20.08553692])"
      ]
     },
     "execution_count": 17,
     "metadata": {},
     "output_type": "execute_result"
    }
   ],
   "source": [
    "# numpy.exp : Calculate the exponential of all elements in the input array.\n",
    "np.exp(np.array([1,2,3]))"
   ]
  },
  {
   "cell_type": "code",
   "execution_count": 18,
   "id": "9b0bb162",
   "metadata": {},
   "outputs": [
    {
     "data": {
      "text/plain": [
       "1.0"
      ]
     },
     "execution_count": 18,
     "metadata": {},
     "output_type": "execute_result"
    }
   ],
   "source": [
    "np.log(np.exp(1))"
   ]
  },
  {
   "cell_type": "code",
   "execution_count": null,
   "id": "86210dba",
   "metadata": {},
   "outputs": [],
   "source": []
  },
  {
   "cell_type": "code",
   "execution_count": 64,
   "id": "1418f53c",
   "metadata": {},
   "outputs": [
    {
     "data": {
      "text/plain": [
       "array([0.        , 1.57079633, 0.78539816])"
      ]
     },
     "execution_count": 64,
     "metadata": {},
     "output_type": "execute_result"
    }
   ],
   "source": [
    "np.angle([1.0, 1.0j, 1+1j])  # in radians\n",
    "# Return the angle of the complex argument"
   ]
  },
  {
   "cell_type": "code",
   "execution_count": 65,
   "id": "cbca0842",
   "metadata": {},
   "outputs": [
    {
     "data": {
      "text/plain": [
       "45.0"
      ]
     },
     "execution_count": 65,
     "metadata": {},
     "output_type": "execute_result"
    }
   ],
   "source": [
    "np.angle(1+1j, deg=True)  # in degrees"
   ]
  },
  {
   "cell_type": "code",
   "execution_count": null,
   "id": "2c27f736",
   "metadata": {},
   "outputs": [],
   "source": []
  },
  {
   "cell_type": "code",
   "execution_count": null,
   "id": "2e514ece",
   "metadata": {},
   "outputs": [],
   "source": [
    "# linear algebra\n",
    "# np.matmul : Matrix product of two arrays."
   ]
  },
  {
   "cell_type": "code",
   "execution_count": 45,
   "id": "b116558c",
   "metadata": {},
   "outputs": [
    {
     "data": {
      "text/plain": [
       "array([[1., 1., 1.],\n",
       "       [1., 1., 1.]])"
      ]
     },
     "execution_count": 45,
     "metadata": {},
     "output_type": "execute_result"
    }
   ],
   "source": [
    "a = np.ones((2,3))\n",
    "a"
   ]
  },
  {
   "cell_type": "code",
   "execution_count": 46,
   "id": "fd6ade59",
   "metadata": {},
   "outputs": [
    {
     "data": {
      "text/plain": [
       "array([[2, 2],\n",
       "       [2, 2],\n",
       "       [2, 2]])"
      ]
     },
     "execution_count": 46,
     "metadata": {},
     "output_type": "execute_result"
    }
   ],
   "source": [
    "b = np.full((3,2),2)\n",
    "b"
   ]
  },
  {
   "cell_type": "code",
   "execution_count": 47,
   "id": "10cb78ae",
   "metadata": {},
   "outputs": [
    {
     "data": {
      "text/plain": [
       "array([[6., 6.],\n",
       "       [6., 6.]])"
      ]
     },
     "execution_count": 47,
     "metadata": {},
     "output_type": "execute_result"
    }
   ],
   "source": [
    "np.matmul(a,b)"
   ]
  },
  {
   "cell_type": "code",
   "execution_count": null,
   "id": "909f1ed7",
   "metadata": {},
   "outputs": [],
   "source": []
  },
  {
   "cell_type": "code",
   "execution_count": 87,
   "id": "00611290",
   "metadata": {},
   "outputs": [
    {
     "data": {
      "text/plain": [
       "1.0"
      ]
     },
     "execution_count": 87,
     "metadata": {},
     "output_type": "execute_result"
    }
   ],
   "source": [
    "# find determinant \n",
    "# (Determinant, kare matrisleri bir reel sayıya eşleyen fonksiyondur. \n",
    "# Determinant fonksiyonun kare matrisi eşlediği o sayıya matrisin determinantı denir.)\n",
    "\n",
    "c = np.identity(3)\n",
    "np.linalg.det(c)"
   ]
  },
  {
   "cell_type": "code",
   "execution_count": null,
   "id": "4aea915a",
   "metadata": {},
   "outputs": [],
   "source": []
  },
  {
   "cell_type": "code",
   "execution_count": 76,
   "id": "b87cbf1f",
   "metadata": {},
   "outputs": [
    {
     "data": {
      "text/plain": [
       "array([[19, 22],\n",
       "       [43, 50]])"
      ]
     },
     "execution_count": 76,
     "metadata": {},
     "output_type": "execute_result"
    }
   ],
   "source": [
    "a = np.array([[1,2],[3,4]])      \n",
    "b = np.array([[5,6],[7,8]]) \n",
    "np.dot(a,b)\n",
    "# array :(1*5)+(2*7)=19   (1*6)+(2*8)=22   (3*5)+(4*7)=43   (3*6)+(4*8)=50"
   ]
  },
  {
   "cell_type": "code",
   "execution_count": 68,
   "id": "6fb1311b",
   "metadata": {},
   "outputs": [
    {
     "data": {
      "text/plain": [
       "array([[0, 1, 2, 3],\n",
       "       [4, 5, 6, 7]])"
      ]
     },
     "execution_count": 68,
     "metadata": {},
     "output_type": "execute_result"
    }
   ],
   "source": [
    "seq = np.arange(8).reshape(2,4)\n",
    "seq"
   ]
  },
  {
   "cell_type": "code",
   "execution_count": 70,
   "id": "4eea22af",
   "metadata": {},
   "outputs": [
    {
     "data": {
      "text/plain": [
       "array([[0, 4],\n",
       "       [1, 5],\n",
       "       [2, 6],\n",
       "       [3, 7]])"
      ]
     },
     "execution_count": 70,
     "metadata": {},
     "output_type": "execute_result"
    }
   ],
   "source": [
    "seq.transpose()"
   ]
  },
  {
   "cell_type": "code",
   "execution_count": 71,
   "id": "ce25cccf",
   "metadata": {},
   "outputs": [
    {
     "data": {
      "text/plain": [
       "array([[16, 20, 24, 28],\n",
       "       [20, 26, 32, 38],\n",
       "       [24, 32, 40, 48],\n",
       "       [28, 38, 48, 58]])"
      ]
     },
     "execution_count": 71,
     "metadata": {},
     "output_type": "execute_result"
    }
   ],
   "source": [
    "np.dot(seq.T,seq)"
   ]
  },
  {
   "cell_type": "code",
   "execution_count": 72,
   "id": "c745a47d",
   "metadata": {},
   "outputs": [],
   "source": [
    "ss = np.array([[1, 2], [3, 4]])\n",
    "tt = np.array([[5, 6], [7, 8]])"
   ]
  },
  {
   "cell_type": "code",
   "execution_count": 73,
   "id": "6dfe1723",
   "metadata": {},
   "outputs": [
    {
     "data": {
      "text/plain": [
       "array([[ 6,  8],\n",
       "       [10, 12]])"
      ]
     },
     "execution_count": 73,
     "metadata": {},
     "output_type": "execute_result"
    }
   ],
   "source": [
    "ss+tt"
   ]
  },
  {
   "cell_type": "code",
   "execution_count": 74,
   "id": "bbd5caa0",
   "metadata": {},
   "outputs": [
    {
     "data": {
      "text/plain": [
       "array([[19, 22],\n",
       "       [43, 50]])"
      ]
     },
     "execution_count": 74,
     "metadata": {},
     "output_type": "execute_result"
    }
   ],
   "source": [
    "ss.dot(tt)"
   ]
  },
  {
   "cell_type": "code",
   "execution_count": 75,
   "id": "83cc3327",
   "metadata": {},
   "outputs": [
    {
     "data": {
      "text/plain": [
       "array([[23, 34],\n",
       "       [31, 46]])"
      ]
     },
     "execution_count": 75,
     "metadata": {},
     "output_type": "execute_result"
    }
   ],
   "source": [
    "tt.dot(ss)"
   ]
  },
  {
   "cell_type": "code",
   "execution_count": null,
   "id": "713ac687",
   "metadata": {},
   "outputs": [],
   "source": []
  }
 ],
 "metadata": {
  "kernelspec": {
   "display_name": "Python 3 (ipykernel)",
   "language": "python",
   "name": "python3"
  },
  "language_info": {
   "codemirror_mode": {
    "name": "ipython",
    "version": 3
   },
   "file_extension": ".py",
   "mimetype": "text/x-python",
   "name": "python",
   "nbconvert_exporter": "python",
   "pygments_lexer": "ipython3",
   "version": "3.9.6"
  }
 },
 "nbformat": 4,
 "nbformat_minor": 5
}
