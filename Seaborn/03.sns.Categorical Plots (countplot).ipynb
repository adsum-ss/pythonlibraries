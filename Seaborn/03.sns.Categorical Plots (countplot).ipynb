{
 "cells": [
  {
   "cell_type": "markdown",
   "id": "c0ab6f31",
   "metadata": {},
   "source": [
    "## Countplot\n",
    "Show the counts of observations in each categorical bin using bars. A count plot can be thought of as a histogram across a categorical, instead of quantitative, variable."
   ]
  },
  {
   "cell_type": "code",
   "execution_count": 2,
   "id": "5acbdb24",
   "metadata": {},
   "outputs": [],
   "source": [
    "# Basic Library\n",
    "import numpy as np\n",
    "import pandas as pd\n",
    "\n",
    "# Libraries for Visualization\n",
    "import matplotlib.pyplot as plt\n",
    "%matplotlib inline\n",
    "import seaborn as sns\n",
    "\n",
    "import scipy\n",
    "import warnings;\n",
    "warnings.filterwarnings('ignore')"
   ]
  },
  {
   "cell_type": "code",
   "execution_count": 3,
   "id": "614ea348",
   "metadata": {},
   "outputs": [
    {
     "data": {
      "text/html": [
       "<div>\n",
       "<style scoped>\n",
       "    .dataframe tbody tr th:only-of-type {\n",
       "        vertical-align: middle;\n",
       "    }\n",
       "\n",
       "    .dataframe tbody tr th {\n",
       "        vertical-align: top;\n",
       "    }\n",
       "\n",
       "    .dataframe thead th {\n",
       "        text-align: right;\n",
       "    }\n",
       "</style>\n",
       "<table border=\"1\" class=\"dataframe\">\n",
       "  <thead>\n",
       "    <tr style=\"text-align: right;\">\n",
       "      <th></th>\n",
       "      <th>total_bill</th>\n",
       "      <th>tip</th>\n",
       "      <th>sex</th>\n",
       "      <th>smoker</th>\n",
       "      <th>day</th>\n",
       "      <th>time</th>\n",
       "      <th>size</th>\n",
       "    </tr>\n",
       "  </thead>\n",
       "  <tbody>\n",
       "    <tr>\n",
       "      <th>0</th>\n",
       "      <td>16.99</td>\n",
       "      <td>1.01</td>\n",
       "      <td>Female</td>\n",
       "      <td>No</td>\n",
       "      <td>Sun</td>\n",
       "      <td>Dinner</td>\n",
       "      <td>2</td>\n",
       "    </tr>\n",
       "    <tr>\n",
       "      <th>1</th>\n",
       "      <td>10.34</td>\n",
       "      <td>1.66</td>\n",
       "      <td>Male</td>\n",
       "      <td>No</td>\n",
       "      <td>Sun</td>\n",
       "      <td>Dinner</td>\n",
       "      <td>3</td>\n",
       "    </tr>\n",
       "    <tr>\n",
       "      <th>2</th>\n",
       "      <td>21.01</td>\n",
       "      <td>3.50</td>\n",
       "      <td>Male</td>\n",
       "      <td>No</td>\n",
       "      <td>Sun</td>\n",
       "      <td>Dinner</td>\n",
       "      <td>3</td>\n",
       "    </tr>\n",
       "    <tr>\n",
       "      <th>3</th>\n",
       "      <td>23.68</td>\n",
       "      <td>3.31</td>\n",
       "      <td>Male</td>\n",
       "      <td>No</td>\n",
       "      <td>Sun</td>\n",
       "      <td>Dinner</td>\n",
       "      <td>2</td>\n",
       "    </tr>\n",
       "    <tr>\n",
       "      <th>4</th>\n",
       "      <td>24.59</td>\n",
       "      <td>3.61</td>\n",
       "      <td>Female</td>\n",
       "      <td>No</td>\n",
       "      <td>Sun</td>\n",
       "      <td>Dinner</td>\n",
       "      <td>4</td>\n",
       "    </tr>\n",
       "  </tbody>\n",
       "</table>\n",
       "</div>"
      ],
      "text/plain": [
       "   total_bill   tip     sex smoker  day    time  size\n",
       "0       16.99  1.01  Female     No  Sun  Dinner     2\n",
       "1       10.34  1.66    Male     No  Sun  Dinner     3\n",
       "2       21.01  3.50    Male     No  Sun  Dinner     3\n",
       "3       23.68  3.31    Male     No  Sun  Dinner     2\n",
       "4       24.59  3.61  Female     No  Sun  Dinner     4"
      ]
     },
     "execution_count": 3,
     "metadata": {},
     "output_type": "execute_result"
    }
   ],
   "source": [
    "tips = sns.load_dataset(\"tips\")\n",
    "tips.head()"
   ]
  },
  {
   "cell_type": "code",
   "execution_count": 4,
   "id": "1e4b000c",
   "metadata": {},
   "outputs": [
    {
     "data": {
      "text/plain": [
       "Sat     87\n",
       "Sun     76\n",
       "Thur    62\n",
       "Fri     19\n",
       "Name: day, dtype: int64"
      ]
     },
     "execution_count": 4,
     "metadata": {},
     "output_type": "execute_result"
    }
   ],
   "source": [
    "tips.day.value_counts()"
   ]
  },
  {
   "cell_type": "code",
   "execution_count": 6,
   "id": "5fd292c6",
   "metadata": {},
   "outputs": [
    {
     "data": {
      "image/png": "[encoded data removed]",
      "text/plain": [
       "<Figure size 432x288 with 1 Axes>"
      ]
     },
     "metadata": {
      "needs_background": "light"
     },
     "output_type": "display_data"
    }
   ],
   "source": [
    "sns.countplot(x='day', data=tips);\n",
    "\n",
    "# sns.countplot(tips[\"day\"])"
   ]
  },
  {
   "cell_type": "code",
   "execution_count": 74,
   "id": "61aa4e9b",
   "metadata": {},
   "outputs": [
    {
     "data": {
      "image/png": "[encoded data removed]",
      "text/plain": [
       "<Figure size 432x288 with 1 Axes>"
      ]
     },
     "metadata": {},
     "output_type": "display_data"
    }
   ],
   "source": [
    "sns.countplot(x='sex', data=tips);"
   ]
  },
  {
   "cell_type": "code",
   "execution_count": 23,
   "id": "aa3f335f",
   "metadata": {},
   "outputs": [
    {
     "data": {
      "image/png": "[encoded data removed]",
      "text/plain": [
       "<Figure size 432x288 with 1 Axes>"
      ]
     },
     "metadata": {
      "needs_background": "light"
     },
     "output_type": "display_data"
    }
   ],
   "source": [
    "sns.countplot(x='day', data=tips, hue=\"sex\");"
   ]
  },
  {
   "cell_type": "code",
   "execution_count": 45,
   "id": "45831b46",
   "metadata": {},
   "outputs": [
    {
     "data": {
      "image/png": "[encoded data removed]",
      "text/plain": [
       "<Figure size 432x288 with 1 Axes>"
      ]
     },
     "metadata": {
      "needs_background": "light"
     },
     "output_type": "display_data"
    }
   ],
   "source": [
    "# horizontal countplot\n",
    "\n",
    "sns.countplot(y='day', data=tips);"
   ]
  },
  {
   "cell_type": "code",
   "execution_count": 22,
   "id": "7d4e94ea",
   "metadata": {},
   "outputs": [
    {
     "data": {
      "image/png": "[encoded data removed]",
      "text/plain": [
       "<Figure size 432x288 with 1 Axes>"
      ]
     },
     "metadata": {
      "needs_background": "light"
     },
     "output_type": "display_data"
    }
   ],
   "source": [
    "fig, ax = plt.subplots()\n",
    "\n",
    "ax = sns.countplot(x='day', data=tips)\n",
    "\n",
    "for p in ax.patches:\n",
    "    ax.annotate((p.get_height()), (p.get_x()+0.35, p.get_height()+3))\n",
    "    \n",
    "ax.set_ylim(0, 100);"
   ]
  },
  {
   "cell_type": "code",
   "execution_count": 39,
   "id": "9e2ce456",
   "metadata": {},
   "outputs": [
    {
     "data": {
      "text/plain": [
       "[<matplotlib.patches.Rectangle at 0x25793e46460>,\n",
       " <matplotlib.patches.Rectangle at 0x25793e466d0>,\n",
       " <matplotlib.patches.Rectangle at 0x25793e46580>,\n",
       " <matplotlib.patches.Rectangle at 0x25793d8f970>,\n",
       " <matplotlib.patches.Rectangle at 0x25793d8f1c0>,\n",
       " <matplotlib.patches.Rectangle at 0x25793e46df0>,\n",
       " <matplotlib.patches.Rectangle at 0x25793d8f910>,\n",
       " <matplotlib.patches.Rectangle at 0x25793d8ff40>]"
      ]
     },
     "execution_count": 39,
     "metadata": {},
     "output_type": "execute_result"
    }
   ],
   "source": [
    "ax.patches"
   ]
  },
  {
   "cell_type": "code",
   "execution_count": 40,
   "id": "f14bc159",
   "metadata": {},
   "outputs": [
    {
     "name": "stdout",
     "output_type": "stream",
     "text": [
      "Rectangle(xy=(-0.4, 0), width=0.4, height=30, angle=0)\n",
      "Rectangle(xy=(0.6, 0), width=0.4, height=10, angle=0)\n",
      "Rectangle(xy=(1.6, 0), width=0.4, height=59, angle=0)\n",
      "Rectangle(xy=(2.6, 0), width=0.4, height=58, angle=0)\n",
      "Rectangle(xy=(-2.77556e-17, 0), width=0.4, height=32, angle=0)\n",
      "Rectangle(xy=(1, 0), width=0.4, height=9, angle=0)\n",
      "Rectangle(xy=(2, 0), width=0.4, height=28, angle=0)\n",
      "Rectangle(xy=(3, 0), width=0.4, height=18, angle=0)\n"
     ]
    }
   ],
   "source": [
    "for p in ax.patches:\n",
    "  print(p)"
   ]
  },
  {
   "cell_type": "code",
   "execution_count": 34,
   "id": "37789313",
   "metadata": {},
   "outputs": [
    {
     "data": {
      "image/png": "[encoded data removed]",
      "text/plain": [
       "<Figure size 432x288 with 1 Axes>"
      ]
     },
     "metadata": {
      "needs_background": "light"
     },
     "output_type": "display_data"
    }
   ],
   "source": [
    "fig, ax = plt.subplots()\n",
    "\n",
    "ax = sns.countplot(x='day', data=tips, hue=\"sex\")\n",
    "\n",
    "for p in ax.patches:\n",
    "    ax.annotate((p.get_height()), (p.get_x()+0.1, p.get_height()+1))\n",
    "    \n",
    "ax.set_ylim(0, 70);"
   ]
  },
  {
   "cell_type": "code",
   "execution_count": 35,
   "id": "082c857c",
   "metadata": {},
   "outputs": [
    {
     "data": {
      "image/png": "[encoded data removed]",
      "text/plain": [
       "<Figure size 432x288 with 1 Axes>"
      ]
     },
     "metadata": {
      "needs_background": "light"
     },
     "output_type": "display_data"
    }
   ],
   "source": [
    "fig, ax = plt.subplots()\n",
    "\n",
    "sns.countplot(x='day', data=tips, hue=\"sex\" ,ax=ax)\n",
    "\n",
    "for p in ax.patches:\n",
    "    ax.annotate((p.get_height()), (p.get_x()+0.1, p.get_height()+1))\n",
    "    \n",
    "ax.set_ylim(0, 70);"
   ]
  },
  {
   "cell_type": "code",
   "execution_count": 38,
   "id": "2beb7269",
   "metadata": {},
   "outputs": [
    {
     "data": {
      "image/png": "[encoded data removed]",
      "text/plain": [
       "<Figure size 432x288 with 1 Axes>"
      ]
     },
     "metadata": {
      "needs_background": "light"
     },
     "output_type": "display_data"
    }
   ],
   "source": [
    "# extra imformation (add percentage)\n",
    "\n",
    "fig, ax = plt.subplots()\n",
    "\n",
    "ax = sns.countplot(x='day', data=tips, hue=\"sex\")\n",
    "\n",
    "for p in ax.patches:\n",
    "    ax.annotate((p.get_height()), (p.get_x()+0.1, p.get_height()+1))\n",
    "    ax.text(p.get_x()+0.1, p.get_height()-4,str(round(p.get_height()/tips.day.count(),2)))\n",
    "    \n",
    "ax.set_ylim(0, 70);"
   ]
  },
  {
   "cell_type": "markdown",
   "id": "d5fb451b",
   "metadata": {},
   "source": [
    "## Order"
   ]
  },
  {
   "cell_type": "code",
   "execution_count": 46,
   "id": "7e047d88",
   "metadata": {},
   "outputs": [
    {
     "data": {
      "text/html": [
       "<div>\n",
       "<style scoped>\n",
       "    .dataframe tbody tr th:only-of-type {\n",
       "        vertical-align: middle;\n",
       "    }\n",
       "\n",
       "    .dataframe tbody tr th {\n",
       "        vertical-align: top;\n",
       "    }\n",
       "\n",
       "    .dataframe thead th {\n",
       "        text-align: right;\n",
       "    }\n",
       "</style>\n",
       "<table border=\"1\" class=\"dataframe\">\n",
       "  <thead>\n",
       "    <tr style=\"text-align: right;\">\n",
       "      <th></th>\n",
       "      <th>carat</th>\n",
       "      <th>cut</th>\n",
       "      <th>color</th>\n",
       "      <th>clarity</th>\n",
       "      <th>depth</th>\n",
       "      <th>table</th>\n",
       "      <th>price</th>\n",
       "      <th>x</th>\n",
       "      <th>y</th>\n",
       "      <th>z</th>\n",
       "    </tr>\n",
       "  </thead>\n",
       "  <tbody>\n",
       "    <tr>\n",
       "      <th>0</th>\n",
       "      <td>0.23</td>\n",
       "      <td>Ideal</td>\n",
       "      <td>E</td>\n",
       "      <td>SI2</td>\n",
       "      <td>61.5</td>\n",
       "      <td>55.0</td>\n",
       "      <td>326</td>\n",
       "      <td>3.95</td>\n",
       "      <td>3.98</td>\n",
       "      <td>2.43</td>\n",
       "    </tr>\n",
       "    <tr>\n",
       "      <th>1</th>\n",
       "      <td>0.21</td>\n",
       "      <td>Premium</td>\n",
       "      <td>E</td>\n",
       "      <td>SI1</td>\n",
       "      <td>59.8</td>\n",
       "      <td>61.0</td>\n",
       "      <td>326</td>\n",
       "      <td>3.89</td>\n",
       "      <td>3.84</td>\n",
       "      <td>2.31</td>\n",
       "    </tr>\n",
       "    <tr>\n",
       "      <th>2</th>\n",
       "      <td>0.23</td>\n",
       "      <td>Good</td>\n",
       "      <td>E</td>\n",
       "      <td>VS1</td>\n",
       "      <td>56.9</td>\n",
       "      <td>65.0</td>\n",
       "      <td>327</td>\n",
       "      <td>4.05</td>\n",
       "      <td>4.07</td>\n",
       "      <td>2.31</td>\n",
       "    </tr>\n",
       "    <tr>\n",
       "      <th>3</th>\n",
       "      <td>0.29</td>\n",
       "      <td>Premium</td>\n",
       "      <td>I</td>\n",
       "      <td>VS2</td>\n",
       "      <td>62.4</td>\n",
       "      <td>58.0</td>\n",
       "      <td>334</td>\n",
       "      <td>4.20</td>\n",
       "      <td>4.23</td>\n",
       "      <td>2.63</td>\n",
       "    </tr>\n",
       "    <tr>\n",
       "      <th>4</th>\n",
       "      <td>0.31</td>\n",
       "      <td>Good</td>\n",
       "      <td>J</td>\n",
       "      <td>SI2</td>\n",
       "      <td>63.3</td>\n",
       "      <td>58.0</td>\n",
       "      <td>335</td>\n",
       "      <td>4.34</td>\n",
       "      <td>4.35</td>\n",
       "      <td>2.75</td>\n",
       "    </tr>\n",
       "  </tbody>\n",
       "</table>\n",
       "</div>"
      ],
      "text/plain": [
       "   carat      cut color clarity  depth  table  price     x     y     z\n",
       "0   0.23    Ideal     E     SI2   61.5   55.0    326  3.95  3.98  2.43\n",
       "1   0.21  Premium     E     SI1   59.8   61.0    326  3.89  3.84  2.31\n",
       "2   0.23     Good     E     VS1   56.9   65.0    327  4.05  4.07  2.31\n",
       "3   0.29  Premium     I     VS2   62.4   58.0    334  4.20  4.23  2.63\n",
       "4   0.31     Good     J     SI2   63.3   58.0    335  4.34  4.35  2.75"
      ]
     },
     "execution_count": 46,
     "metadata": {},
     "output_type": "execute_result"
    }
   ],
   "source": [
    "diamonds = sns.load_dataset('diamonds')\n",
    "\n",
    "diamonds.head()"
   ]
  },
  {
   "cell_type": "code",
   "execution_count": 47,
   "id": "aa6ea631",
   "metadata": {},
   "outputs": [],
   "source": [
    "diamonds = diamonds[diamonds.clarity.isin(['SI1', 'VS2'])]"
   ]
  },
  {
   "cell_type": "code",
   "execution_count": 48,
   "id": "16c865c3",
   "metadata": {},
   "outputs": [
    {
     "data": {
      "text/plain": [
       "(25323, 10)"
      ]
     },
     "execution_count": 48,
     "metadata": {},
     "output_type": "execute_result"
    }
   ],
   "source": [
    "diamonds.shape"
   ]
  },
  {
   "cell_type": "code",
   "execution_count": 49,
   "id": "498c3578",
   "metadata": {},
   "outputs": [
    {
     "data": {
      "text/plain": [
       "Index(['D', 'E', 'F', 'G', 'H', 'I', 'J'], dtype='object')"
      ]
     },
     "execution_count": 49,
     "metadata": {},
     "output_type": "execute_result"
    }
   ],
   "source": [
    "diamonds.color.cat.categories"
   ]
  },
  {
   "cell_type": "code",
   "execution_count": 50,
   "id": "a46d2b48",
   "metadata": {},
   "outputs": [
    {
     "data": {
      "text/plain": [
       "Index(['Ideal', 'Premium', 'Very Good', 'Good', 'Fair'], dtype='object')"
      ]
     },
     "execution_count": 50,
     "metadata": {},
     "output_type": "execute_result"
    }
   ],
   "source": [
    "diamonds.cut.cat.categories"
   ]
  },
  {
   "cell_type": "code",
   "execution_count": 51,
   "id": "b9548279",
   "metadata": {},
   "outputs": [
    {
     "data": {
      "image/png": "[encoded data removed]",
      "text/plain": [
       "<Figure size 432x288 with 1 Axes>"
      ]
     },
     "metadata": {
      "needs_background": "light"
     },
     "output_type": "display_data"
    }
   ],
   "source": [
    "sns.countplot(x='color', data=diamonds);"
   ]
  },
  {
   "cell_type": "code",
   "execution_count": 52,
   "id": "820521cc",
   "metadata": {},
   "outputs": [
    {
     "data": {
      "image/png": "[encoded data removed]",
      "text/plain": [
       "<Figure size 432x288 with 1 Axes>"
      ]
     },
     "metadata": {
      "needs_background": "light"
     },
     "output_type": "display_data"
    }
   ],
   "source": [
    "color_order=['J', 'I', 'H', 'G', 'F', 'E', 'D']\n",
    "\n",
    "sns.countplot(x='color', data=diamonds, order=color_order);"
   ]
  },
  {
   "cell_type": "code",
   "execution_count": 53,
   "id": "9006c7b3",
   "metadata": {},
   "outputs": [
    {
     "data": {
      "text/plain": [
       "CategoricalIndex(['E', 'F', 'G', 'H', 'D', 'I', 'J'], categories=['D', 'E', 'F', 'G', 'H', 'I', 'J'], ordered=False, dtype='category')"
      ]
     },
     "execution_count": 53,
     "metadata": {},
     "output_type": "execute_result"
    }
   ],
   "source": [
    "diamonds.color.value_counts().index"
   ]
  },
  {
   "cell_type": "code",
   "execution_count": 54,
   "id": "004aa39f",
   "metadata": {},
   "outputs": [
    {
     "data": {
      "image/png": "[encoded data removed]",
      "text/plain": [
       "<Figure size 432x288 with 1 Axes>"
      ]
     },
     "metadata": {
      "needs_background": "light"
     },
     "output_type": "display_data"
    }
   ],
   "source": [
    "sns.countplot(x='color', data=diamonds,\n",
    "              order=diamonds.color.value_counts().index[::-1]  #remove [::-1] for descending\n",
    "             );"
   ]
  },
  {
   "cell_type": "code",
   "execution_count": 56,
   "id": "a7809574",
   "metadata": {},
   "outputs": [
    {
     "data": {
      "image/png": "[encoded data removed]",
      "text/plain": [
       "<Figure size 432x288 with 1 Axes>"
      ]
     },
     "metadata": {
      "needs_background": "light"
     },
     "output_type": "display_data"
    }
   ],
   "source": [
    "sns.countplot(x='color', data=diamonds,\n",
    "              order=diamonds.color.value_counts()[:4].index\n",
    "             );"
   ]
  },
  {
   "cell_type": "markdown",
   "id": "e6600f22",
   "metadata": {},
   "source": [
    "## hue order"
   ]
  },
  {
   "cell_type": "code",
   "execution_count": 57,
   "id": "969d46f8",
   "metadata": {},
   "outputs": [
    {
     "data": {
      "image/png": "[encoded data removed]",
      "text/plain": [
       "<Figure size 432x288 with 1 Axes>"
      ]
     },
     "metadata": {
      "needs_background": "light"
     },
     "output_type": "display_data"
    }
   ],
   "source": [
    "sns.countplot(x='color', data=diamonds, hue='clarity', hue_order=['SI1', 'VS2']);"
   ]
  },
  {
   "cell_type": "markdown",
   "id": "673452f0",
   "metadata": {},
   "source": [
    "## styling"
   ]
  },
  {
   "cell_type": "code",
   "execution_count": 60,
   "id": "ee78a07b",
   "metadata": {},
   "outputs": [
    {
     "data": {
      "image/png": "[encoded data removed]",
      "text/plain": [
       "<Figure size 432x288 with 1 Axes>"
      ]
     },
     "metadata": {},
     "output_type": "display_data"
    }
   ],
   "source": [
    "sns.set_style('darkgrid')\n",
    "sns.countplot(x='color', data=diamonds, color='skyblue');"
   ]
  },
  {
   "cell_type": "code",
   "execution_count": 61,
   "id": "7743035c",
   "metadata": {},
   "outputs": [
    {
     "data": {
      "image/png": "[encoded data removed]",
      "text/plain": [
       "<Figure size 432x288 with 1 Axes>"
      ]
     },
     "metadata": {},
     "output_type": "display_data"
    }
   ],
   "source": [
    "sns.countplot(x='color', data=diamonds, palette='twilight');"
   ]
  },
  {
   "cell_type": "code",
   "execution_count": 62,
   "id": "eb07bf5d",
   "metadata": {},
   "outputs": [
    {
     "data": {
      "image/png": "[encoded data removed]",
      "text/plain": [
       "<Figure size 432x288 with 1 Axes>"
      ]
     },
     "metadata": {},
     "output_type": "display_data"
    }
   ],
   "source": [
    "sns.countplot(x='color', data=diamonds, lw=4, ec='black', hatch='/');"
   ]
  },
  {
   "cell_type": "code",
   "execution_count": 63,
   "id": "0dd96df1",
   "metadata": {},
   "outputs": [
    {
     "data": {
      "image/png": "[encoded data removed]",
      "text/plain": [
       "<Figure size 432x288 with 1 Axes>"
      ]
     },
     "metadata": {},
     "output_type": "display_data"
    }
   ],
   "source": [
    "sns.set(style='darkgrid', font_scale=1.3)\n",
    "sns.countplot(x='cut', data=diamonds, color='navy', lw=3)\n",
    "\n",
    "plt.xlabel('')\n",
    "plt.ylabel('Count')\n",
    "\n",
    "plt.tight_layout()\n",
    "#plt.savefig('20countplot_image_countplotExample.png', dpi=200);"
   ]
  },
  {
   "cell_type": "markdown",
   "id": "00d0328a",
   "metadata": {},
   "source": [
    "## EXAMPLES"
   ]
  },
  {
   "cell_type": "code",
   "execution_count": 69,
   "id": "3a8681ee",
   "metadata": {},
   "outputs": [],
   "source": [
    "sns.set_style('white')"
   ]
  },
  {
   "cell_type": "code",
   "execution_count": 70,
   "id": "2bfbe73c",
   "metadata": {},
   "outputs": [],
   "source": [
    "countries = {\n",
    "    'country': ['Turkey', 'Cameroon', 'Albania', 'Brazil', 'Poland', 'Canada', 'Japan', 'Fiji'], \n",
    "    'capital': ['[Ankara]', '[Yaounde]', '[Tirana]', '[Brasilia]', '[Warsaw]', '[Ottawa]', '[Tokyo]', '[Suva]'], \n",
    "    'continent': ['Europe/Asia', 'Africa', 'Europe', 'South America', 'Europe', 'North America', 'Asia', 'Australia/Oceania'],\n",
    "    'population': [84339067, 26545863, 2877797, 212559417, 37846611, 37742154, 126476461, 896444],\n",
    "    'land area': [769630, 472710, 27400, 8358140, 306230, 9093510, 364555, 18270],\n",
    "    'density': [109, 56, 105, 25, 124, 4, 346, 49],\n",
    "    'ocean_coast': ['False', 'True', 'False', 'True', 'False', 'True', 'True', 'True']\n",
    "}"
   ]
  },
  {
   "cell_type": "code",
   "execution_count": 71,
   "id": "4f4c77e8",
   "metadata": {},
   "outputs": [
    {
     "data": {
      "text/html": [
       "<div>\n",
       "<style scoped>\n",
       "    .dataframe tbody tr th:only-of-type {\n",
       "        vertical-align: middle;\n",
       "    }\n",
       "\n",
       "    .dataframe tbody tr th {\n",
       "        vertical-align: top;\n",
       "    }\n",
       "\n",
       "    .dataframe thead th {\n",
       "        text-align: right;\n",
       "    }\n",
       "</style>\n",
       "<table border=\"1\" class=\"dataframe\">\n",
       "  <thead>\n",
       "    <tr style=\"text-align: right;\">\n",
       "      <th></th>\n",
       "      <th>country</th>\n",
       "      <th>capital</th>\n",
       "      <th>continent</th>\n",
       "      <th>population</th>\n",
       "      <th>land area</th>\n",
       "      <th>density</th>\n",
       "      <th>ocean_coast</th>\n",
       "    </tr>\n",
       "  </thead>\n",
       "  <tbody>\n",
       "    <tr>\n",
       "      <th>0</th>\n",
       "      <td>Turkey</td>\n",
       "      <td>[Ankara]</td>\n",
       "      <td>Europe/Asia</td>\n",
       "      <td>84339067</td>\n",
       "      <td>769630</td>\n",
       "      <td>109</td>\n",
       "      <td>False</td>\n",
       "    </tr>\n",
       "    <tr>\n",
       "      <th>1</th>\n",
       "      <td>Cameroon</td>\n",
       "      <td>[Yaounde]</td>\n",
       "      <td>Africa</td>\n",
       "      <td>26545863</td>\n",
       "      <td>472710</td>\n",
       "      <td>56</td>\n",
       "      <td>True</td>\n",
       "    </tr>\n",
       "    <tr>\n",
       "      <th>2</th>\n",
       "      <td>Albania</td>\n",
       "      <td>[Tirana]</td>\n",
       "      <td>Europe</td>\n",
       "      <td>2877797</td>\n",
       "      <td>27400</td>\n",
       "      <td>105</td>\n",
       "      <td>False</td>\n",
       "    </tr>\n",
       "    <tr>\n",
       "      <th>3</th>\n",
       "      <td>Brazil</td>\n",
       "      <td>[Brasilia]</td>\n",
       "      <td>South America</td>\n",
       "      <td>212559417</td>\n",
       "      <td>8358140</td>\n",
       "      <td>25</td>\n",
       "      <td>True</td>\n",
       "    </tr>\n",
       "    <tr>\n",
       "      <th>4</th>\n",
       "      <td>Poland</td>\n",
       "      <td>[Warsaw]</td>\n",
       "      <td>Europe</td>\n",
       "      <td>37846611</td>\n",
       "      <td>306230</td>\n",
       "      <td>124</td>\n",
       "      <td>False</td>\n",
       "    </tr>\n",
       "    <tr>\n",
       "      <th>5</th>\n",
       "      <td>Canada</td>\n",
       "      <td>[Ottawa]</td>\n",
       "      <td>North America</td>\n",
       "      <td>37742154</td>\n",
       "      <td>9093510</td>\n",
       "      <td>4</td>\n",
       "      <td>True</td>\n",
       "    </tr>\n",
       "    <tr>\n",
       "      <th>6</th>\n",
       "      <td>Japan</td>\n",
       "      <td>[Tokyo]</td>\n",
       "      <td>Asia</td>\n",
       "      <td>126476461</td>\n",
       "      <td>364555</td>\n",
       "      <td>346</td>\n",
       "      <td>True</td>\n",
       "    </tr>\n",
       "    <tr>\n",
       "      <th>7</th>\n",
       "      <td>Fiji</td>\n",
       "      <td>[Suva]</td>\n",
       "      <td>Australia/Oceania</td>\n",
       "      <td>896444</td>\n",
       "      <td>18270</td>\n",
       "      <td>49</td>\n",
       "      <td>True</td>\n",
       "    </tr>\n",
       "  </tbody>\n",
       "</table>\n",
       "</div>"
      ],
      "text/plain": [
       "    country     capital          continent  population  land area  density  \\\n",
       "0    Turkey    [Ankara]        Europe/Asia    84339067     769630      109   \n",
       "1  Cameroon   [Yaounde]             Africa    26545863     472710       56   \n",
       "2   Albania    [Tirana]             Europe     2877797      27400      105   \n",
       "3    Brazil  [Brasilia]      South America   212559417    8358140       25   \n",
       "4    Poland    [Warsaw]             Europe    37846611     306230      124   \n",
       "5    Canada    [Ottawa]      North America    37742154    9093510        4   \n",
       "6     Japan     [Tokyo]               Asia   126476461     364555      346   \n",
       "7      Fiji      [Suva]  Australia/Oceania      896444      18270       49   \n",
       "\n",
       "  ocean_coast  \n",
       "0       False  \n",
       "1        True  \n",
       "2       False  \n",
       "3        True  \n",
       "4       False  \n",
       "5        True  \n",
       "6        True  \n",
       "7        True  "
      ]
     },
     "execution_count": 71,
     "metadata": {},
     "output_type": "execute_result"
    }
   ],
   "source": [
    "df = pd.DataFrame(countries)\n",
    "df"
   ]
  },
  {
   "cell_type": "code",
   "execution_count": 72,
   "id": "86675909",
   "metadata": {},
   "outputs": [
    {
     "data": {
      "image/png": "[encoded data removed]",
      "text/plain": [
       "<Figure size 360x432 with 1 Axes>"
      ]
     },
     "metadata": {},
     "output_type": "display_data"
    }
   ],
   "source": [
    "plt.figure(figsize=(5, 6))\n",
    "\n",
    "sns.countplot(x='ocean_coast', data=df, ec='black', lw=3, palette=['darkred', '#2F8F8F'])\n",
    "\n",
    "plt.yticks([0, 1, 2, 3, 4])\n",
    "plt.ylabel('Count', labelpad=20)\n",
    "\n",
    "sns.despine()\n",
    "\n",
    "plt.tight_layout()\n",
    "#plt.savefig('21countplot_figure_dogsCats.svg');"
   ]
  },
  {
   "cell_type": "markdown",
   "id": "3cc2244e",
   "metadata": {},
   "source": [
    "## Thumb"
   ]
  },
  {
   "cell_type": "code",
   "execution_count": 73,
   "id": "7c5126d8",
   "metadata": {},
   "outputs": [
    {
     "data": {
      "image/png": "[encoded data removed]",
      "text/plain": [
       "<Figure size 504x288 with 1 Axes>"
      ]
     },
     "metadata": {},
     "output_type": "display_data"
    }
   ],
   "source": [
    "plt.figure(figsize=(7,4))\n",
    "sns.set(style='white', font_scale=1.2)\n",
    "ax = sns.countplot(x='color', data=diamonds, \n",
    "                   hue='clarity', hue_order=['SI1', 'VS2'], \n",
    "                   palette=['#2F8F8F', 'lightgray'])\n",
    "ax.legend([], frameon=False)\n",
    "sns.despine()\n",
    "\n",
    "plt.xlabel('')\n",
    "plt.ylabel('Count', labelpad=10)\n",
    "plt.tight_layout()\n",
    "#plt.savefig('21countplot_image_thumb.png', dpi=200);"
   ]
  },
  {
   "cell_type": "markdown",
   "id": "18a3d3e0",
   "metadata": {},
   "source": [
    "## differences between barplot and countplot"
   ]
  },
  {
   "cell_type": "code",
   "execution_count": 75,
   "id": "39be3a6a",
   "metadata": {},
   "outputs": [
    {
     "data": {
      "image/png": "[encoded data removed]",
      "text/plain": [
       "<Figure size 864x288 with 2 Axes>"
      ]
     },
     "metadata": {},
     "output_type": "display_data"
    }
   ],
   "source": [
    "fig, ax = plt.subplots(1,2, figsize=(12,4))\n",
    "\n",
    "sns.barplot(x=\"day\", y=\"total_bill\", data=tips, ax = ax[0])\n",
    "sns.countplot(x=\"day\", data=tips, ax = ax[1])\n",
    "\n",
    "plt.tight_layout()"
   ]
  },
  {
   "cell_type": "code",
   "execution_count": 76,
   "id": "6dc5f652",
   "metadata": {},
   "outputs": [
    {
     "data": {
      "image/png": "[encoded data removed]",
      "text/plain": [
       "<Figure size 864x288 with 2 Axes>"
      ]
     },
     "metadata": {},
     "output_type": "display_data"
    }
   ],
   "source": [
    "fig, ax = plt.subplots(1,2, figsize=(12,4))\n",
    "\n",
    "sns.barplot(x=\"day\", y=\"total_bill\", data=tips, ax = ax[0], estimator=np.sum)   \n",
    "# estimator param (np.mean, np.median, np.sum, np,maz, np.min, np.count_nonzero)\n",
    "sns.countplot(x=\"day\", data=tips, ax = ax[1])\n",
    "\n",
    "plt.tight_layout()"
   ]
  },
  {
   "cell_type": "code",
   "execution_count": null,
   "id": "59bcf542",
   "metadata": {},
   "outputs": [],
   "source": []
  }
 ],
 "metadata": {
  "kernelspec": {
   "display_name": "Python 3 (ipykernel)",
   "language": "python",
   "name": "python3"
  },
  "language_info": {
   "codemirror_mode": {
    "name": "ipython",
    "version": 3
   },
   "file_extension": ".py",
   "mimetype": "text/x-python",
   "name": "python",
   "nbconvert_exporter": "python",
   "pygments_lexer": "ipython3",
   "version": "3.9.6"
  }
 },
 "nbformat": 4,
 "nbformat_minor": 5
}
