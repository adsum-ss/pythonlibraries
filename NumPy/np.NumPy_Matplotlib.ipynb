{
 "cells": [
  {
   "cell_type": "code",
   "execution_count": 1,
   "id": "9306401b",
   "metadata": {},
   "outputs": [],
   "source": [
    "import numpy as np"
   ]
  },
  {
   "cell_type": "code",
   "execution_count": 2,
   "id": "2155c622",
   "metadata": {},
   "outputs": [],
   "source": [
    "import matplotlib.pyplot as plt\n",
    "%matplotlib inline"
   ]
  },
  {
   "cell_type": "code",
   "execution_count": null,
   "id": "5a6352f6",
   "metadata": {},
   "outputs": [],
   "source": [
    "# axis 1 = y axis, column, feature\n",
    "# axis 0 = x axis, row, observation"
   ]
  },
  {
   "cell_type": "code",
   "execution_count": 3,
   "id": "4c70ea4c",
   "metadata": {},
   "outputs": [
    {
     "data": {
      "text/plain": [
       "<matplotlib.image.AxesImage at 0x232a26df640>"
      ]
     },
     "execution_count": 3,
     "metadata": {},
     "output_type": "execute_result"
    },
    {
     "data": {
      "image/png": "[encoded data removed]",
      "text/plain": [
       "<Figure size 432x288 with 1 Axes>"
      ]
     },
     "metadata": {
      "needs_background": "light"
     },
     "output_type": "display_data"
    }
   ],
   "source": [
    "a = np.full((32,32,3),255,dtype=int)\n",
    "a[:,:,0]=0\n",
    "a[:,:,1]=0\n",
    "a[:,:,2]=0\n",
    "plt.imshow(a)"
   ]
  },
  {
   "cell_type": "code",
   "execution_count": 4,
   "id": "4766074e",
   "metadata": {},
   "outputs": [
    {
     "data": {
      "text/plain": [
       "<matplotlib.image.AxesImage at 0x232a47dec40>"
      ]
     },
     "execution_count": 4,
     "metadata": {},
     "output_type": "execute_result"
    },
    {
     "data": {
      "image/png": "[encoded data removed]",
      "text/plain": [
       "<Figure size 432x288 with 1 Axes>"
      ]
     },
     "metadata": {
      "needs_background": "light"
     },
     "output_type": "display_data"
    }
   ],
   "source": [
    "a = np.full((32,32,3),255,dtype=int)\n",
    "a[:,:,0]=0         # red\n",
    "a[:,:,1]=255       # green\n",
    "a[:,:,2]=0         # blue\n",
    "plt.imshow(a)"
   ]
  },
  {
   "cell_type": "code",
   "execution_count": 5,
   "id": "ab64442d",
   "metadata": {},
   "outputs": [
    {
     "data": {
      "text/plain": [
       "<matplotlib.image.AxesImage at 0x232a48592e0>"
      ]
     },
     "execution_count": 5,
     "metadata": {},
     "output_type": "execute_result"
    },
    {
     "data": {
      "image/png": "[encoded data removed]",
      "text/plain": [
       "<Figure size 432x288 with 1 Axes>"
      ]
     },
     "metadata": {
      "needs_background": "light"
     },
     "output_type": "display_data"
    }
   ],
   "source": [
    "a = np.full((32,32,3),255,dtype=int)\n",
    "a[:,:,0]=255        # red\n",
    "a[:,:,1]=255       # green\n",
    "a[:,:,2]=0         # blue\n",
    "plt.imshow(a)"
   ]
  },
  {
   "cell_type": "code",
   "execution_count": null,
   "id": "694ed92b",
   "metadata": {},
   "outputs": [],
   "source": []
  },
  {
   "cell_type": "code",
   "execution_count": 5,
   "id": "b0140d90",
   "metadata": {},
   "outputs": [
    {
     "data": {
      "text/plain": [
       "array([[0.6222334 , 0.12562085, 0.33874557, 0.08263874, 0.71208508],\n",
       "       [0.78049797, 0.88777491, 0.50638654, 0.60448434, 0.95559973],\n",
       "       [0.49059625, 0.98050962, 0.54711542, 0.30776295, 0.86323735],\n",
       "       [0.03233437, 0.06142565, 0.20881455, 0.95566384, 0.42259228],\n",
       "       [0.80014172, 0.42286167, 0.03766356, 0.05351967, 0.13843704]])"
      ]
     },
     "execution_count": 5,
     "metadata": {},
     "output_type": "execute_result"
    }
   ],
   "source": [
    "rand_float = np.random.rand(5,5)\n",
    "rand_float"
   ]
  },
  {
   "cell_type": "code",
   "execution_count": 8,
   "id": "2bfa3f9e",
   "metadata": {},
   "outputs": [
    {
     "data": {
      "text/plain": [
       "(array([[1., 0., 0., 0., 1., 0., 1., 1., 1., 0.],\n",
       "        [2., 0., 0., 0., 1., 0., 0., 0., 0., 2.],\n",
       "        [1., 1., 0., 1., 1., 1., 0., 0., 0., 0.],\n",
       "        [2., 0., 1., 0., 0., 0., 1., 0., 0., 1.],\n",
       "        [0., 1., 0., 0., 1., 0., 0., 1., 1., 1.]]),\n",
       " array([0.03233437, 0.1271519 , 0.22196942, 0.31678695, 0.41160447,\n",
       "        0.506422  , 0.60123952, 0.69605705, 0.79087457, 0.8856921 ,\n",
       "        0.98050962]),\n",
       " <a list of 5 BarContainer objects>)"
      ]
     },
     "execution_count": 8,
     "metadata": {},
     "output_type": "execute_result"
    },
    {
     "data": {
      "image/png": "[encoded data removed]",
      "text/plain": [
       "<Figure size 432x288 with 1 Axes>"
      ]
     },
     "metadata": {
      "needs_background": "light"
     },
     "output_type": "display_data"
    }
   ],
   "source": [
    "plt.hist(rand_float)"
   ]
  },
  {
   "cell_type": "code",
   "execution_count": 9,
   "id": "59b2fd4a",
   "metadata": {},
   "outputs": [
    {
     "data": {
      "image/png": "[encoded data removed]",
      "text/plain": [
       "<Figure size 432x288 with 1 Axes>"
      ]
     },
     "metadata": {
      "needs_background": "light"
     },
     "output_type": "display_data"
    }
   ],
   "source": [
    "arr = np.random.rand(99999)  \n",
    "plt.hist(arr, bins=100); \n",
    "# Create an array of the given shape and populate it with random samples from a \"uniform distribution\" over [0, 1)."
   ]
  },
  {
   "cell_type": "code",
   "execution_count": 10,
   "id": "af674191",
   "metadata": {},
   "outputs": [
    {
     "data": {
      "image/png": "[encoded data removed]",
      "text/plain": [
       "<Figure size 432x288 with 1 Axes>"
      ]
     },
     "metadata": {
      "needs_background": "light"
     },
     "output_type": "display_data"
    }
   ],
   "source": [
    "arr_n = np.random.randn(99999)\n",
    "plt.hist(arr_n, bins=100)  \n",
    "plt.show()\n",
    "# Return a sample (or samples) from the “standard normal” distribution."
   ]
  },
  {
   "cell_type": "code",
   "execution_count": null,
   "id": "a2914cde",
   "metadata": {},
   "outputs": [],
   "source": []
  }
 ],
 "metadata": {
  "kernelspec": {
   "display_name": "Python 3 (ipykernel)",
   "language": "python",
   "name": "python3"
  },
  "language_info": {
   "codemirror_mode": {
    "name": "ipython",
    "version": 3
   },
   "file_extension": ".py",
   "mimetype": "text/x-python",
   "name": "python",
   "nbconvert_exporter": "python",
   "pygments_lexer": "ipython3",
   "version": "3.9.6"
  }
 },
 "nbformat": 4,
 "nbformat_minor": 5
}
