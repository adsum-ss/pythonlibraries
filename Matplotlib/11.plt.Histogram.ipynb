{
 "cells": [
  {
   "cell_type": "code",
   "execution_count": 1,
   "id": "6dce9c8e",
   "metadata": {},
   "outputs": [],
   "source": [
    "# Basic Library\n",
    "import numpy as np\n",
    "import pandas as pd\n",
    "\n",
    "# Libraries for Visualization\n",
    "import matplotlib.pyplot as plt\n",
    "%matplotlib inline\n",
    "import seaborn as sns\n",
    "\n",
    "import warnings;\n",
    "warnings.filterwarnings('ignore')"
   ]
  },
  {
   "cell_type": "markdown",
   "id": "0f0d73cc",
   "metadata": {},
   "source": [
    "### In histograms, x axis contains a variable and y axis will be a frequency of that variable\n",
    "\n",
    " <i>matplotlib.pyplot.hist(x, bins=None, range=None, density=False, weights=None, cumulative=False, bottom=None, \n",
    "                           histtype='bar', align='mid', orientation='vertical', rwidth=None, log=False, color=None, \n",
    "                           label=None, stacked=False, *, data=None, **kwargs)"
   ]
  },
  {
   "cell_type": "code",
   "execution_count": 2,
   "id": "13d39d09",
   "metadata": {},
   "outputs": [
    {
     "data": {
      "image/png": "[encoded data removed]",
      "text/plain": [
       "<Figure size 432x288 with 1 Axes>"
      ]
     },
     "metadata": {
      "needs_background": "light"
     },
     "output_type": "display_data"
    }
   ],
   "source": [
    "# Fixing random state for reproducibility\n",
    "np.random.seed(19680801)\n",
    "\n",
    "mu, sigma = 100, 15\n",
    "x = mu + sigma * np.random.randn(10000)\n",
    "\n",
    "# the histogram of the data\n",
    "n, bins, patches = plt.hist(x, 50, density=True, facecolor='g', alpha=0.75)\n",
    "\n",
    "\n",
    "plt.xlabel('Smarts')\n",
    "plt.ylabel('Probability')\n",
    "plt.title('Histogram of IQ')\n",
    "plt.text(60, .025, r'$\\mu=100,\\ \\sigma=15$')\n",
    "plt.xlim(40, 160)\n",
    "plt.ylim(0, 0.03)\n",
    "plt.grid(True)\n",
    "plt.show()"
   ]
  },
  {
   "cell_type": "code",
   "execution_count": 8,
   "id": "f33c97ad",
   "metadata": {},
   "outputs": [
    {
     "data": {
      "text/html": [
       "<div>\n",
       "<style scoped>\n",
       "    .dataframe tbody tr th:only-of-type {\n",
       "        vertical-align: middle;\n",
       "    }\n",
       "\n",
       "    .dataframe tbody tr th {\n",
       "        vertical-align: top;\n",
       "    }\n",
       "\n",
       "    .dataframe thead th {\n",
       "        text-align: right;\n",
       "    }\n",
       "</style>\n",
       "<table border=\"1\" class=\"dataframe\">\n",
       "  <thead>\n",
       "    <tr style=\"text-align: right;\">\n",
       "      <th></th>\n",
       "      <th>Player</th>\n",
       "      <th>Club</th>\n",
       "      <th>Number</th>\n",
       "      <th>Position</th>\n",
       "      <th>Country</th>\n",
       "      <th>Age</th>\n",
       "      <th>Height</th>\n",
       "      <th>Games</th>\n",
       "      <th>Minutes</th>\n",
       "      <th>Points</th>\n",
       "      <th>Rebounds</th>\n",
       "      <th>Assists</th>\n",
       "      <th>Steals</th>\n",
       "      <th>Turnovers</th>\n",
       "      <th>Blocks</th>\n",
       "    </tr>\n",
       "  </thead>\n",
       "  <tbody>\n",
       "    <tr>\n",
       "      <th>0</th>\n",
       "      <td>Adam Hanga</td>\n",
       "      <td>FC Barcelona</td>\n",
       "      <td>8</td>\n",
       "      <td>Forward</td>\n",
       "      <td>Hungary</td>\n",
       "      <td>31</td>\n",
       "      <td>200</td>\n",
       "      <td>41</td>\n",
       "      <td>652</td>\n",
       "      <td>190</td>\n",
       "      <td>90</td>\n",
       "      <td>69</td>\n",
       "      <td>32</td>\n",
       "      <td>48</td>\n",
       "      <td>11</td>\n",
       "    </tr>\n",
       "    <tr>\n",
       "      <th>1</th>\n",
       "      <td>Adrien Moerman</td>\n",
       "      <td>Anadolu Efes</td>\n",
       "      <td>18</td>\n",
       "      <td>Forward</td>\n",
       "      <td>France</td>\n",
       "      <td>32</td>\n",
       "      <td>202</td>\n",
       "      <td>41</td>\n",
       "      <td>841</td>\n",
       "      <td>263</td>\n",
       "      <td>189</td>\n",
       "      <td>45</td>\n",
       "      <td>24</td>\n",
       "      <td>39</td>\n",
       "      <td>6</td>\n",
       "    </tr>\n",
       "    <tr>\n",
       "      <th>2</th>\n",
       "      <td>Alex Abrines</td>\n",
       "      <td>FC Barcelona</td>\n",
       "      <td>21</td>\n",
       "      <td>Forward</td>\n",
       "      <td>Spain</td>\n",
       "      <td>27</td>\n",
       "      <td>198</td>\n",
       "      <td>39</td>\n",
       "      <td>730</td>\n",
       "      <td>237</td>\n",
       "      <td>72</td>\n",
       "      <td>26</td>\n",
       "      <td>22</td>\n",
       "      <td>13</td>\n",
       "      <td>8</td>\n",
       "    </tr>\n",
       "    <tr>\n",
       "      <th>3</th>\n",
       "      <td>Alexander Khomenko</td>\n",
       "      <td>CSKA Moscow</td>\n",
       "      <td>4</td>\n",
       "      <td>Guard</td>\n",
       "      <td>Russia</td>\n",
       "      <td>21</td>\n",
       "      <td>192</td>\n",
       "      <td>16</td>\n",
       "      <td>100</td>\n",
       "      <td>32</td>\n",
       "      <td>4</td>\n",
       "      <td>4</td>\n",
       "      <td>0</td>\n",
       "      <td>8</td>\n",
       "      <td>0</td>\n",
       "    </tr>\n",
       "    <tr>\n",
       "      <th>4</th>\n",
       "      <td>Andrea Cinciarini</td>\n",
       "      <td>AX Armani Exchange Milan</td>\n",
       "      <td>20</td>\n",
       "      <td>Guard</td>\n",
       "      <td>Italy</td>\n",
       "      <td>34</td>\n",
       "      <td>193</td>\n",
       "      <td>8</td>\n",
       "      <td>19</td>\n",
       "      <td>0</td>\n",
       "      <td>2</td>\n",
       "      <td>2</td>\n",
       "      <td>0</td>\n",
       "      <td>2</td>\n",
       "      <td>0</td>\n",
       "    </tr>\n",
       "    <tr>\n",
       "      <th>...</th>\n",
       "      <td>...</td>\n",
       "      <td>...</td>\n",
       "      <td>...</td>\n",
       "      <td>...</td>\n",
       "      <td>...</td>\n",
       "      <td>...</td>\n",
       "      <td>...</td>\n",
       "      <td>...</td>\n",
       "      <td>...</td>\n",
       "      <td>...</td>\n",
       "      <td>...</td>\n",
       "      <td>...</td>\n",
       "      <td>...</td>\n",
       "      <td>...</td>\n",
       "      <td>...</td>\n",
       "    </tr>\n",
       "    <tr>\n",
       "      <th>61</th>\n",
       "      <td>Vladimir Micov</td>\n",
       "      <td>AX Armani Exchange Milan</td>\n",
       "      <td>5</td>\n",
       "      <td>Forward</td>\n",
       "      <td>Serbia</td>\n",
       "      <td>35</td>\n",
       "      <td>201</td>\n",
       "      <td>30</td>\n",
       "      <td>573</td>\n",
       "      <td>184</td>\n",
       "      <td>47</td>\n",
       "      <td>30</td>\n",
       "      <td>19</td>\n",
       "      <td>26</td>\n",
       "      <td>2</td>\n",
       "    </tr>\n",
       "    <tr>\n",
       "      <th>62</th>\n",
       "      <td>Victor Claver</td>\n",
       "      <td>FC Barcelona</td>\n",
       "      <td>30</td>\n",
       "      <td>Forward</td>\n",
       "      <td>Spain</td>\n",
       "      <td>32</td>\n",
       "      <td>208</td>\n",
       "      <td>15</td>\n",
       "      <td>190</td>\n",
       "      <td>34</td>\n",
       "      <td>28</td>\n",
       "      <td>4</td>\n",
       "      <td>6</td>\n",
       "      <td>6</td>\n",
       "      <td>2</td>\n",
       "    </tr>\n",
       "    <tr>\n",
       "      <th>63</th>\n",
       "      <td>Will Clyburn</td>\n",
       "      <td>CSKA Moscow</td>\n",
       "      <td>21</td>\n",
       "      <td>Forward</td>\n",
       "      <td>USA</td>\n",
       "      <td>30</td>\n",
       "      <td>201</td>\n",
       "      <td>31</td>\n",
       "      <td>815</td>\n",
       "      <td>434</td>\n",
       "      <td>117</td>\n",
       "      <td>48</td>\n",
       "      <td>24</td>\n",
       "      <td>49</td>\n",
       "      <td>6</td>\n",
       "    </tr>\n",
       "    <tr>\n",
       "      <th>64</th>\n",
       "      <td>Yigitcan Saybir</td>\n",
       "      <td>Anadolu Efes</td>\n",
       "      <td>3</td>\n",
       "      <td>Forward</td>\n",
       "      <td>Turkey</td>\n",
       "      <td>21</td>\n",
       "      <td>203</td>\n",
       "      <td>2</td>\n",
       "      <td>5</td>\n",
       "      <td>2</td>\n",
       "      <td>1</td>\n",
       "      <td>0</td>\n",
       "      <td>0</td>\n",
       "      <td>0</td>\n",
       "      <td>0</td>\n",
       "    </tr>\n",
       "    <tr>\n",
       "      <th>65</th>\n",
       "      <td>Zach Leday</td>\n",
       "      <td>AX Armani Exchange Milan</td>\n",
       "      <td>2</td>\n",
       "      <td>Center</td>\n",
       "      <td>USA</td>\n",
       "      <td>26</td>\n",
       "      <td>202</td>\n",
       "      <td>36</td>\n",
       "      <td>889</td>\n",
       "      <td>360</td>\n",
       "      <td>163</td>\n",
       "      <td>23</td>\n",
       "      <td>20</td>\n",
       "      <td>32</td>\n",
       "      <td>12</td>\n",
       "    </tr>\n",
       "  </tbody>\n",
       "</table>\n",
       "<p>66 rows × 15 columns</p>\n",
       "</div>"
      ],
      "text/plain": [
       "                Player                      Club  Number Position  Country  \\\n",
       "0           Adam Hanga              FC Barcelona       8  Forward  Hungary   \n",
       "1       Adrien Moerman              Anadolu Efes      18  Forward   France   \n",
       "2         Alex Abrines              FC Barcelona      21  Forward    Spain   \n",
       "3   Alexander Khomenko               CSKA Moscow       4    Guard   Russia   \n",
       "4    Andrea Cinciarini  AX Armani Exchange Milan      20    Guard    Italy   \n",
       "..                 ...                       ...     ...      ...      ...   \n",
       "61      Vladimir Micov  AX Armani Exchange Milan       5  Forward   Serbia   \n",
       "62       Victor Claver              FC Barcelona      30  Forward    Spain   \n",
       "63        Will Clyburn               CSKA Moscow      21  Forward      USA   \n",
       "64     Yigitcan Saybir              Anadolu Efes       3  Forward   Turkey   \n",
       "65          Zach Leday  AX Armani Exchange Milan       2   Center      USA   \n",
       "\n",
       "    Age  Height  Games  Minutes  Points  Rebounds  Assists  Steals  Turnovers  \\\n",
       "0    31     200     41      652     190        90       69      32         48   \n",
       "1    32     202     41      841     263       189       45      24         39   \n",
       "2    27     198     39      730     237        72       26      22         13   \n",
       "3    21     192     16      100      32         4        4       0          8   \n",
       "4    34     193      8       19       0         2        2       0          2   \n",
       "..  ...     ...    ...      ...     ...       ...      ...     ...        ...   \n",
       "61   35     201     30      573     184        47       30      19         26   \n",
       "62   32     208     15      190      34        28        4       6          6   \n",
       "63   30     201     31      815     434       117       48      24         49   \n",
       "64   21     203      2        5       2         1        0       0          0   \n",
       "65   26     202     36      889     360       163       23      20         32   \n",
       "\n",
       "    Blocks  \n",
       "0       11  \n",
       "1        6  \n",
       "2        8  \n",
       "3        0  \n",
       "4        0  \n",
       "..     ...  \n",
       "61       2  \n",
       "62       2  \n",
       "63       6  \n",
       "64       0  \n",
       "65      12  \n",
       "\n",
       "[66 rows x 15 columns]"
      ]
     },
     "execution_count": 8,
     "metadata": {},
     "output_type": "execute_result"
    }
   ],
   "source": [
    "df = pd.read_csv(\"..\\Data\\Final_Four 2020-2021.csv\")\n",
    "df"
   ]
  },
  {
   "cell_type": "code",
   "execution_count": 15,
   "id": "d04a5c74",
   "metadata": {},
   "outputs": [
    {
     "data": {
      "image/png": "[encoded data removed]",
      "text/plain": [
       "<Figure size 432x288 with 1 Axes>"
      ]
     },
     "metadata": {
      "needs_background": "light"
     },
     "output_type": "display_data"
    }
   ],
   "source": [
    "# WITH PANDAS\n",
    "\n",
    "df['Minutes'].hist();"
   ]
  },
  {
   "cell_type": "code",
   "execution_count": 17,
   "id": "ec9d5daf",
   "metadata": {},
   "outputs": [
    {
     "data": {
      "image/png": "[encoded data removed]",
      "text/plain": [
       "<Figure size 432x288 with 1 Axes>"
      ]
     },
     "metadata": {
      "needs_background": "light"
     },
     "output_type": "display_data"
    }
   ],
   "source": [
    "# WITH MATPLOTLIB\n",
    "\n",
    "plt.hist(df['Minutes'], bins=50)\n",
    "plt.show()"
   ]
  },
  {
   "cell_type": "code",
   "execution_count": 24,
   "id": "b31ce9f4",
   "metadata": {},
   "outputs": [
    {
     "data": {
      "image/png": "[encoded data removed]",
      "text/plain": [
       "<Figure size 432x288 with 1 Axes>"
      ]
     },
     "metadata": {
      "needs_background": "light"
     },
     "output_type": "display_data"
    }
   ],
   "source": [
    "plt.hist(df['Minutes'], rwidth=0.95, color='orange')\n",
    "plt.show()"
   ]
  },
  {
   "cell_type": "code",
   "execution_count": 28,
   "id": "dccd0b43",
   "metadata": {},
   "outputs": [
    {
     "data": {
      "image/png": "[encoded data removed]",
      "text/plain": [
       "<Figure size 432x288 with 1 Axes>"
      ]
     },
     "metadata": {
      "needs_background": "light"
     },
     "output_type": "display_data"
    }
   ],
   "source": [
    "plt.hist(df['Minutes'], rwidth=0.95, color='orange', histtype='step')\n",
    "plt.show()"
   ]
  },
  {
   "cell_type": "markdown",
   "id": "6db8bc2a",
   "metadata": {},
   "source": [
    "### Mutiple data samples in a histogram"
   ]
  },
  {
   "cell_type": "code",
   "execution_count": 37,
   "id": "c88aef72",
   "metadata": {},
   "outputs": [
    {
     "data": {
      "image/png": "[encoded data removed]",
      "text/plain": [
       "<Figure size 432x288 with 1 Axes>"
      ]
     },
     "metadata": {
      "needs_background": "light"
     },
     "output_type": "display_data"
    }
   ],
   "source": [
    "plt.hist([df['Minutes'], df['Points']], rwidth=0.95, color=['green', 'orange']);"
   ]
  },
  {
   "cell_type": "code",
   "execution_count": 39,
   "id": "a3e9ee09",
   "metadata": {},
   "outputs": [
    {
     "data": {
      "image/png": "[encoded data removed]",
      "text/plain": [
       "<Figure size 432x288 with 1 Axes>"
      ]
     },
     "metadata": {
      "needs_background": "light"
     },
     "output_type": "display_data"
    }
   ],
   "source": [
    "blood_sugar_men = [113, 85, 90, 150, 149, 88, 93, 115, 135, 80, 77, 82, 129]\n",
    "blood_sugar_women = [67, 98, 89, 120, 133, 150, 84, 69, 89, 79, 120, 112, 100]\n",
    "\n",
    "plt.xlabel(\"Sugar Level\")\n",
    "plt.ylabel(\"Number Of Patients\")\n",
    "plt.title(\"Blood Sugar Chart\")\n",
    "\n",
    "plt.hist([blood_sugar_men, blood_sugar_women], bins=[80,100,125,150], rwidth=0.95, color=['green', 'orange'],\n",
    "         label=['men', 'women'])\n",
    "plt.legend();"
   ]
  },
  {
   "cell_type": "code",
   "execution_count": 41,
   "id": "56b30b39",
   "metadata": {},
   "outputs": [
    {
     "data": {
      "image/png": "[encoded data removed]",
      "text/plain": [
       "<Figure size 432x288 with 1 Axes>"
      ]
     },
     "metadata": {
      "needs_background": "light"
     },
     "output_type": "display_data"
    }
   ],
   "source": [
    "blood_sugar_men = [113, 85, 90, 150, 149, 88, 93, 115, 135, 80, 77, 82, 129]\n",
    "blood_sugar_women = [67, 98, 89, 120, 133, 150, 84, 69, 89, 79, 120, 112, 100]\n",
    "\n",
    "plt.xlabel(\"Sugar Level\")\n",
    "plt.ylabel(\"Number Of Patients\")\n",
    "plt.title(\"Blood Sugar Chart\")\n",
    "\n",
    "plt.hist([blood_sugar_men, blood_sugar_women], bins=[80,100,125,150], rwidth=0.95, color=['green', 'orange'],\n",
    "         label=['men', 'women'], orientation='horizontal')\n",
    "plt.legend();"
   ]
  },
  {
   "cell_type": "markdown",
   "id": "137f9e3c",
   "metadata": {},
   "source": [
    "## EXAMPLES"
   ]
  },
  {
   "cell_type": "code",
   "execution_count": 42,
   "id": "92fb777e",
   "metadata": {},
   "outputs": [
    {
     "data": {
      "image/png": "[encoded data removed]",
      "text/plain": [
       "<Figure size 432x288 with 1 Axes>"
      ]
     },
     "metadata": {
      "needs_background": "light"
     },
     "output_type": "display_data"
    }
   ],
   "source": [
    "np.random.seed(42)\n",
    "x = np.random.normal(size=1000)\n",
    "\n",
    "plt.hist(x, density=True, bins=30)  # density=False would make counts\n",
    "plt.ylabel('Probability')\n",
    "plt.xlabel('Data');"
   ]
  },
  {
   "cell_type": "code",
   "execution_count": 43,
   "id": "81014dbc",
   "metadata": {},
   "outputs": [
    {
     "data": {
      "image/png": "[encoded data removed]",
      "text/plain": [
       "<Figure size 432x288 with 1 Axes>"
      ]
     },
     "metadata": {
      "needs_background": "light"
     },
     "output_type": "display_data"
    }
   ],
   "source": [
    "q25, q75 = np.percentile(x, [0.25, 0.75])\n",
    "bin_width = 2 * (q75 - q25) * len(x) ** (-1/3)\n",
    "bins = round((x.max() - x.min()) / bin_width)\n",
    "plt.hist(x, bins=bins);"
   ]
  },
  {
   "cell_type": "code",
   "execution_count": null,
   "id": "063401e9",
   "metadata": {},
   "outputs": [],
   "source": []
  }
 ],
 "metadata": {
  "kernelspec": {
   "display_name": "Python 3 (ipykernel)",
   "language": "python",
   "name": "python3"
  },
  "language_info": {
   "codemirror_mode": {
    "name": "ipython",
    "version": 3
   },
   "file_extension": ".py",
   "mimetype": "text/x-python",
   "name": "python",
   "nbconvert_exporter": "python",
   "pygments_lexer": "ipython3",
   "version": "3.9.6"
  }
 },
 "nbformat": 4,
 "nbformat_minor": 5
}
